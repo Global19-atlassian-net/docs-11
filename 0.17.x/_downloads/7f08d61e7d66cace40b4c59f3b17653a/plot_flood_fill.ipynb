{
  "cells": [
    {
      "cell_type": "code",
      "execution_count": null,
      "metadata": {
        "collapsed": false
      },
      "outputs": [],
      "source": [
        "%matplotlib inline"
      ]
    },
    {
      "cell_type": "markdown",
      "metadata": {},
      "source": [
        "\n=========================\nFlood fill (paint bucket)\n=========================\n\nThe flood fill algorithm [1]_ is the equivalent of the \"paint bucket\" tool of\nraster graphics programs (for example The Gimp). Starting from a seed point,\nconnected points of the same value (up to a tolerance parameter) are found.\n\nWith the `morphology.flood_fill` function, the points found by the algorithm\nare set to a new value passed to the function. It is also possible to return\nonly the binary mask of flooded points. The mask can be post-processed with\nother functions, as in the example below.\n\nSince flood fill operates on single-channel images, we transform here the image\nto the HSV (Hue Saturation Value) space in order to flood pixels of similar\nhue.\n\n.. [1] https://en.wikipedia.org/wiki/Flood_fill\n"
      ]
    },
    {
      "cell_type": "code",
      "execution_count": null,
      "metadata": {
        "collapsed": false
      },
      "outputs": [],
      "source": [
        "import matplotlib.pyplot as plt\nimport numpy as np\nfrom skimage import data, color, morphology\n\nimg = data.astronaut()\nimg_hsv = color.rgb2hsv(img)\n\nimg_hsv_copy = np.copy(img_hsv)\n# Fill hue channel with a different color using flood fill\n_ = morphology.flood_fill(img_hsv_copy[..., 0], (313, 160), 0.5,\n                          tolerance=0.016, in_place=True)\n\n# \nmask = morphology.flood(img_hsv[..., 0], (313, 160), tolerance=0.016)\nmask = morphology.remove_small_holes(mask, 40)\nmask = np.logical_and(mask, img_hsv[..., 1] > 0.4)\nmask = morphology.binary_opening(mask, np.ones((3, 3)))\nimg_hsv[mask, 0] = 0.5\n\nfig, ax = plt.subplots(1, 2)\nax[0].imshow(color.hsv2rgb(img_hsv_copy))\nax[0].axis('off')\nax[1].imshow(img)\nax[1].contour(mask)\nax[1].axis('off')\n\nplt.show()"
      ]
    }
  ],
  "metadata": {
    "kernelspec": {
      "display_name": "Python 3",
      "language": "python",
      "name": "python3"
    },
    "language_info": {
      "codemirror_mode": {
        "name": "ipython",
        "version": 3
      },
      "file_extension": ".py",
      "mimetype": "text/x-python",
      "name": "python",
      "nbconvert_exporter": "python",
      "pygments_lexer": "ipython3",
      "version": "3.7.3"
    }
  },
  "nbformat": 4,
  "nbformat_minor": 0
}