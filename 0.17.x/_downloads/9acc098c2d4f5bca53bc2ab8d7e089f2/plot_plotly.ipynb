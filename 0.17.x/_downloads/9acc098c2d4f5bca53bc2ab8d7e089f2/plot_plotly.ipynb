{
  "cells": [
    {
      "cell_type": "code",
      "execution_count": null,
      "metadata": {
        "collapsed": false
      },
      "outputs": [],
      "source": [
        "%matplotlib inline"
      ]
    },
    {
      "cell_type": "markdown",
      "metadata": {},
      "source": [
        "\nA simple scatter plot\n=====================\n\nA scatter plot is created with the plotly library. The figure is interactive,\ninformation are displayed on hover and it is possible to zoom and pan through\nthe figure.\n"
      ]
    },
    {
      "cell_type": "code",
      "execution_count": null,
      "metadata": {
        "collapsed": false
      },
      "outputs": [],
      "source": [
        "import plotly.graph_objs as go\nimport plotly\n\n# Create random data with numpy\nimport numpy as np\n\nN = 200\nrandom_x = np.random.randn(N)\nrandom_y_0 = np.random.randn(N)\nrandom_y_1 = np.random.randn(N) - 1\n\n# Create traces\ntrace_0 = go.Scatter(\n    x=random_x,\n    y=random_y_0,\n    mode='markers',\n    name='Above',\n)\ntrace_1 = go.Scatter(\n    x=random_x,\n    y=random_y_1,\n    mode='markers',\n    name='Below',\n)\n\nfig = go.Figure(data=[trace_0, trace_1])\nplotly.io.show(fig)"
      ]
    }
  ],
  "metadata": {
    "kernelspec": {
      "display_name": "Python 3",
      "language": "python",
      "name": "python3"
    },
    "language_info": {
      "codemirror_mode": {
        "name": "ipython",
        "version": 3
      },
      "file_extension": ".py",
      "mimetype": "text/x-python",
      "name": "python",
      "nbconvert_exporter": "python",
      "pygments_lexer": "ipython3",
      "version": "3.7.3"
    }
  },
  "nbformat": 4,
  "nbformat_minor": 0
}