{
  "metadata": {
    "language_info": {
      "mimetype": "text/x-python",
      "name": "python",
      "pygments_lexer": "ipython3",
      "codemirror_mode": {
        "name": "ipython",
        "version": 3
      },
      "nbconvert_exporter": "python",
      "version": "3.4.2",
      "file_extension": ".py"
    },
    "kernelspec": {
      "language": "python",
      "name": "python3",
      "display_name": "Python 3"
    }
  },
  "cells": [
    {
      "execution_count": null,
      "metadata": {
        "collapsed": false
      },
      "source": [
        "%matplotlib inline"
      ],
      "cell_type": "code",
      "outputs": []
    },
    {
      "metadata": {},
      "source": [
        "\n# Seam Carving\n\n\nThis example demonstrates how images can be resized using seam carving [1]_.\nResizing to a new aspect ratio distorts image contents. Seam carving attempts\nto resize *without* distortion, by removing regions of an image which are less\nimportant. In this example we are using the Sobel filter to signify the\nimportance of each pixel.\n\n.. [1] Shai Avidan and Ariel Shamir\n       \"Seam Carving for Content-Aware Image Resizing\"\n       http://www.cs.jhu.edu/~misha/ReadingSeminar/Papers/Avidan07.pdf\n\n\n"
      ],
      "cell_type": "markdown"
    },
    {
      "execution_count": null,
      "metadata": {
        "collapsed": false
      },
      "source": [
        "from skimage import data, draw\nfrom skimage import transform, util\nimport numpy as np\nfrom skimage import filters, color\nfrom matplotlib import pyplot as plt\n\n\nhl_color = np.array([0, 1, 0])\n\nimg = data.rocket()\nimg = util.img_as_float(img)\neimg = filters.sobel(color.rgb2gray(img))\n\nplt.title('Original Image')\nplt.imshow(img)"
      ],
      "cell_type": "code",
      "outputs": []
    },
    {
      "execution_count": null,
      "metadata": {
        "collapsed": false
      },
      "source": [
        "resized = transform.resize(img, (img.shape[0], img.shape[1] - 200),\n                           mode='reflect')\nplt.figure()\nplt.title('Resized Image')\nplt.imshow(resized)"
      ],
      "cell_type": "code",
      "outputs": []
    },
    {
      "execution_count": null,
      "metadata": {
        "collapsed": false
      },
      "source": [
        "out = transform.seam_carve(img, eimg, 'vertical', 200)\nplt.figure()\nplt.title('Resized using Seam Carving')\nplt.imshow(out)"
      ],
      "cell_type": "code",
      "outputs": []
    },
    {
      "metadata": {},
      "source": [
        "Resizing distorts the rocket and surrounding objects, whereas seam carving\nremoves empty spaces and preserves object proportions.\n\nObject Removal\n--------------\n\nSeam carving can also be used to remove artifacts from images. This\nrequires weighting the artifact with low values. Recall lower weights are\npreferentially removed in seam carving. The following code masks the\nrocket's region with low weights, indicating it should be removed.\n\n"
      ],
      "cell_type": "markdown"
    },
    {
      "execution_count": null,
      "metadata": {
        "collapsed": false
      },
      "source": [
        "masked_img = img.copy()\n\npoly = [(404, 281), (404, 360), (359, 364), (338, 337), (145, 337), (120, 322),\n        (145, 304), (340, 306), (362, 284)]\npr = np.array([p[0] for p in poly])\npc = np.array([p[1] for p in poly])\nrr, cc = draw.polygon(pr, pc)\n\nmasked_img[rr, cc, :] = masked_img[rr, cc, :]*0.5 + hl_color*.5\nplt.figure()\nplt.title('Object Marked')\n\nplt.imshow(masked_img)"
      ],
      "cell_type": "code",
      "outputs": []
    },
    {
      "execution_count": null,
      "metadata": {
        "collapsed": false
      },
      "source": [
        "eimg[rr, cc] -= 1000\n\nplt.figure()\nplt.title('Object Removed')\nout = transform.seam_carve(img, eimg, 'vertical', 90)\nresized = transform.resize(img, out.shape, mode='reflect')\nplt.imshow(out)\nplt.show()"
      ],
      "cell_type": "code",
      "outputs": []
    }
  ],
  "nbformat_minor": 0,
  "nbformat": 4
}