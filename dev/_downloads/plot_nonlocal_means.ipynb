{
  "metadata": {
    "kernelspec": {
      "display_name": "Python 3",
      "language": "python",
      "name": "python3"
    },
    "language_info": {
      "file_extension": ".py",
      "nbconvert_exporter": "python",
      "pygments_lexer": "ipython3",
      "version": "3.4.2",
      "codemirror_mode": {
        "name": "ipython",
        "version": 3
      },
      "name": "python",
      "mimetype": "text/x-python"
    }
  },
  "nbformat_minor": 0,
  "nbformat": 4,
  "cells": [
    {
      "cell_type": "code",
      "execution_count": null,
      "outputs": [],
      "source": [
        "%matplotlib inline"
      ],
      "metadata": {
        "collapsed": false
      }
    },
    {
      "cell_type": "markdown",
      "metadata": {},
      "source": [
        "\n# Non-local means denoising for preserving textures\n\n\nIn this example, we denoise a detail of the astronaut image using the non-local\nmeans filter. The non-local means algorithm replaces the value of a pixel by an\naverage of a selection of other pixels values: small patches centered on the\nother pixels are compared to the patch centered on the pixel of interest, and\nthe average is performed only for pixels that have patches close to the current\npatch. As a result, this algorithm can restore well textures, that would be\nblurred by other denoising algoritm.\n\n"
      ]
    },
    {
      "cell_type": "code",
      "execution_count": null,
      "outputs": [],
      "source": [
        "import numpy as np\nimport matplotlib.pyplot as plt\n\nfrom skimage import data, img_as_float\nfrom skimage.restoration import denoise_nl_means\n\n\nastro = img_as_float(data.astronaut())\nastro = astro[30:180, 150:300]\n\nnoisy = astro + 0.3 * np.random.random(astro.shape)\nnoisy = np.clip(noisy, 0, 1)\n\ndenoise = denoise_nl_means(noisy, 7, 9, 0.08, multichannel=True)\n\nfig, ax = plt.subplots(ncols=2, figsize=(8, 4), sharex=True, sharey=True,\n                       subplot_kw={'adjustable': 'box-forced'})\n\nax[0].imshow(noisy)\nax[0].axis('off')\nax[0].set_title('noisy')\nax[1].imshow(denoise)\nax[1].axis('off')\nax[1].set_title('non-local means')\n\nfig.tight_layout()\n\nplt.show()"
      ],
      "metadata": {
        "collapsed": false
      }
    }
  ]
}