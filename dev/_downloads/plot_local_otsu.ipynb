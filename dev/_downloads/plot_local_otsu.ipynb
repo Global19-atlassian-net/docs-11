{
  "metadata": {
    "kernelspec": {
      "display_name": "Python 3",
      "name": "python3",
      "language": "python"
    },
    "language_info": {
      "codemirror_mode": {
        "name": "ipython",
        "version": 3
      },
      "mimetype": "text/x-python",
      "nbconvert_exporter": "python",
      "pygments_lexer": "ipython3",
      "name": "python",
      "file_extension": ".py",
      "version": "3.4.2"
    }
  },
  "cells": [
    {
      "execution_count": null,
      "source": [
        "%matplotlib inline"
      ],
      "metadata": {
        "collapsed": false
      },
      "cell_type": "code",
      "outputs": []
    },
    {
      "source": [
        "\n# Local Otsu Threshold\n\n\nThis example shows how Otsu's threshold [1]_ method can be applied locally. For\neach pixel, an \"optimal\" threshold is determined by maximizing the variance\nbetween two classes of pixels of the local neighborhood defined by a\nstructuring element.\n\nThe example compares the local threshold with the global threshold.\n\n.. note: local is much slower than global thresholding\n\n.. [1] http://en.wikipedia.org/wiki/Otsu's_method\n\n\n"
      ],
      "metadata": {},
      "cell_type": "markdown"
    },
    {
      "execution_count": null,
      "source": [
        "from skimage import data\nfrom skimage.morphology import disk\nfrom skimage.filters import threshold_otsu, rank\nfrom skimage.util import img_as_ubyte\n\nimport matplotlib\nimport matplotlib.pyplot as plt\n\nmatplotlib.rcParams['font.size'] = 9\nimg = img_as_ubyte(data.page())\n\nradius = 15\nselem = disk(radius)\n\nlocal_otsu = rank.otsu(img, selem)\nthreshold_global_otsu = threshold_otsu(img)\nglobal_otsu = img >= threshold_global_otsu\n\nfig, ax = plt.subplots(2, 2, figsize=(8, 5), sharex=True, sharey=True,\n                       subplot_kw={'adjustable': 'box-forced'})\nax0, ax1, ax2, ax3 = ax.ravel()\nplt.tight_layout()\n\nfig.colorbar(ax0.imshow(img, cmap=plt.cm.gray),\n             ax=ax0, orientation='horizontal')\nax0.set_title('Original')\nax0.axis('off')\n\nfig.colorbar(ax1.imshow(local_otsu, cmap=plt.cm.gray),\n             ax=ax1, orientation='horizontal')\nax1.set_title('Local Otsu (radius=%d)' % radius)\nax1.axis('off')\n\nax2.imshow(img >= local_otsu, cmap=plt.cm.gray)\nax2.set_title('Original >= Local Otsu' % threshold_global_otsu)\nax2.axis('off')\n\nax3.imshow(global_otsu, cmap=plt.cm.gray)\nax3.set_title('Global Otsu (threshold = %d)' % threshold_global_otsu)\nax3.axis('off')\n\nplt.show()"
      ],
      "metadata": {
        "collapsed": false
      },
      "cell_type": "code",
      "outputs": []
    }
  ],
  "nbformat": 4,
  "nbformat_minor": 0
}