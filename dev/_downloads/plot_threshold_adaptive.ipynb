{
  "cells": [
    {
      "outputs": [],
      "metadata": {
        "collapsed": false
      },
      "cell_type": "code",
      "execution_count": null,
      "source": [
        "%matplotlib inline"
      ]
    },
    {
      "metadata": {},
      "cell_type": "markdown",
      "source": [
        "\n# Adaptive Thresholding\n\n\nThresholding is the simplest way to segment objects from a background. If that\nbackground is relatively uniform, then you can use a global threshold value to\nbinarize the image by pixel-intensity. If there's large variation in the\nbackground intensity, however, adaptive thresholding (a.k.a. local or dynamic\nthresholding) may produce better results.\n\nHere, we binarize an image using the `threshold_adaptive` function, which\ncalculates thresholds in regions of size `block_size` surrounding each pixel\n(i.e. local neighborhoods). Each threshold value is the weighted mean of the\nlocal neighborhood minus an offset value.\n\n\n"
      ]
    },
    {
      "outputs": [],
      "metadata": {
        "collapsed": false
      },
      "cell_type": "code",
      "execution_count": null,
      "source": [
        "import matplotlib.pyplot as plt\n\nfrom skimage import data\nfrom skimage.filters import threshold_otsu, threshold_adaptive\n\n\nimage = data.page()\n\nglobal_thresh = threshold_otsu(image)\nbinary_global = image > global_thresh\n\nblock_size = 35\nbinary_adaptive = threshold_adaptive(image, block_size, offset=10)\n\nfig, axes = plt.subplots(nrows=3, figsize=(7, 8))\nax0, ax1, ax2 = axes\nplt.gray()\n\nax0.imshow(image)\nax0.set_title('Image')\n\nax1.imshow(binary_global)\nax1.set_title('Global thresholding')\n\nax2.imshow(binary_adaptive)\nax2.set_title('Adaptive thresholding')\n\nfor ax in axes:\n    ax.axis('off')\n\nplt.show()"
      ]
    }
  ],
  "metadata": {
    "language_info": {
      "version": "3.4.2",
      "codemirror_mode": {
        "version": 3,
        "name": "ipython"
      },
      "mimetype": "text/x-python",
      "nbconvert_exporter": "python",
      "name": "python",
      "file_extension": ".py",
      "pygments_lexer": "ipython3"
    },
    "kernelspec": {
      "display_name": "Python 3",
      "language": "python",
      "name": "python3"
    }
  },
  "nbformat": 4,
  "nbformat_minor": 0
}