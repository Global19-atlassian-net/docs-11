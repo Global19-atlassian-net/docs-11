{
  "nbformat": 4,
  "cells": [
    {
      "execution_count": null,
      "source": [
        "%matplotlib inline"
      ],
      "outputs": [],
      "metadata": {
        "collapsed": false
      },
      "cell_type": "code"
    },
    {
      "source": [
        "\n# Robust 3D line model estimation using RANSAC\n\n\nIn this example we see how to robustly fit a 3D line model to faulty data using\nthe RANSAC algorithm.\n\n\n"
      ],
      "metadata": {},
      "cell_type": "markdown"
    },
    {
      "execution_count": null,
      "source": [
        "import numpy as np\nfrom matplotlib import pyplot as plt\nfrom mpl_toolkits.mplot3d import Axes3D\nfrom skimage.measure import LineModelND, ransac\n\nnp.random.seed(seed=1)\n\n# generate coordinates of line\npoint = np.array([0, 0, 0], dtype='float')\ndirection = np.array([1, 1, 1], dtype='float') / np.sqrt(3)\nxyz = point + 10 * np.arange(-100, 100)[..., np.newaxis] * direction\n\n# add gaussian noise to coordinates\nnoise = np.random.normal(size=xyz.shape)\nxyz += 0.5 * noise\nxyz[::2] += 20 * noise[::2]\nxyz[::4] += 100 * noise[::4]\n\n# robustly fit line only using inlier data with RANSAC algorithm\nmodel_robust, inliers = ransac(xyz, LineModelND, min_samples=2,\n                               residual_threshold=1, max_trials=1000)\noutliers = inliers == False\n\nfig = plt.figure()\nax = fig.add_subplot(111, projection='3d')\nax.scatter(xyz[inliers][:, 0], xyz[inliers][:, 1], xyz[inliers][:, 2], c='b',\n           marker='o', label='Inlier data')\nax.scatter(xyz[outliers][:, 0], xyz[outliers][:, 1], xyz[outliers][:, 2], c='r',\n           marker='o', label='Outlier data')\nax.legend(loc='lower left')\nplt.show()"
      ],
      "outputs": [],
      "metadata": {
        "collapsed": false
      },
      "cell_type": "code"
    }
  ],
  "metadata": {
    "language_info": {
      "file_extension": ".py",
      "nbconvert_exporter": "python",
      "name": "python",
      "pygments_lexer": "ipython3",
      "mimetype": "text/x-python",
      "codemirror_mode": {
        "version": 3,
        "name": "ipython"
      },
      "version": "3.4.2"
    },
    "kernelspec": {
      "display_name": "Python 3",
      "name": "python3",
      "language": "python"
    }
  },
  "nbformat_minor": 0
}