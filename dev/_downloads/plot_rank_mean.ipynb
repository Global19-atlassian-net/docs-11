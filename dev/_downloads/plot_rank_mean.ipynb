{
  "nbformat_minor": 0,
  "metadata": {
    "kernelspec": {
      "language": "python",
      "display_name": "Python 3",
      "name": "python3"
    },
    "language_info": {
      "file_extension": ".py",
      "mimetype": "text/x-python",
      "pygments_lexer": "ipython3",
      "codemirror_mode": {
        "version": 3,
        "name": "ipython"
      },
      "name": "python",
      "version": "3.4.2",
      "nbconvert_exporter": "python"
    }
  },
  "nbformat": 4,
  "cells": [
    {
      "source": [
        "%matplotlib inline"
      ],
      "metadata": {
        "collapsed": false
      },
      "outputs": [],
      "cell_type": "code",
      "execution_count": null
    },
    {
      "metadata": {},
      "cell_type": "markdown",
      "source": [
        "\n# Mean filters\n\n\nThis example compares the following mean filters of the rank filter package:\n\n* **local mean**: all pixels belonging to the structuring element to compute\n  average gray level.\n* **percentile mean**: only use values between percentiles p0 and p1\n  (here 10% and 90%).\n* **bilateral mean**: only use pixels of the structuring element having a gray\n  level situated inside g-s0 and g+s1 (here g-500 and g+500)\n\nPercentile and usual mean give here similar results, these filters smooth the\ncomplete image (background and details). Bilateral mean exhibits a high\nfiltering rate for continuous area (i.e. background) while higher image\nfrequencies remain untouched.\n\n\n"
      ]
    },
    {
      "source": [
        "import numpy as np\nimport matplotlib.pyplot as plt\n\nfrom skimage import data\nfrom skimage.morphology import disk\nfrom skimage.filters import rank\n\n\nimage = data.coins()\nselem = disk(20)\n\npercentile_result = rank.mean_percentile(image, selem=selem, p0=.1, p1=.9)\nbilateral_result = rank.mean_bilateral(image, selem=selem, s0=500, s1=500)\nnormal_result = rank.mean(image, selem=selem)\n\n\nfig, axes = plt.subplots(nrows=2, ncols=2, figsize=(8, 10),\n                         sharex=True, sharey=True)\nax = axes.ravel()\n\ntitles = ['Original', 'Percentile mean', 'Bilateral mean', 'Local mean']\nimgs = [image, percentile_result, bilateral_result, normal_result]\nfor n in range(0, len(imgs)):\n    ax[n].imshow(imgs[n])\n    ax[n].set_title(titles[n])\n    ax[n].set_adjustable('box-forced')\n    ax[n].axis('off')\n\nplt.show()"
      ],
      "metadata": {
        "collapsed": false
      },
      "outputs": [],
      "cell_type": "code",
      "execution_count": null
    }
  ]
}