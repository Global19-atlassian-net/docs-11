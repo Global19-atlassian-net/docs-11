{
  "nbformat": 4,
  "metadata": {
    "language_info": {
      "nbconvert_exporter": "python",
      "version": "3.4.2",
      "mimetype": "text/x-python",
      "pygments_lexer": "ipython3",
      "name": "python",
      "codemirror_mode": {
        "name": "ipython",
        "version": 3
      },
      "file_extension": ".py"
    },
    "kernelspec": {
      "name": "python3",
      "display_name": "Python 3",
      "language": "python"
    }
  },
  "nbformat_minor": 0,
  "cells": [
    {
      "execution_count": null,
      "outputs": [],
      "metadata": {
        "collapsed": false
      },
      "cell_type": "code",
      "source": [
        "%matplotlib inline"
      ]
    },
    {
      "metadata": {},
      "cell_type": "markdown",
      "source": [
        "\n# CENSURE feature detector\n\n\nThe CENSURE feature detector is a scale-invariant center-surround detector\n(CENSURE) that claims to outperform other detectors and is capable of real-time\nimplementation.\n\n"
      ]
    },
    {
      "execution_count": null,
      "outputs": [],
      "metadata": {
        "collapsed": false
      },
      "cell_type": "code",
      "source": [
        "from skimage import data\nfrom skimage import transform as tf\nfrom skimage.feature import CENSURE\nfrom skimage.color import rgb2gray\n\nimport matplotlib.pyplot as plt\n\n\nimg_orig = rgb2gray(data.astronaut())\ntform = tf.AffineTransform(scale=(1.5, 1.5), rotation=0.5,\n                           translation=(150, -200))\nimg_warp = tf.warp(img_orig, tform)\n\ndetector = CENSURE()\n\nfig, ax = plt.subplots(nrows=1, ncols=2, figsize=(12, 6))\n\ndetector.detect(img_orig)\n\nax[0].imshow(img_orig, cmap=plt.cm.gray)\nax[0].scatter(detector.keypoints[:, 1], detector.keypoints[:, 0],\n              2 ** detector.scales, facecolors='none', edgecolors='r')\n\ndetector.detect(img_warp)\n\nax[1].imshow(img_warp, cmap=plt.cm.gray)\nax[1].scatter(detector.keypoints[:, 1], detector.keypoints[:, 0],\n              2 ** detector.scales, facecolors='none', edgecolors='r')\n\nfor a in ax:\n    a.axis('off')\n    \nplt.tight_layout()\nplt.show()"
      ]
    }
  ]
}