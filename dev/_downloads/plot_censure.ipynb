{
  "metadata": {
    "language_info": {
      "pygments_lexer": "ipython3",
      "codemirror_mode": {
        "version": 3,
        "name": "ipython"
      },
      "nbconvert_exporter": "python",
      "mimetype": "text/x-python",
      "version": "3.4.6",
      "file_extension": ".py",
      "name": "python"
    },
    "kernelspec": {
      "language": "python",
      "name": "python3",
      "display_name": "Python 3"
    }
  },
  "nbformat": 4,
  "cells": [
    {
      "cell_type": "code",
      "metadata": {
        "collapsed": false
      },
      "source": [
        "%matplotlib inline"
      ],
      "execution_count": null,
      "outputs": []
    },
    {
      "cell_type": "markdown",
      "metadata": {},
      "source": [
        "\n# CENSURE feature detector\n\n\nThe CENSURE feature detector is a scale-invariant center-surround detector\n(CENSURE) that claims to outperform other detectors and is capable of real-time\nimplementation.\n\n"
      ]
    },
    {
      "cell_type": "code",
      "metadata": {
        "collapsed": false
      },
      "source": [
        "from skimage import data\nfrom skimage import transform as tf\nfrom skimage.feature import CENSURE\nfrom skimage.color import rgb2gray\n\nimport matplotlib.pyplot as plt\n\n\nimg_orig = rgb2gray(data.astronaut())\ntform = tf.AffineTransform(scale=(1.5, 1.5), rotation=0.5,\n                           translation=(150, -200))\nimg_warp = tf.warp(img_orig, tform)\n\ndetector = CENSURE()\n\nfig, ax = plt.subplots(nrows=1, ncols=2, figsize=(12, 6))\n\ndetector.detect(img_orig)\n\nax[0].imshow(img_orig, cmap=plt.cm.gray)\nax[0].scatter(detector.keypoints[:, 1], detector.keypoints[:, 0],\n              2 ** detector.scales, facecolors='none', edgecolors='r')\nax[0].set_title(\"Original Image\")\n\ndetector.detect(img_warp)\n\nax[1].imshow(img_warp, cmap=plt.cm.gray)\nax[1].scatter(detector.keypoints[:, 1], detector.keypoints[:, 0],\n              2 ** detector.scales, facecolors='none', edgecolors='r')\nax[1].set_title('Transformed Image')\n\nfor a in ax:\n    a.axis('off')\n    \nplt.tight_layout()\nplt.show()"
      ],
      "execution_count": null,
      "outputs": []
    }
  ],
  "nbformat_minor": 0
}