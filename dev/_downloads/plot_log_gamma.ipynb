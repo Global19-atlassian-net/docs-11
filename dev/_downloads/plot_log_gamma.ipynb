{
  "nbformat_minor": 0,
  "metadata": {
    "name": ""
  },
  "nbformat": 3,
  "worksheets": [
    {
      "metadata": {},
      "cells": [
        {
          "outputs": [],
          "cell_type": "code",
          "input": [
            "%matplotlib inline"
          ],
          "language": "python",
          "metadata": {},
          "collapsed": false
        },
        {
          "metadata": {},
          "cell_type": "markdown",
          "source": "<div class=\"document\" id=\"gamma-and-log-contrast-adjustment\">\n<h1 class=\"title\">Gamma and log contrast adjustment</h1>\n<p>This example adjusts image contrast by performing a Gamma and a Logarithmic\ncorrection on the input image.</p>\n</div>\n"
        },
        {
          "outputs": [],
          "cell_type": "code",
          "input": "import matplotlib\nimport matplotlib.pyplot as plt\nimport numpy as np\n\nfrom skimage import data, img_as_float\nfrom skimage import exposure\n\nmatplotlib.rcParams['font.size'] = 8\n\n\ndef plot_img_and_hist(img, axes, bins=256):\n    \"\"\"Plot an image along with its histogram and cumulative histogram.\n\n    \"\"\"\n    img = img_as_float(img)\n    ax_img, ax_hist = axes\n    ax_cdf = ax_hist.twinx()\n\n    # Display image\n    ax_img.imshow(img, cmap=plt.cm.gray)\n    ax_img.set_axis_off()\n\n    # Display histogram\n    ax_hist.hist(img.ravel(), bins=bins, histtype='step', color='black')\n    ax_hist.ticklabel_format(axis='y', style='scientific', scilimits=(0, 0))\n    ax_hist.set_xlabel('Pixel intensity')\n    ax_hist.set_xlim(0, 1)\n    ax_hist.set_yticks([])\n\n    # Display cumulative distribution\n    img_cdf, bins = exposure.cumulative_distribution(img, bins)\n    ax_cdf.plot(bins, img_cdf, 'r')\n    ax_cdf.set_yticks([])\n\n    return ax_img, ax_hist, ax_cdf\n\n\n# Load an example image\nimg = data.moon()\n\n# Gamma\ngamma_corrected = exposure.adjust_gamma(img, 2)\n\n# Logarithmic\nlogarithmic_corrected = exposure.adjust_log(img, 1)\n\n# Display results\nfig, axes = plt.subplots(nrows=2, ncols=3, figsize=(8, 5))\n\nax_img, ax_hist, ax_cdf = plot_img_and_hist(img, axes[:, 0])\nax_img.set_title('Low contrast image')\n\ny_min, y_max = ax_hist.get_ylim()\nax_hist.set_ylabel('Number of pixels')\nax_hist.set_yticks(np.linspace(0, y_max, 5))\n\nax_img, ax_hist, ax_cdf = plot_img_and_hist(gamma_corrected, axes[:, 1])\nax_img.set_title('Gamma correction')\n\nax_img, ax_hist, ax_cdf = plot_img_and_hist(logarithmic_corrected, axes[:, 2])\nax_img.set_title('Logarithmic correction')\n\nax_cdf.set_ylabel('Fraction of total intensity')\nax_cdf.set_yticks(np.linspace(0, 1, 5))\n\n# prevent overlap of y-axis labels\nfig.subplots_adjust(wspace=0.4)\nplt.show()\n",
          "language": "python",
          "metadata": {},
          "collapsed": false
        }
      ]
    }
  ]
}