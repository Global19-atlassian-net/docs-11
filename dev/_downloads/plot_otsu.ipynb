{
  "cells": [
    {
      "cell_type": "code",
      "metadata": {
        "collapsed": false
      },
      "execution_count": null,
      "outputs": [],
      "source": [
        "%matplotlib inline"
      ]
    },
    {
      "cell_type": "markdown",
      "metadata": {},
      "source": [
        "\n# Thresholding\n\n\nThresholding is used to create a binary image. This example uses Otsu's method\nto calculate the threshold value.\n\nOtsu's method calculates an \"optimal\" threshold (marked by a red line in the\nhistogram below) by maximizing the variance between two classes of pixels,\nwhich are separated by the threshold. Equivalently, this threshold minimizes\nthe intra-class variance.\n\n.. [1] http://en.wikipedia.org/wiki/Otsu's_method\n\n\n"
      ]
    },
    {
      "cell_type": "code",
      "metadata": {
        "collapsed": false
      },
      "execution_count": null,
      "outputs": [],
      "source": [
        "import matplotlib\nimport matplotlib.pyplot as plt\n\nfrom skimage.data import camera\nfrom skimage.filters import threshold_otsu\n\n\nmatplotlib.rcParams['font.size'] = 9\n\n\nimage = camera()\nthresh = threshold_otsu(image)\nbinary = image > thresh\n\n#fig, (ax1, ax2, ax3) = plt.subplots(1, 3, figsize=(8, 2.5))\nfig = plt.figure(figsize=(8, 2.5))\nax1 = plt.subplot(1, 3, 1, adjustable='box-forced')\nax2 = plt.subplot(1, 3, 2)\nax3 = plt.subplot(1, 3, 3, sharex=ax1, sharey=ax1, adjustable='box-forced')\n\nax1.imshow(image, cmap=plt.cm.gray)\nax1.set_title('Original')\nax1.axis('off')\n\nax2.hist(image)\nax2.set_title('Histogram')\nax2.axvline(thresh, color='r')\n\nax3.imshow(binary, cmap=plt.cm.gray)\nax3.set_title('Thresholded')\nax3.axis('off')\n\nplt.show()"
      ]
    }
  ],
  "metadata": {
    "kernelspec": {
      "display_name": "Python 3",
      "language": "python",
      "name": "python3"
    },
    "language_info": {
      "mimetype": "text/x-python",
      "pygments_lexer": "ipython3",
      "file_extension": ".py",
      "version": "3.4.2",
      "nbconvert_exporter": "python",
      "name": "python",
      "codemirror_mode": {
        "version": 3,
        "name": "ipython"
      }
    }
  },
  "nbformat_minor": 0,
  "nbformat": 4
}