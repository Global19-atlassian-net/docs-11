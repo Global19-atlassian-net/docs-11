{
  "metadata": {
    "kernelspec": {
      "display_name": "Python 3",
      "name": "python3",
      "language": "python"
    },
    "language_info": {
      "codemirror_mode": {
        "name": "ipython",
        "version": 3
      },
      "mimetype": "text/x-python",
      "nbconvert_exporter": "python",
      "pygments_lexer": "ipython3",
      "name": "python",
      "file_extension": ".py",
      "version": "3.4.2"
    }
  },
  "cells": [
    {
      "execution_count": null,
      "source": [
        "%matplotlib inline"
      ],
      "metadata": {
        "collapsed": false
      },
      "cell_type": "code",
      "outputs": []
    },
    {
      "source": [
        "\n# Thresholding\n\n\nThresholding is used to create a binary image. This example uses Otsu's method\nto calculate the threshold value.\n\nOtsu's method calculates an \"optimal\" threshold (marked by a red line in the\nhistogram below) by maximizing the variance between two classes of pixels,\nwhich are separated by the threshold. Equivalently, this threshold minimizes\nthe intra-class variance.\n\n.. [1] http://en.wikipedia.org/wiki/Otsu's_method\n\n\n"
      ],
      "metadata": {},
      "cell_type": "markdown"
    },
    {
      "execution_count": null,
      "source": [
        "import matplotlib\nimport matplotlib.pyplot as plt\n\nfrom skimage.data import camera\nfrom skimage.filters import threshold_otsu\n\n\nmatplotlib.rcParams['font.size'] = 9\n\n\nimage = camera()\nthresh = threshold_otsu(image)\nbinary = image > thresh\n\n#fig, (ax1, ax2, ax3) = plt.subplots(1, 3, figsize=(8, 2.5))\nfig = plt.figure(figsize=(8, 2.5))\nax1 = plt.subplot(1, 3, 1, adjustable='box-forced')\nax2 = plt.subplot(1, 3, 2)\nax3 = plt.subplot(1, 3, 3, sharex=ax1, sharey=ax1, adjustable='box-forced')\n\nax1.imshow(image, cmap=plt.cm.gray)\nax1.set_title('Original')\nax1.axis('off')\n\nax2.hist(image)\nax2.set_title('Histogram')\nax2.axvline(thresh, color='r')\n\nax3.imshow(binary, cmap=plt.cm.gray)\nax3.set_title('Thresholded')\nax3.axis('off')\n\nplt.show()"
      ],
      "metadata": {
        "collapsed": false
      },
      "cell_type": "code",
      "outputs": []
    }
  ],
  "nbformat": 4,
  "nbformat_minor": 0
}