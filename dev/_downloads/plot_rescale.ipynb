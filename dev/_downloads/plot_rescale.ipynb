{
  "metadata": {
    "kernelspec": {
      "display_name": "Python 3",
      "language": "python",
      "name": "python3"
    },
    "language_info": {
      "pygments_lexer": "ipython3",
      "name": "python",
      "version": "3.4.6",
      "nbconvert_exporter": "python",
      "mimetype": "text/x-python",
      "codemirror_mode": {
        "version": 3,
        "name": "ipython"
      },
      "file_extension": ".py"
    }
  },
  "nbformat_minor": 0,
  "cells": [
    {
      "source": [
        "%matplotlib inline"
      ],
      "cell_type": "code",
      "outputs": [],
      "metadata": {
        "collapsed": false
      },
      "execution_count": null
    },
    {
      "source": [
        "\n==============================\nRescale, resize, and downscale\n==============================\n\n`Rescale` operation resizes an image by a given scaling factor. The scaling\nfactor can either be a single floating point value, or multiple values - one\nalong each axis.\n\n`Resize` serves the same purpose, but allows to specify an output image shape\ninstead of a scaling factor.\n\nNote that when down-sampling an image, `resize` and `rescale` should perform\nGaussian smoothing to avoid aliasing artifacts. See the `anti_aliasing` and\n`anti_aliasing_sigma` arguments to these functions.\n\n`Downscale` serves the purpose of down-sampling an n-dimensional image by\ninteger factors using the local mean on the elements of each block of the size\nfactors given as a parameter to the function.\n\n\n"
      ],
      "cell_type": "markdown",
      "metadata": {}
    },
    {
      "source": [
        "import matplotlib.pyplot as plt\n\nfrom skimage import data, color\nfrom skimage.transform import rescale, resize, downscale_local_mean\n\nimage = color.rgb2gray(data.astronaut())\n\nimage_rescaled = rescale(image, 1.0 / 4.0, anti_aliasing=False)\nimage_resized = resize(image, (image.shape[0] / 4, image.shape[1] / 4),\n                       anti_aliasing=True)\nimage_downscaled = downscale_local_mean(image, (4, 3))\n\nfig, axes = plt.subplots(nrows=2, ncols=2)\n\nax = axes.ravel()\n\nax[0].imshow(image, cmap='gray')\nax[0].set_title(\"Original image\")\n\nax[1].imshow(image_rescaled, cmap='gray')\nax[1].set_title(\"Rescaled image (aliasing)\")\n\nax[2].imshow(image_resized, cmap='gray')\nax[2].set_title(\"Resized image (no aliasing)\")\n\nax[3].imshow(image_downscaled, cmap='gray')\nax[3].set_title(\"Downscaled image (no aliasing)\")\n\nax[0].set_xlim(0, 512)\nax[0].set_ylim(512, 0)\nplt.tight_layout()\nplt.show()"
      ],
      "cell_type": "code",
      "outputs": [],
      "metadata": {
        "collapsed": false
      },
      "execution_count": null
    }
  ],
  "nbformat": 4
}