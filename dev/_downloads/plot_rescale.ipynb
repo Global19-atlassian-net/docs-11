{
  "metadata": {
    "language_info": {
      "file_extension": ".py",
      "pygments_lexer": "ipython3",
      "name": "python",
      "version": "3.4.2",
      "nbconvert_exporter": "python",
      "codemirror_mode": {
        "name": "ipython",
        "version": 3
      },
      "mimetype": "text/x-python"
    },
    "kernelspec": {
      "name": "python3",
      "display_name": "Python 3",
      "language": "python"
    }
  },
  "nbformat_minor": 0,
  "cells": [
    {
      "cell_type": "code",
      "metadata": {
        "collapsed": false
      },
      "outputs": [],
      "source": [
        "%matplotlib inline"
      ],
      "execution_count": null
    },
    {
      "cell_type": "markdown",
      "metadata": {},
      "source": [
        "\n==============================\nRescale, resize, and downscale\n==============================\n\n`Rescale` operation resizes an image by a given scaling factor.\nThe scaling factor can either be a single floating point value,\nor multiple values - one along each axis.\n\n`Resize` serves the same purpose, but allows to specify an output\nimage shape instead of a scaling factor.\n\n`Downscale` operation serves the purpose of downsampling an\nn-dimensional image by calculating local mean on the elements of\neach block of the size factors given as a parameter to the function.\n\n"
      ]
    },
    {
      "cell_type": "code",
      "metadata": {
        "collapsed": false
      },
      "outputs": [],
      "source": [
        "import matplotlib.pyplot as plt\n\nfrom skimage import data\nfrom skimage.transform import rescale, resize, downscale_local_mean\n\nimage = data.camera()\n\nimage_rescaled = rescale(image, 0.5)\nimage_resized = resize(image, (400, 400), mode='reflect')\nimage_downscaled = downscale_local_mean(image, (2, 3))\n\nfig, axes = plt.subplots(nrows=2, ncols=2,\n                         sharex=True, sharey=True)\n\nax = axes.ravel()\n\nax[0].imshow(image, cmap='gray')\nax[0].set_title(\"Original image\")\n\nax[1].imshow(image_rescaled, cmap='gray')\nax[1].set_title(\"Rescaled image\")\n\nax[2].imshow(image_resized, cmap='gray')\nax[2].set_title(\"Resized image\")\n\nax[3].imshow(image_downscaled, cmap='gray')\nax[3].set_title(\"Image downscaled using local averaging\")\n\nax[0].set_xlim(0, 512)\nax[0].set_ylim(512, 0)\nplt.tight_layout()\nplt.show()"
      ],
      "execution_count": null
    }
  ],
  "nbformat": 4
}