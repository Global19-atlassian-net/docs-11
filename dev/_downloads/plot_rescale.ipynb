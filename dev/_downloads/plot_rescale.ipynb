{
  "nbformat_minor": 0,
  "metadata": {
    "kernelspec": {
      "display_name": "Python 3",
      "language": "python",
      "name": "python3"
    },
    "language_info": {
      "codemirror_mode": {
        "version": 3,
        "name": "ipython"
      },
      "file_extension": ".py",
      "nbconvert_exporter": "python",
      "version": "3.4.2",
      "mimetype": "text/x-python",
      "pygments_lexer": "ipython3",
      "name": "python"
    }
  },
  "nbformat": 4,
  "cells": [
    {
      "metadata": {
        "collapsed": false
      },
      "cell_type": "code",
      "source": [
        "%matplotlib inline"
      ],
      "execution_count": null,
      "outputs": []
    },
    {
      "metadata": {},
      "cell_type": "markdown",
      "source": [
        "\n==============================\nRescale, resize, and downscale\n==============================\n\n`Rescale` operation resizes an image by a given scaling factor.\nThe scaling factor can either be a single floating point value,\nor multiple values - one along each axis.\n\n`Resize` serves the same purpose, but allows to specify an output\nimage shape instead of a scaling factor.\n\n`Downscale` operation serves the purpose of downsampling an\nn-dimensional image by calculating local mean on the elements of\neach block of the size factors given as a parameter to the function.\n\n"
      ]
    },
    {
      "metadata": {
        "collapsed": false
      },
      "cell_type": "code",
      "source": [
        "import matplotlib.pyplot as plt\n\nfrom skimage import data\nfrom skimage.transform import rescale, resize, downscale_local_mean\n\nimage = data.camera()\n\nimage_rescaled = rescale(image, 0.5)\nimage_resized = resize(image, (400, 400), mode='reflect')\nimage_downscaled = downscale_local_mean(image, (2, 3))\n\nfig, axes = plt.subplots(nrows=2, ncols=2,\n                         sharex=True, sharey=True)\n\nax = axes.ravel()\n\nax[0].imshow(image, cmap='gray')\nax[0].set_title(\"Original image\")\n\nax[1].imshow(image_rescaled, cmap='gray')\nax[1].set_title(\"Rescaled image\")\n\nax[2].imshow(image_resized, cmap='gray')\nax[2].set_title(\"Resized image\")\n\nax[3].imshow(image_downscaled, cmap='gray')\nax[3].set_title(\"Image downscaled using local averaging\")\n\nplt.tight_layout()\nplt.show()"
      ],
      "execution_count": null,
      "outputs": []
    }
  ]
}