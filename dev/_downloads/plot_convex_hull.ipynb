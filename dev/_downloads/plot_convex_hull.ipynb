{
  "cells": [
    {
      "source": [
        "%matplotlib inline"
      ],
      "outputs": [],
      "metadata": {
        "collapsed": false
      },
      "execution_count": null,
      "cell_type": "code"
    },
    {
      "source": [
        "\n# Convex Hull\n\n\nThe convex hull of a binary image is the set of pixels included in the\nsmallest convex polygon that surround all white pixels in the input.\n\nA good overview of the algorithm is given on `Steve Eddin's blog\n<http://blogs.mathworks.com/steve/2011/10/04/binary-image-convex-hull-algorithm-notes/>`__.\n\n\n"
      ],
      "metadata": {},
      "cell_type": "markdown"
    },
    {
      "source": [
        "import matplotlib.pyplot as plt\n\nfrom skimage.morphology import convex_hull_image\nfrom skimage import data, img_as_float\nfrom skimage.util import invert\n\n# The original image is inverted as the object must be white.\nimage = invert(data.horse())\n\nchull = convex_hull_image(image)\n\nfig, axes = plt.subplots(1, 2, figsize=(8, 4))\nax = axes.ravel()\n\nax[0].set_title('Original picture')\nax[0].imshow(image, cmap=plt.cm.gray, interpolation='nearest')\nax[0].set_axis_off()\n\nax[1].set_title('Transformed picture')\nax[1].imshow(chull, cmap=plt.cm.gray, interpolation='nearest')\nax[1].set_axis_off()\n\nplt.tight_layout()\nplt.show()"
      ],
      "outputs": [],
      "metadata": {
        "collapsed": false
      },
      "execution_count": null,
      "cell_type": "code"
    },
    {
      "source": [
        "We prepare a second plot to show the difference.\n\n\n"
      ],
      "metadata": {},
      "cell_type": "markdown"
    },
    {
      "source": [
        "chull_diff = img_as_float(chull.copy())\nchull_diff[image] = 2\n\nfig, ax = plt.subplots()\nax.imshow(chull_diff, cmap=plt.cm.gray, interpolation='nearest')\nax.set_title('Difference')\nplt.show()"
      ],
      "outputs": [],
      "metadata": {
        "collapsed": false
      },
      "execution_count": null,
      "cell_type": "code"
    }
  ],
  "metadata": {
    "kernelspec": {
      "name": "python3",
      "language": "python",
      "display_name": "Python 3"
    },
    "language_info": {
      "name": "python",
      "pygments_lexer": "ipython3",
      "version": "3.4.2",
      "codemirror_mode": {
        "name": "ipython",
        "version": 3
      },
      "file_extension": ".py",
      "nbconvert_exporter": "python",
      "mimetype": "text/x-python"
    }
  },
  "nbformat_minor": 0,
  "nbformat": 4
}