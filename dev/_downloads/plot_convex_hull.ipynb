{
  "cells": [
    {
      "metadata": {
        "collapsed": false
      },
      "execution_count": null,
      "cell_type": "code",
      "outputs": [],
      "source": [
        "%matplotlib inline"
      ]
    },
    {
      "metadata": {},
      "cell_type": "markdown",
      "source": [
        "\n# Convex Hull\n\n\nThe convex hull of a binary image is the set of pixels included in the\nsmallest convex polygon that surround all white pixels in the input.\n\nIn this example, we show how the input pixels (white) get filled in by the\nconvex hull (white and grey).\n\nA good overview of the algorithm is given on `Steve Eddin's blog\n<http://blogs.mathworks.com/steve/2011/10/04/binary-image-convex-hull-algorithm-notes/>`__.\n\n\n"
      ]
    },
    {
      "metadata": {
        "collapsed": false
      },
      "execution_count": null,
      "cell_type": "code",
      "outputs": [],
      "source": [
        "import numpy as np\nimport matplotlib.pyplot as plt\n\nfrom skimage.morphology import convex_hull_image\n\n\nimage = np.array(\n    [[0, 0, 0, 0, 0, 0, 0, 0, 0],\n     [0, 0, 0, 0, 1, 0, 0, 0, 0],\n     [0, 0, 0, 1, 0, 1, 0, 0, 0],\n     [0, 0, 1, 0, 0, 0, 1, 0, 0],\n     [0, 1, 0, 0, 0, 0, 0, 1, 0],\n     [0, 0, 0, 0, 0, 0, 0, 0, 0]], dtype=float)\n\noriginal_image = np.copy(image)\n\nchull = convex_hull_image(image)\nimage[chull] += 1\n\n# image is now:\n# [[ 0.  0.  0.  0.  0.  0.  0.  0.  0.]\n#  [ 0.  0.  0.  0.  2.  0.  0.  0.  0.]\n#  [ 0.  0.  0.  2.  1.  2.  0.  0.  0.]\n#  [ 0.  0.  2.  1.  1.  1.  2.  0.  0.]\n#  [ 0.  2.  1.  1.  1.  1.  1.  2.  0.]\n#  [ 0.  0.  0.  0.  0.  0.  0.  0.  0.]]\n\nfig, axes = plt.subplots(1, 2, figsize=(9, 3))\nax = axes.ravel()\n\nax[0].set_title('Original picture')\nax[0].imshow(original_image, cmap=plt.cm.gray, interpolation='nearest')\nax[0].set_axis_off()\n\nax[1].set_title('Transformed picture')\nax[1].imshow(image, cmap=plt.cm.gray, interpolation='nearest')\nax[1].set_axis_off()\n\nplt.tight_layout()\nplt.show()"
      ]
    }
  ],
  "metadata": {
    "language_info": {
      "pygments_lexer": "ipython3",
      "name": "python",
      "file_extension": ".py",
      "version": "3.4.2",
      "mimetype": "text/x-python",
      "nbconvert_exporter": "python",
      "codemirror_mode": {
        "name": "ipython",
        "version": 3
      }
    },
    "kernelspec": {
      "language": "python",
      "name": "python3",
      "display_name": "Python 3"
    }
  },
  "nbformat": 4,
  "nbformat_minor": 0
}