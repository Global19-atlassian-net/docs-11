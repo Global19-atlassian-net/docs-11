{
  "nbformat": 4,
  "nbformat_minor": 0,
  "metadata": {
    "kernelspec": {
      "language": "python",
      "display_name": "Python 3",
      "name": "python3"
    },
    "language_info": {
      "codemirror_mode": {
        "name": "ipython",
        "version": 3
      },
      "version": "3.4.6",
      "mimetype": "text/x-python",
      "name": "python",
      "file_extension": ".py",
      "nbconvert_exporter": "python",
      "pygments_lexer": "ipython3"
    }
  },
  "cells": [
    {
      "cell_type": "code",
      "source": [
        "%matplotlib inline"
      ],
      "metadata": {
        "collapsed": false
      },
      "execution_count": null,
      "outputs": []
    },
    {
      "cell_type": "markdown",
      "source": [
        "\n# Convex Hull\n\n\nThe convex hull of a binary image is the set of pixels included in the\nsmallest convex polygon that surround all white pixels in the input.\n\nA good overview of the algorithm is given on `Steve Eddin's blog\n<http://blogs.mathworks.com/steve/2011/10/04/binary-image-convex-hull-algorithm-notes/>`__.\n\n\n"
      ],
      "metadata": {}
    },
    {
      "cell_type": "code",
      "source": [
        "import matplotlib.pyplot as plt\n\nfrom skimage.morphology import convex_hull_image\nfrom skimage import data, img_as_float\nfrom skimage.util import invert\n\n# The original image is inverted as the object must be white.\nimage = invert(data.horse())\n\nchull = convex_hull_image(image)\n\nfig, axes = plt.subplots(1, 2, figsize=(8, 4))\nax = axes.ravel()\n\nax[0].set_title('Original picture')\nax[0].imshow(image, cmap=plt.cm.gray, interpolation='nearest')\nax[0].set_axis_off()\n\nax[1].set_title('Transformed picture')\nax[1].imshow(chull, cmap=plt.cm.gray, interpolation='nearest')\nax[1].set_axis_off()\n\nplt.tight_layout()\nplt.show()"
      ],
      "metadata": {
        "collapsed": false
      },
      "execution_count": null,
      "outputs": []
    },
    {
      "cell_type": "markdown",
      "source": [
        "We prepare a second plot to show the difference.\n\n\n"
      ],
      "metadata": {}
    },
    {
      "cell_type": "code",
      "source": [
        "chull_diff = img_as_float(chull.copy())\nchull_diff[image] = 2\n\nfig, ax = plt.subplots()\nax.imshow(chull_diff, cmap=plt.cm.gray, interpolation='nearest')\nax.set_title('Difference')\nplt.show()"
      ],
      "metadata": {
        "collapsed": false
      },
      "execution_count": null,
      "outputs": []
    }
  ]
}