{
  "nbformat": 4,
  "cells": [
    {
      "outputs": [],
      "execution_count": null,
      "metadata": {
        "collapsed": false
      },
      "source": [
        "%matplotlib inline"
      ],
      "cell_type": "code"
    },
    {
      "source": [
        "\n# Convex Hull\n\n\nThe convex hull of a binary image is the set of pixels included in the\nsmallest convex polygon that surround all white pixels in the input.\n\nIn this example, we show how the input pixels (white) get filled in by the\nconvex hull (white and grey).\n\nA good overview of the algorithm is given on `Steve Eddin's blog\n<http://blogs.mathworks.com/steve/2011/10/04/binary-image-convex-hull-algorithm-notes/>`__.\n\n\n"
      ],
      "metadata": {},
      "cell_type": "markdown"
    },
    {
      "outputs": [],
      "execution_count": null,
      "metadata": {
        "collapsed": false
      },
      "source": [
        "import numpy as np\nimport matplotlib.pyplot as plt\n\nfrom skimage.morphology import convex_hull_image\n\nimage = np.array(\n    [[0, 0, 0, 0, 0, 0, 0, 0, 0],\n     [0, 0, 0, 0, 1, 0, 0, 0, 0],\n     [0, 0, 0, 1, 0, 1, 0, 0, 0],\n     [0, 0, 1, 0, 0, 0, 1, 0, 0],\n     [0, 1, 0, 0, 0, 0, 0, 1, 0],\n     [0, 0, 0, 0, 0, 0, 0, 0, 0]], dtype=float)\n\noriginal_image = np.copy(image)\n\nchull = convex_hull_image(image)\nimage[chull] += 1\n\n# image is now:\n# [[ 0.  0.  0.  0.  0.  0.  0.  0.  0.]\n#  [ 0.  0.  0.  0.  2.  0.  0.  0.  0.]\n#  [ 0.  0.  0.  2.  1.  2.  0.  0.  0.]\n#  [ 0.  0.  2.  1.  1.  1.  2.  0.  0.]\n#  [ 0.  2.  1.  1.  1.  1.  1.  2.  0.]\n#  [ 0.  0.  0.  0.  0.  0.  0.  0.  0.]]\n\nfig, (ax0, ax1) = plt.subplots(1, 2, figsize=(12, 4))\nplt.tight_layout()\n\nax0.set_title('Original picture')\nax0.imshow(original_image, cmap=plt.cm.gray, interpolation='nearest')\nax0.set_xticks([]), ax0.set_yticks([])\n\nax1.set_title('Transformed picture')\nax1.imshow(image, cmap=plt.cm.gray, interpolation='nearest')\nax1.set_xticks([]), ax1.set_yticks([])\n\nplt.show()"
      ],
      "cell_type": "code"
    }
  ],
  "metadata": {
    "kernelspec": {
      "name": "python3",
      "language": "python",
      "display_name": "Python 3"
    },
    "language_info": {
      "name": "python",
      "version": "3.4.2",
      "mimetype": "text/x-python",
      "codemirror_mode": {
        "name": "ipython",
        "version": 3
      },
      "pygments_lexer": "ipython3",
      "file_extension": ".py",
      "nbconvert_exporter": "python"
    }
  },
  "nbformat_minor": 0
}