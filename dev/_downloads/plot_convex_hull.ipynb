{
  "cells": [
    {
      "source": [
        "%matplotlib inline"
      ],
      "cell_type": "code",
      "execution_count": null,
      "outputs": [],
      "metadata": {
        "collapsed": false
      }
    },
    {
      "source": [
        "\n# Convex Hull\n\n\nThe convex hull of a binary image is the set of pixels included in the\nsmallest convex polygon that surround all white pixels in the input.\n\nIn this example, we show how the input pixels (white) get filled in by the\nconvex hull (white and grey).\n\nA good overview of the algorithm is given on `Steve Eddin's blog\n<http://blogs.mathworks.com/steve/2011/10/04/binary-image-convex-hull-algorithm-notes/>`__.\n\n\n"
      ],
      "cell_type": "markdown",
      "metadata": {}
    },
    {
      "source": [
        "import numpy as np\nimport matplotlib.pyplot as plt\n\nfrom skimage.morphology import convex_hull_image\n\n\nimage = np.array(\n    [[0, 0, 0, 0, 0, 0, 0, 0, 0],\n     [0, 0, 0, 0, 1, 0, 0, 0, 0],\n     [0, 0, 0, 1, 0, 1, 0, 0, 0],\n     [0, 0, 1, 0, 0, 0, 1, 0, 0],\n     [0, 1, 0, 0, 0, 0, 0, 1, 0],\n     [0, 0, 0, 0, 0, 0, 0, 0, 0]], dtype=float)\n\noriginal_image = np.copy(image)\n\nchull = convex_hull_image(image)\nimage[chull] += 1\n\n# image is now:\n# [[ 0.  0.  0.  0.  0.  0.  0.  0.  0.]\n#  [ 0.  0.  0.  0.  2.  0.  0.  0.  0.]\n#  [ 0.  0.  0.  2.  1.  2.  0.  0.  0.]\n#  [ 0.  0.  2.  1.  1.  1.  2.  0.  0.]\n#  [ 0.  2.  1.  1.  1.  1.  1.  2.  0.]\n#  [ 0.  0.  0.  0.  0.  0.  0.  0.  0.]]\n\nfig, axes = plt.subplots(1, 2, figsize=(9, 3))\nax = axes.ravel()\n\nax[0].set_title('Original picture')\nax[0].imshow(original_image, cmap=plt.cm.gray, interpolation='nearest')\nax[0].set_axis_off()\n\nax[1].set_title('Transformed picture')\nax[1].imshow(image, cmap=plt.cm.gray, interpolation='nearest')\nax[1].set_axis_off()\n\nplt.tight_layout()\nplt.show()"
      ],
      "cell_type": "code",
      "execution_count": null,
      "outputs": [],
      "metadata": {
        "collapsed": false
      }
    }
  ],
  "nbformat": 4,
  "nbformat_minor": 0,
  "metadata": {
    "language_info": {
      "file_extension": ".py",
      "name": "python",
      "version": "3.4.2",
      "nbconvert_exporter": "python",
      "codemirror_mode": {
        "name": "ipython",
        "version": 3
      },
      "pygments_lexer": "ipython3",
      "mimetype": "text/x-python"
    },
    "kernelspec": {
      "language": "python",
      "display_name": "Python 3",
      "name": "python3"
    }
  }
}