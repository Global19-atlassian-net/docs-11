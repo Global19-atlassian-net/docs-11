{
  "nbformat": 4,
  "nbformat_minor": 0,
  "metadata": {
    "kernelspec": {
      "language": "python",
      "display_name": "Python 3",
      "name": "python3"
    },
    "language_info": {
      "codemirror_mode": {
        "name": "ipython",
        "version": 3
      },
      "pygments_lexer": "ipython3",
      "file_extension": ".py",
      "name": "python",
      "version": "3.4.2",
      "mimetype": "text/x-python",
      "nbconvert_exporter": "python"
    }
  },
  "cells": [
    {
      "source": [
        "%matplotlib inline"
      ],
      "cell_type": "code",
      "metadata": {
        "collapsed": false
      },
      "execution_count": null,
      "outputs": []
    },
    {
      "cell_type": "markdown",
      "source": [
        "\n# Label image regions\n\n\nThis example shows how to segment an image with image labelling. The following\nsteps are applied:\n\n1. Thresholding with automatic Otsu method\n2. Close small holes with binary closing\n3. Remove artifacts touching image border\n4. Measure image regions to filter small objects\n\n\n"
      ],
      "metadata": {}
    },
    {
      "source": [
        "import numpy as np\nimport matplotlib.pyplot as plt\nimport matplotlib.patches as mpatches\n\nfrom skimage import data\nfrom skimage.filters import threshold_otsu\nfrom skimage.segmentation import clear_border\nfrom skimage.measure import label\nfrom skimage.morphology import closing, square\nfrom skimage.measure import regionprops\nfrom skimage.color import label2rgb\n\n\nimage = data.coins()[50:-50, 50:-50]\n\n# apply threshold\nthresh = threshold_otsu(image)\nbw = closing(image > thresh, square(3))\n\n# remove artifacts connected to image border\ncleared = bw.copy()\nclear_border(cleared)\n\n# label image regions\nlabel_image = label(cleared)\nimage_label_overlay = label2rgb(label_image, image=image)\n\nfig, ax = plt.subplots(ncols=1, nrows=1, figsize=(6, 6))\nax.imshow(image_label_overlay)\n\nfor region in regionprops(label_image):\n\n    # skip small images\n    if region.area < 100:\n        continue\n\n    # draw rectangle around segmented coins\n    minr, minc, maxr, maxc = region.bbox\n    rect = mpatches.Rectangle((minc, minr), maxc - minc, maxr - minr,\n                              fill=False, edgecolor='red', linewidth=2)\n    ax.add_patch(rect)\n\nplt.show()"
      ],
      "cell_type": "code",
      "metadata": {
        "collapsed": false
      },
      "execution_count": null,
      "outputs": []
    }
  ]
}