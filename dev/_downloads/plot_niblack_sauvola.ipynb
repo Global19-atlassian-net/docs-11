{
  "metadata": {
    "language_info": {
      "pygments_lexer": "ipython3",
      "file_extension": ".py",
      "name": "python",
      "version": "3.4.6",
      "codemirror_mode": {
        "name": "ipython",
        "version": 3
      },
      "nbconvert_exporter": "python",
      "mimetype": "text/x-python"
    },
    "kernelspec": {
      "name": "python3",
      "language": "python",
      "display_name": "Python 3"
    }
  },
  "nbformat": 4,
  "nbformat_minor": 0,
  "cells": [
    {
      "metadata": {
        "collapsed": false
      },
      "source": [
        "%matplotlib inline"
      ],
      "cell_type": "code",
      "outputs": [],
      "execution_count": null
    },
    {
      "metadata": {},
      "source": [
        "\n# Niblack and Sauvola Thresholding\n\n\nNiblack and Sauvola thresholds are local thresholding techniques that are\nuseful for images where the background is not uniform, especially for text\nrecognition [1]_, [2]_. Instead of calculating a single global threshold for\nthe entire image, several thresholds are calculated for every pixel by using\nspecific formulae that take into account the mean and standard deviation of the\nlocal neighborhood (defined by a window centered around the pixel).\n\nHere, we binarize an image using these algorithms compare it to a common global\nthresholding technique. Parameter `window_size` determines the size of the\nwindow that contains the surrounding pixels.\n\n.. [1] Niblack, W (1986), An introduction to Digital Image\n       Processing, Prentice-Hall.\n.. [2] J. Sauvola and M. Pietikainen, \"Adaptive document image\n       binarization,\" Pattern Recognition 33(2),\n       pp. 225-236, 2000.\n       DOI:10.1016/S0031-3203(99)00055-2\n\n"
      ],
      "cell_type": "markdown"
    },
    {
      "metadata": {
        "collapsed": false
      },
      "source": [
        "import matplotlib\nimport matplotlib.pyplot as plt\n\nfrom skimage.data import page\nfrom skimage.filters import (threshold_otsu, threshold_niblack,\n                             threshold_sauvola)\n\n\nmatplotlib.rcParams['font.size'] = 9\n\n\nimage = page()\nbinary_global = image > threshold_otsu(image)\n\nwindow_size = 25\nthresh_niblack = threshold_niblack(image, window_size=window_size, k=0.8)\nthresh_sauvola = threshold_sauvola(image, window_size=window_size)\n\nbinary_niblack = image > thresh_niblack\nbinary_sauvola = image > thresh_sauvola\n\nplt.figure(figsize=(8, 7))\nplt.subplot(2, 2, 1)\nplt.imshow(image, cmap=plt.cm.gray)\nplt.title('Original')\nplt.axis('off')\n\nplt.subplot(2, 2, 2)\nplt.title('Global Threshold')\nplt.imshow(binary_global, cmap=plt.cm.gray)\nplt.axis('off')\n\nplt.subplot(2, 2, 3)\nplt.imshow(binary_niblack, cmap=plt.cm.gray)\nplt.title('Niblack Threshold')\nplt.axis('off')\n\nplt.subplot(2, 2, 4)\nplt.imshow(binary_sauvola, cmap=plt.cm.gray)\nplt.title('Sauvola Threshold')\nplt.axis('off')\n\nplt.show()"
      ],
      "cell_type": "code",
      "outputs": [],
      "execution_count": null
    }
  ]
}