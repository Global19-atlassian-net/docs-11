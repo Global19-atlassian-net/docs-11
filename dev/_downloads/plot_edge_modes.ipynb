{
  "cells": [
    {
      "outputs": [],
      "cell_type": "code",
      "metadata": {
        "collapsed": false
      },
      "source": [
        "%matplotlib inline"
      ],
      "execution_count": null
    },
    {
      "cell_type": "markdown",
      "metadata": {},
      "source": [
        "\n=========================\nInterpolation: Edge Modes\n=========================\n\nThis example illustrates the different edge modes available during\ninterpolation in routines such as :py:func:`skimage.transform.rescale`\nand :py:func:`skimage.transform.resize`.\n\n"
      ]
    },
    {
      "outputs": [],
      "cell_type": "code",
      "metadata": {
        "collapsed": false
      },
      "source": [
        "import numpy as np\nimport matplotlib.pyplot as plt\n\nfrom skimage.util import pad\n\n\nimg = np.zeros((16, 16))\nimg[:8, :8] += 1\nimg[:4, :4] += 1\nimg[:2, :2] += 1\nimg[:1, :1] += 2\nimg[8, 8] = 4\n\nmodes = ['constant', 'edge', 'wrap', 'reflect', 'symmetric']\nfig, axes = plt.subplots(2, 3)\nax = axes.flatten()\n\nfor n, mode in enumerate(modes):\n    img_padded = pad(img, pad_width=img.shape[0], mode=mode)\n    ax[n].imshow(img_padded, cmap=plt.cm.gray, interpolation='nearest')\n    ax[n].plot([15.5, 15.5, 31.5, 31.5, 15.5],\n               [15.5, 31.5, 31.5, 15.5, 15.5], 'y--', linewidth=0.5)\n    ax[n].set_title(mode)\n\nfor a in ax:\n    a.set_axis_off()\n    a.set_aspect('equal')\n\nplt.tight_layout()\nplt.show()"
      ],
      "execution_count": null
    }
  ],
  "nbformat_minor": 0,
  "metadata": {
    "language_info": {
      "nbconvert_exporter": "python",
      "version": "3.4.6",
      "pygments_lexer": "ipython3",
      "codemirror_mode": {
        "name": "ipython",
        "version": 3
      },
      "file_extension": ".py",
      "name": "python",
      "mimetype": "text/x-python"
    },
    "kernelspec": {
      "display_name": "Python 3",
      "name": "python3",
      "language": "python"
    }
  },
  "nbformat": 4
}