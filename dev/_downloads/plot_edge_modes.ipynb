{
  "metadata": {
    "language_info": {
      "file_extension": ".py",
      "mimetype": "text/x-python",
      "nbconvert_exporter": "python",
      "codemirror_mode": {
        "name": "ipython",
        "version": 3
      },
      "name": "python",
      "pygments_lexer": "ipython3",
      "version": "3.4.2"
    },
    "kernelspec": {
      "display_name": "Python 3",
      "language": "python",
      "name": "python3"
    }
  },
  "nbformat_minor": 0,
  "nbformat": 4,
  "cells": [
    {
      "metadata": {
        "collapsed": false
      },
      "execution_count": null,
      "source": [
        "%matplotlib inline"
      ],
      "outputs": [],
      "cell_type": "code"
    },
    {
      "metadata": {},
      "source": [
        "\n=========================\nInterpolation: Edge Modes\n=========================\n\nThis example illustrates the different edge modes available during\ninterpolation in routines such as `skimage.transform.rescale` and\n`skimage.transform.resize`.\n\n"
      ],
      "cell_type": "markdown"
    },
    {
      "metadata": {
        "collapsed": false
      },
      "execution_count": null,
      "source": [
        "import numpy as np\nimport matplotlib.pyplot as plt\n\nfrom skimage._shared.interpolation import extend_image\n\nimg = np.zeros((16, 16))\nimg[:8, :8] += 1\nimg[:4, :4] += 1\nimg[:2, :2] += 1\nimg[:1, :1] += 2\nimg[8, 8] = 4\n\nmodes = ['constant', 'edge', 'wrap', 'reflect', 'symmetric']\nfig, axes = plt.subplots(2, 3)\naxes = axes.flatten()\n\nfor n, mode in enumerate(modes):\n    img_extended = extend_image(img, pad=img.shape[0], mode=mode)\n    axes[n].imshow(img_extended, cmap=plt.cm.gray, interpolation='nearest')\n    axes[n].plot([15.5, 15.5, 31.5, 31.5, 15.5],\n                 [15.5, 31.5, 31.5, 15.5, 15.5], 'y--', linewidth=0.5)\n    axes[n].set_title(mode)\n\nfor n in range(len(axes)):\n    axes[n].set_axis_off()\n    axes[n].set_aspect('equal')\n    \nplt.tight_layout()\nplt.show()"
      ],
      "outputs": [],
      "cell_type": "code"
    }
  ]
}