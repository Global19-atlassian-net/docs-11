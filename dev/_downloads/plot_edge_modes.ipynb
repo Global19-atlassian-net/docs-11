{
  "nbformat_minor": 0,
  "nbformat": 4,
  "cells": [
    {
      "outputs": [],
      "source": [
        "%matplotlib inline"
      ],
      "execution_count": null,
      "metadata": {
        "collapsed": false
      },
      "cell_type": "code"
    },
    {
      "source": [
        "\n=========================\nInterpolation: Edge Modes\n=========================\n\nThis example illustrates the different edge modes available during\ninterpolation in routines such as `skimage.transform.rescale` and\n`skimage.transform.resize`.\n\n"
      ],
      "metadata": {},
      "cell_type": "markdown"
    },
    {
      "outputs": [],
      "source": [
        "import numpy as np\nimport matplotlib.pyplot as plt\n\nfrom skimage._shared.interpolation import extend_image\n\nimg = np.zeros((16, 16))\nimg[:8, :8] += 1\nimg[:4, :4] += 1\nimg[:2, :2] += 1\nimg[:1, :1] += 2\nimg[8, 8] = 4\n\nmodes = ['constant', 'edge', 'wrap', 'reflect', 'symmetric']\nfig, axes = plt.subplots(2, 3)\naxes = axes.flatten()\n\nfor n, mode in enumerate(modes):\n    img_extended = extend_image(img, pad=img.shape[0], mode=mode)\n    axes[n].imshow(img_extended, cmap=plt.cm.gray, interpolation='nearest')\n    axes[n].plot([15.5, 15.5, 31.5, 31.5, 15.5],\n                 [15.5, 31.5, 31.5, 15.5, 15.5], 'y--', linewidth=0.5)\n    axes[n].set_title(mode)\n\nfor n in range(len(axes)):\n    axes[n].set_axis_off()\n    axes[n].set_aspect('equal')\n    \nplt.tight_layout()\nplt.show()"
      ],
      "execution_count": null,
      "metadata": {
        "collapsed": false
      },
      "cell_type": "code"
    }
  ],
  "metadata": {
    "kernelspec": {
      "language": "python",
      "name": "python3",
      "display_name": "Python 3"
    },
    "language_info": {
      "file_extension": ".py",
      "pygments_lexer": "ipython3",
      "mimetype": "text/x-python",
      "version": "3.4.2",
      "codemirror_mode": {
        "version": 3,
        "name": "ipython"
      },
      "name": "python",
      "nbconvert_exporter": "python"
    }
  }
}