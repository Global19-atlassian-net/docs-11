{
  "nbformat": 4,
  "metadata": {
    "kernelspec": {
      "name": "python3",
      "display_name": "Python 3",
      "language": "python"
    },
    "language_info": {
      "codemirror_mode": {
        "version": 3,
        "name": "ipython"
      },
      "pygments_lexer": "ipython3",
      "version": "3.4.2",
      "file_extension": ".py",
      "mimetype": "text/x-python",
      "nbconvert_exporter": "python",
      "name": "python"
    }
  },
  "nbformat_minor": 0,
  "cells": [
    {
      "source": [
        "%matplotlib inline"
      ],
      "outputs": [],
      "execution_count": null,
      "cell_type": "code",
      "metadata": {
        "collapsed": false
      }
    },
    {
      "source": [
        "\n=========================\nInterpolation: Edge Modes\n=========================\n\nThis example illustrates the different edge modes available during\ninterpolation in routines such as `skimage.transform.rescale` and\n`skimage.transform.resize`.\n\n"
      ],
      "cell_type": "markdown",
      "metadata": {}
    },
    {
      "source": [
        "import numpy as np\nimport matplotlib.pyplot as plt\n\nfrom skimage._shared.interpolation import extend_image\n\nimg = np.zeros((16, 16))\nimg[:8, :8] += 1\nimg[:4, :4] += 1\nimg[:2, :2] += 1\nimg[:1, :1] += 2\nimg[8, 8] = 4\n\nmodes = ['constant', 'edge', 'wrap', 'reflect', 'symmetric']\nfig, axes = plt.subplots(2, 3)\naxes = axes.flatten()\n\nfor n, mode in enumerate(modes):\n    img_extended = extend_image(img, pad=img.shape[0], mode=mode)\n    axes[n].imshow(img_extended, cmap=plt.cm.gray, interpolation='nearest')\n    axes[n].plot([15.5, 15.5, 31.5, 31.5, 15.5],\n                 [15.5, 31.5, 31.5, 15.5, 15.5], 'y--', linewidth=0.5)\n    axes[n].set_title(mode)\n\nfor n in range(len(axes)):\n    axes[n].set_axis_off()\n    axes[n].set_aspect('equal')\n    \nplt.tight_layout()\nplt.show()"
      ],
      "outputs": [],
      "execution_count": null,
      "cell_type": "code",
      "metadata": {
        "collapsed": false
      }
    }
  ]
}