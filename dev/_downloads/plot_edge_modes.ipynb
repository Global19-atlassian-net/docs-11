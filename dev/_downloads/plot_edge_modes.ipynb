{
  "nbformat_minor": 0,
  "nbformat": 3,
  "worksheets": [
    {
      "metadata": {},
      "cells": [
        {
          "input": [
            "%matplotlib inline"
          ],
          "outputs": [],
          "collapsed": false,
          "metadata": {},
          "language": "python",
          "cell_type": "code"
        },
        {
          "source": "<div class=\"document\" id=\"interpolation-edge-modes\">\n<h1 class=\"title\">Interpolation: Edge Modes</h1>\n<p>This example illustrates the different edge modes available during\ninterpolation in routines such as <cite>skimage.transform.rescale</cite> and\n<cite>skimage.transform.resize</cite>.</p>\n</div>\n",
          "cell_type": "markdown",
          "metadata": {}
        },
        {
          "input": "from skimage._shared.interpolation import extend_image\nimport skimage.data\nimport matplotlib.pyplot as plt\nimport numpy as np\n\nimg = np.zeros((16, 16))\nimg[:8, :8] += 1\nimg[:4, :4] += 1\nimg[:2, :2] += 1\nimg[:1, :1] += 2\nimg[8, 8] = 4\n\nmodes = ['constant', 'edge', 'wrap', 'reflect', 'symmetric']\nfig, axes = plt.subplots(1, 5, figsize=(15, 5))\nfor n, mode in enumerate(modes):\n    img_extended = extend_image(img, pad=img.shape[0], mode=mode)\n    axes[n].imshow(img_extended, cmap=plt.cm.gray, interpolation='nearest')\n    axes[n].plot([15.5, 15.5], [15.5, 31.5], 'y--', linewidth=0.5)\n    axes[n].plot([31.5, 31.5], [15.5, 31.5], 'y--', linewidth=0.5)\n    axes[n].plot([15.5, 31.5], [15.5, 15.5], 'y--', linewidth=0.5)\n    axes[n].plot([15.5, 31.5], [31.5, 31.5], 'y--', linewidth=0.5)\n    axes[n].set_axis_off()\n    axes[n].set_aspect('equal')\n    axes[n].set_title(mode)\n\nplt.tight_layout()\n\nplt.show()\n",
          "outputs": [],
          "collapsed": false,
          "metadata": {},
          "language": "python",
          "cell_type": "code"
        }
      ]
    }
  ],
  "metadata": {
    "name": ""
  }
}