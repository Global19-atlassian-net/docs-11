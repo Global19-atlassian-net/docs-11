{
  "metadata": {
    "kernelspec": {
      "name": "python3",
      "language": "python",
      "display_name": "Python 3"
    },
    "language_info": {
      "mimetype": "text/x-python",
      "version": "3.4.2",
      "pygments_lexer": "ipython3",
      "file_extension": ".py",
      "name": "python",
      "nbconvert_exporter": "python",
      "codemirror_mode": {
        "name": "ipython",
        "version": 3
      }
    }
  },
  "cells": [
    {
      "execution_count": null,
      "source": [
        "%matplotlib inline"
      ],
      "cell_type": "code",
      "outputs": [],
      "metadata": {
        "collapsed": false
      }
    },
    {
      "metadata": {},
      "source": [
        "\n# Normalized Cut\n\n\nThis example constructs a Region Adjacency Graph (RAG) and recursively performs\na Normalized Cut on it.\n\nReferences\n----------\n.. [1] Shi, J.; Malik, J., \"Normalized cuts and image segmentation\",\n       Pattern Analysis and Machine Intelligence,\n       IEEE Transactions on, vol. 22, no. 8, pp. 888-905, August 2000.\n\n"
      ],
      "cell_type": "markdown"
    },
    {
      "execution_count": null,
      "source": [
        "from skimage import data, io, segmentation, color\nfrom skimage.future import graph\nfrom matplotlib import pyplot as plt\n\n\nimg = data.coffee()\n\nlabels1 = segmentation.slic(img, compactness=30, n_segments=400)\nout1 = color.label2rgb(labels1, img, kind='avg')\n\ng = graph.rag_mean_color(img, labels1, mode='similarity')\nlabels2 = graph.cut_normalized(labels1, g)\nout2 = color.label2rgb(labels2, img, kind='avg')\n\nplt.figure()\nio.imshow(out1)\nplt.figure()\nio.imshow(out2)\nio.show()"
      ],
      "cell_type": "code",
      "outputs": [],
      "metadata": {
        "collapsed": false
      }
    }
  ],
  "nbformat_minor": 0,
  "nbformat": 4
}