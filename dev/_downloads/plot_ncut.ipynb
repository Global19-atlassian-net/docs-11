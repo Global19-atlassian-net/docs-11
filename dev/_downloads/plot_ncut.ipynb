{
  "nbformat_minor": 0,
  "metadata": {
    "language_info": {
      "name": "python",
      "codemirror_mode": {
        "name": "ipython",
        "version": 3
      },
      "file_extension": ".py",
      "pygments_lexer": "ipython3",
      "mimetype": "text/x-python",
      "version": "3.4.2",
      "nbconvert_exporter": "python"
    },
    "kernelspec": {
      "language": "python",
      "name": "python3",
      "display_name": "Python 3"
    }
  },
  "nbformat": 4,
  "cells": [
    {
      "source": [
        "%matplotlib inline"
      ],
      "metadata": {
        "collapsed": false
      },
      "execution_count": null,
      "outputs": [],
      "cell_type": "code"
    },
    {
      "metadata": {},
      "source": [
        "\n# Normalized Cut\n\n\nThis example constructs a Region Adjacency Graph (RAG) and recursively performs\na Normalized Cut on it.\n\nReferences\n----------\n.. [1] Shi, J.; Malik, J., \"Normalized cuts and image segmentation\",\n       Pattern Analysis and Machine Intelligence,\n       IEEE Transactions on, vol. 22, no. 8, pp. 888-905, August 2000.\n\n"
      ],
      "cell_type": "markdown"
    },
    {
      "source": [
        "from skimage import data, segmentation, color\nfrom skimage.future import graph\nfrom matplotlib import pyplot as plt\n\n\nimg = data.coffee()\n\nlabels1 = segmentation.slic(img, compactness=30, n_segments=400)\nout1 = color.label2rgb(labels1, img, kind='avg')\n\ng = graph.rag_mean_color(img, labels1, mode='similarity')\nlabels2 = graph.cut_normalized(labels1, g)\nout2 = color.label2rgb(labels2, img, kind='avg')\n\nfig, ax = plt.subplots(nrows=2, sharex=True, sharey=True, figsize=(6, 8))\n\nax[0].imshow(out1)\nax[1].imshow(out2)\n\nfor a in ax:\n    a.axis('off')\n\nplt.tight_layout()"
      ],
      "metadata": {
        "collapsed": false
      },
      "execution_count": null,
      "outputs": [],
      "cell_type": "code"
    }
  ]
}