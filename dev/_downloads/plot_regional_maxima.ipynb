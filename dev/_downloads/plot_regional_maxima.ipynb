{
  "nbformat_minor": 0,
  "cells": [
    {
      "source": [
        "%matplotlib inline"
      ],
      "execution_count": null,
      "outputs": [],
      "cell_type": "code",
      "metadata": {
        "collapsed": false
      }
    },
    {
      "source": [
        "\n# Filtering regional maxima\n\n\nHere, we use morphological reconstruction to create a background image, which\nwe can subtract from the original image to isolate bright features (regional\nmaxima).\n\nFirst we try reconstruction by dilation starting at the edges of the image. We\ninitialize a seed image to the minimum intensity of the image, and set its\nborder to be the pixel values in the original image. These maximal pixels will\nget dilated in order to reconstruct the background image.\n\n\n"
      ],
      "cell_type": "markdown",
      "metadata": {}
    },
    {
      "source": [
        "import numpy as np\nfrom scipy.ndimage import gaussian_filter\nimport matplotlib.pyplot as plt\n\nfrom skimage import data\nfrom skimage import img_as_float\nfrom skimage.morphology import reconstruction\n\n# Convert to float: Important for subtraction later which won't work with uint8\nimage = img_as_float(data.coins())\nimage = gaussian_filter(image, 1)\n\nseed = np.copy(image)\nseed[1:-1, 1:-1] = image.min()\nmask = image\n\ndilated = reconstruction(seed, mask, method='dilation')"
      ],
      "execution_count": null,
      "outputs": [],
      "cell_type": "code",
      "metadata": {
        "collapsed": false
      }
    },
    {
      "source": [
        "Subtracting the dilated image leaves an image with just the coins and a\nflat, black background, as shown below.\n\n"
      ],
      "cell_type": "markdown",
      "metadata": {}
    },
    {
      "source": [
        "fig, (ax1, ax2, ax3) = plt.subplots(1, 3, figsize=(8, 2.5), sharex=True, sharey=True)\n\nax1.imshow(image)\nax1.set_title('original image')\nax1.axis('off')\nax1.set_adjustable('box-forced')\n\nax2.imshow(dilated, vmin=image.min(), vmax=image.max())\nax2.set_title('dilated')\nax2.axis('off')\nax2.set_adjustable('box-forced')\n\nax3.imshow(image - dilated)\nax3.set_title('image - dilated')\nax3.axis('off')\nax3.set_adjustable('box-forced')\n\nfig.tight_layout()"
      ],
      "execution_count": null,
      "outputs": [],
      "cell_type": "code",
      "metadata": {
        "collapsed": false
      }
    },
    {
      "source": [
        "Although the features (i.e. the coins) are clearly isolated, the coins\nsurrounded by a bright background in the original image are dimmer in the\nsubtracted image. We can attempt to correct this using a different seed\nimage.\n\nInstead of creating a seed image with maxima along the image border, we can\nuse the features of the image itself to seed the reconstruction process.\nHere, the seed image is the original image minus a fixed value, ``h``.\n\n"
      ],
      "cell_type": "markdown",
      "metadata": {}
    },
    {
      "source": [
        "h = 0.4\nseed = image - h\ndilated = reconstruction(seed, mask, method='dilation')\nhdome = image - dilated"
      ],
      "execution_count": null,
      "outputs": [],
      "cell_type": "code",
      "metadata": {
        "collapsed": false
      }
    },
    {
      "source": [
        "To get a feel for the reconstruction process, we plot the intensity of the\nmask, seed, and dilated images along a slice of the image (indicated by red\nline).\n\n"
      ],
      "cell_type": "markdown",
      "metadata": {}
    },
    {
      "source": [
        "fig, (ax1, ax2, ax3) = plt.subplots(1, 3, figsize=(8, 2.5))\n\nyslice = 197\n\nax1.plot(mask[yslice], '0.5', label='mask')\nax1.plot(seed[yslice], 'k', label='seed')\nax1.plot(dilated[yslice], 'r', label='dilated')\nax1.set_ylim(-0.2, 2)\nax1.set_title('image slice')\nax1.set_xticks([])\nax1.legend()\n\nax2.imshow(dilated, vmin=image.min(), vmax=image.max())\nax2.axhline(yslice, color='r', alpha=0.4)\nax2.set_title('dilated')\nax2.axis('off')\n\nax3.imshow(hdome)\nax3.axhline(yslice, color='r', alpha=0.4)\nax3.set_title('image - dilated')\nax3.axis('off')\n\nfig.tight_layout()\nplt.show()"
      ],
      "execution_count": null,
      "outputs": [],
      "cell_type": "code",
      "metadata": {
        "collapsed": false
      }
    },
    {
      "source": [
        "As you can see in the image slice, each coin is given a different baseline\nintensity in the reconstructed image; this is because we used the local\nintensity (shifted by ``h``) as a seed value. As a result, the coins in the\nsubtracted image have similar pixel intensities. The final result is known\nas the h-dome of an image since this tends to isolate regional maxima of\nheight ``h``. This operation is particularly useful when your images are\nunevenly illuminated.\n\n"
      ],
      "cell_type": "markdown",
      "metadata": {}
    }
  ],
  "nbformat": 4,
  "metadata": {
    "language_info": {
      "name": "python",
      "version": "3.4.2",
      "file_extension": ".py",
      "codemirror_mode": {
        "name": "ipython",
        "version": 3
      },
      "mimetype": "text/x-python",
      "nbconvert_exporter": "python",
      "pygments_lexer": "ipython3"
    },
    "kernelspec": {
      "name": "python3",
      "language": "python",
      "display_name": "Python 3"
    }
  }
}