{
  "cells": [
    {
      "metadata": {
        "collapsed": false
      },
      "source": [
        "%matplotlib inline"
      ],
      "cell_type": "code",
      "execution_count": null,
      "outputs": []
    },
    {
      "metadata": {},
      "source": [
        "\n# Wavelet denoising\n\n\nWavelet denoising relies on the wavelet representation of the image.\nGaussian noise tends to be represented by small values in the wavelet domain\nand can be removed by setting coefficients below a given threshold to zero\n(hard thresholding) or shrinking all coefficients toward zero by a given amount\n(soft thresholding).\n\nIn this example, we illustrate two different methods for wavelet coefficient\nthreshold selection:  BayesShrink and VisuShrink.\n\nVisuShrink\n----------\nThe VisuShrink approach employs a single, universal threshold to all wavelet\ndetail coefficients.  This threshold is designed to remove additive Gaussian\nnoise with high probability, which tends to result in overly smooth image\nappearance.  By specifying a sigma that is smaller than the true noise standard\ndeviation, a more visually agreeable result can be obtained.\n\nBayesShrink\n-----------\nThe BayesShrink algorithm is an adaptive approach to wavelet soft thresholding\nwhere a unique threshold is estimated for each wavelet subband.  This generally\nresults in an improvement over what can be obtained with a single threshold.\n\n\n"
      ],
      "cell_type": "markdown"
    },
    {
      "metadata": {
        "collapsed": false
      },
      "source": [
        "import matplotlib.pyplot as plt\n\nfrom skimage.restoration import (denoise_wavelet, estimate_sigma)\nfrom skimage import data, img_as_float\nfrom skimage.util import random_noise\nfrom skimage.measure import compare_psnr\n\n\noriginal = img_as_float(data.chelsea()[100:250, 50:300])\n\nsigma = 0.12\nnoisy = random_noise(original, var=sigma**2)\n\nfig, ax = plt.subplots(nrows=2, ncols=3, figsize=(8, 5), sharex=True,\n                       sharey=True, subplot_kw={'adjustable': 'box-forced'})\n\nplt.gray()\n\n# Estimate the average noise standard deviation across color channels.\nsigma_est = estimate_sigma(noisy, multichannel=True, average_sigmas=True)\n# Due to clipping in random_noise, the estimate will be a bit smaller than the\n# specified sigma.\nprint(\"Estimated Gaussian noise standard deviation = {}\".format(sigma_est))\n\nim_bayes = denoise_wavelet(noisy, multichannel=True, convert2ycbcr=True,\n                           method='BayesShrink', mode='soft')\nim_visushrink = denoise_wavelet(noisy, multichannel=True, convert2ycbcr=True,\n                                method='VisuShrink', mode='soft',\n                                sigma=sigma_est)\n\n# VisuShrink is designed to eliminate noise with high probability, but this\n# results in a visually over-smooth appearance.  Repeat, specifying a reduction\n# in the threshold by factors of 2 and 4.\nim_visushrink2 = denoise_wavelet(noisy, multichannel=True, convert2ycbcr=True,\n                                 method='VisuShrink', mode='soft',\n                                 sigma=sigma_est/2)\nim_visushrink4 = denoise_wavelet(noisy, multichannel=True, convert2ycbcr=True,\n                                 method='VisuShrink', mode='soft',\n                                 sigma=sigma_est/4)\n\n# Compute PSNR as an indication of image quality\npsnr_noisy = compare_psnr(original, noisy)\npsnr_bayes = compare_psnr(original, im_bayes)\npsnr_visushrink = compare_psnr(original, im_visushrink)\npsnr_visushrink2 = compare_psnr(original, im_visushrink2)\npsnr_visushrink4 = compare_psnr(original, im_visushrink4)\n\nax[0, 0].imshow(noisy)\nax[0, 0].axis('off')\nax[0, 0].set_title('Noisy\\nPSNR={:0.4g}'.format(psnr_noisy))\nax[0, 1].imshow(im_bayes)\nax[0, 1].axis('off')\nax[0, 1].set_title(\n    'Wavelet denoising\\n(BayesShrink)\\nPSNR={:0.4g}'.format(psnr_bayes))\nax[0, 2].imshow(im_visushrink)\nax[0, 2].axis('off')\nax[0, 2].set_title(\n    ('Wavelet denoising\\n(VisuShrink, $\\sigma=\\sigma_{est}$)\\n'\n     'PSNR=%0.4g' % psnr_visushrink))\nax[1, 0].imshow(original)\nax[1, 0].axis('off')\nax[1, 0].set_title('Original')\nax[1, 1].imshow(im_visushrink2)\nax[1, 1].axis('off')\nax[1, 1].set_title(\n    ('Wavelet denoising\\n(VisuShrink, $\\sigma=\\sigma_{est}/2$)\\n'\n     'PSNR=%0.4g' % psnr_visushrink2))\nax[1, 2].imshow(im_visushrink4)\nax[1, 2].axis('off')\nax[1, 2].set_title(\n    ('Wavelet denoising\\n(VisuShrink, $\\sigma=\\sigma_{est}/4$)\\n'\n     'PSNR=%0.4g' % psnr_visushrink4))\nfig.tight_layout()\n\nplt.show()"
      ],
      "cell_type": "code",
      "execution_count": null,
      "outputs": []
    }
  ],
  "metadata": {
    "kernelspec": {
      "name": "python3",
      "language": "python",
      "display_name": "Python 3"
    },
    "language_info": {
      "pygments_lexer": "ipython3",
      "codemirror_mode": {
        "version": 3,
        "name": "ipython"
      },
      "name": "python",
      "mimetype": "text/x-python",
      "file_extension": ".py",
      "nbconvert_exporter": "python",
      "version": "3.4.6"
    }
  },
  "nbformat": 4,
  "nbformat_minor": 0
}