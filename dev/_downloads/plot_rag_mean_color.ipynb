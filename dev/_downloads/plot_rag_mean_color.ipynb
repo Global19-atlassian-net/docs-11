{
  "nbformat": 4,
  "cells": [
    {
      "outputs": [],
      "execution_count": null,
      "metadata": {
        "collapsed": false
      },
      "source": [
        "%matplotlib inline"
      ],
      "cell_type": "code"
    },
    {
      "source": [
        "\n# RAG Thresholding\n\n\nThis example constructs a Region Adjacency Graph (RAG) and merges regions\nwhich are similar in color. We construct a RAG and define edges as the\ndifference in mean color. We then join regions with similar mean color.\n\n\n"
      ],
      "metadata": {},
      "cell_type": "markdown"
    },
    {
      "outputs": [],
      "execution_count": null,
      "metadata": {
        "collapsed": false
      },
      "source": [
        "from skimage import data, io, segmentation, color\nfrom skimage.future import graph\nfrom matplotlib import pyplot as plt\n\n\nimg = data.coffee()\n\nlabels1 = segmentation.slic(img, compactness=30, n_segments=400)\nout1 = color.label2rgb(labels1, img, kind='avg')\n\ng = graph.rag_mean_color(img, labels1)\nlabels2 = graph.cut_threshold(labels1, g, 29)\nout2 = color.label2rgb(labels2, img, kind='avg')\n\nplt.figure()\nio.imshow(out1)\nplt.figure()\nio.imshow(out2)\nio.show()"
      ],
      "cell_type": "code"
    }
  ],
  "metadata": {
    "kernelspec": {
      "name": "python3",
      "language": "python",
      "display_name": "Python 3"
    },
    "language_info": {
      "name": "python",
      "version": "3.4.2",
      "mimetype": "text/x-python",
      "codemirror_mode": {
        "name": "ipython",
        "version": 3
      },
      "pygments_lexer": "ipython3",
      "file_extension": ".py",
      "nbconvert_exporter": "python"
    }
  },
  "nbformat_minor": 0
}