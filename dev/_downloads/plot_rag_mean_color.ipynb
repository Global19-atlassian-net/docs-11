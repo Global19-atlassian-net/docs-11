{
  "metadata": {
    "language_info": {
      "file_extension": ".py",
      "mimetype": "text/x-python",
      "nbconvert_exporter": "python",
      "name": "python",
      "pygments_lexer": "ipython3",
      "codemirror_mode": {
        "name": "ipython",
        "version": 3
      },
      "version": "3.4.2"
    },
    "kernelspec": {
      "language": "python",
      "display_name": "Python 3",
      "name": "python3"
    }
  },
  "nbformat": 4,
  "cells": [
    {
      "execution_count": null,
      "metadata": {
        "collapsed": false
      },
      "cell_type": "code",
      "source": [
        "%matplotlib inline"
      ],
      "outputs": []
    },
    {
      "metadata": {},
      "cell_type": "markdown",
      "source": [
        "\n# RAG Thresholding\n\n\nThis example constructs a Region Adjacency Graph (RAG) and merges regions\nwhich are similar in color. We construct a RAG and define edges as the\ndifference in mean color. We then join regions with similar mean color.\n\n\n"
      ]
    },
    {
      "execution_count": null,
      "metadata": {
        "collapsed": false
      },
      "cell_type": "code",
      "source": [
        "from skimage import data, io, segmentation, color\nfrom skimage.future import graph\nfrom matplotlib import pyplot as plt\n\n\nimg = data.coffee()\n\nlabels1 = segmentation.slic(img, compactness=30, n_segments=400)\nout1 = color.label2rgb(labels1, img, kind='avg')\n\ng = graph.rag_mean_color(img, labels1)\nlabels2 = graph.cut_threshold(labels1, g, 29)\nout2 = color.label2rgb(labels2, img, kind='avg')\n\nplt.figure()\nio.imshow(out1)\nplt.figure()\nio.imshow(out2)\nio.show()"
      ],
      "outputs": []
    }
  ],
  "nbformat_minor": 0
}