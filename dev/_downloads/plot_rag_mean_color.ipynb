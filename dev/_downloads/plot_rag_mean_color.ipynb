{
  "nbformat": 4,
  "nbformat_minor": 0,
  "metadata": {
    "language_info": {
      "version": "3.4.2",
      "name": "python",
      "nbconvert_exporter": "python",
      "codemirror_mode": {
        "version": 3,
        "name": "ipython"
      },
      "file_extension": ".py",
      "pygments_lexer": "ipython3",
      "mimetype": "text/x-python"
    },
    "kernelspec": {
      "display_name": "Python 3",
      "language": "python",
      "name": "python3"
    }
  },
  "cells": [
    {
      "source": [
        "%matplotlib inline"
      ],
      "metadata": {
        "collapsed": false
      },
      "outputs": [],
      "execution_count": null,
      "cell_type": "code"
    },
    {
      "source": [
        "\n# RAG Thresholding\n\n\nThis example constructs a Region Adjacency Graph (RAG) and merges regions\nwhich are similar in color. We construct a RAG and define edges as the\ndifference in mean color. We then join regions with similar mean color.\n\n\n"
      ],
      "metadata": {},
      "cell_type": "markdown"
    },
    {
      "source": [
        "from skimage import data, io, segmentation, color\nfrom skimage.future import graph\nfrom matplotlib import pyplot as plt\n\n\nimg = data.coffee()\n\nlabels1 = segmentation.slic(img, compactness=30, n_segments=400)\nout1 = color.label2rgb(labels1, img, kind='avg')\n\ng = graph.rag_mean_color(img, labels1)\nlabels2 = graph.cut_threshold(labels1, g, 29)\nout2 = color.label2rgb(labels2, img, kind='avg')\n\nplt.figure()\nio.imshow(out1)\nplt.figure()\nio.imshow(out2)\nio.show()"
      ],
      "metadata": {
        "collapsed": false
      },
      "outputs": [],
      "execution_count": null,
      "cell_type": "code"
    }
  ]
}