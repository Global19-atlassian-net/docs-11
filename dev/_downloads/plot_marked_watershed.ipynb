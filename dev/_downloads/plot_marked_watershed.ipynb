{
  "metadata": {
    "kernelspec": {
      "display_name": "Python 3",
      "name": "python3",
      "language": "python"
    },
    "language_info": {
      "codemirror_mode": {
        "name": "ipython",
        "version": 3
      },
      "mimetype": "text/x-python",
      "nbconvert_exporter": "python",
      "pygments_lexer": "ipython3",
      "name": "python",
      "file_extension": ".py",
      "version": "3.4.2"
    }
  },
  "cells": [
    {
      "execution_count": null,
      "source": [
        "%matplotlib inline"
      ],
      "metadata": {
        "collapsed": false
      },
      "cell_type": "code",
      "outputs": []
    },
    {
      "source": [
        "\n# Markers for watershed transform\n\n\nThe watershed is a classical algorithm used for **segmentation**, that\nis, for separating different objects in an image.\n\nHere a marker image is built from the region of low gradient inside the image.\nIn a gradient image, the areas of high values provide barriers that help to\nsegment the image.\nUsing markers on the lower values will ensure that the segmented objects are\nfound.\n\nSee Wikipedia_ for more details on the algorithm.\n\n.. _Wikipedia: http://en.wikipedia.org/wiki/Watershed_(image_processing)\n\n\n"
      ],
      "metadata": {},
      "cell_type": "markdown"
    },
    {
      "execution_count": null,
      "source": [
        "from scipy import ndimage as ndi\nimport matplotlib.pyplot as plt\n\nfrom skimage.morphology import watershed, disk\nfrom skimage import data\nfrom skimage.filters import rank\nfrom skimage.util import img_as_ubyte\n\n\nimage = img_as_ubyte(data.camera())\n\n# denoise image\ndenoised = rank.median(image, disk(2))\n\n# find continuous region (low gradient -\n# where less than 10 for this image) --> markers\n# disk(5) is used here to get a more smooth image\nmarkers = rank.gradient(denoised, disk(5)) < 10\nmarkers = ndi.label(markers)[0]\n\n# local gradient (disk(2) is used to keep edges thin)\ngradient = rank.gradient(denoised, disk(2))\n\n# process the watershed\nlabels = watershed(gradient, markers)\n\n# display results\nfig, axes = plt.subplots(nrows=2, ncols=2, figsize=(8, 8), sharex=True, sharey=True, subplot_kw={'adjustable':'box-forced'})\naxes = axes.ravel()\nax0, ax1, ax2, ax3 = axes\n\nax0.imshow(image, cmap=plt.cm.gray, interpolation='nearest')\nax0.set_title(\"Original\")\nax1.imshow(gradient, cmap=plt.cm.spectral, interpolation='nearest')\nax1.set_title(\"Local Gradient\")\nax2.imshow(markers, cmap=plt.cm.spectral, interpolation='nearest')\nax2.set_title(\"Markers\")\nax3.imshow(image, cmap=plt.cm.gray, interpolation='nearest')\nax3.imshow(labels, cmap=plt.cm.spectral, interpolation='nearest', alpha=.7)\nax3.set_title(\"Segmented\")\n\nfor ax in axes:\n    ax.axis('off')\n\nfig.tight_layout()\nplt.show()"
      ],
      "metadata": {
        "collapsed": false
      },
      "cell_type": "code",
      "outputs": []
    }
  ],
  "nbformat": 4,
  "nbformat_minor": 0
}