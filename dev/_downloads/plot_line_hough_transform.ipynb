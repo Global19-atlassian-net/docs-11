{
  "metadata": {
    "kernelspec": {
      "language": "python",
      "display_name": "Python 3",
      "name": "python3"
    },
    "language_info": {
      "version": "3.4.2",
      "name": "python",
      "file_extension": ".py",
      "nbconvert_exporter": "python",
      "codemirror_mode": {
        "version": 3,
        "name": "ipython"
      },
      "mimetype": "text/x-python",
      "pygments_lexer": "ipython3"
    }
  },
  "nbformat_minor": 0,
  "nbformat": 4,
  "cells": [
    {
      "metadata": {
        "collapsed": false
      },
      "outputs": [],
      "source": [
        "%matplotlib inline"
      ],
      "cell_type": "code",
      "execution_count": null
    },
    {
      "metadata": {},
      "source": [
        "\n# Straight line Hough transform\n\n\nThe Hough transform in its simplest form is a method to detect straight lines.\n\nIn the following example, we construct an image with a line intersection. We\nthen use the `Hough transform  <http://en.wikipedia.org/wiki/Hough_transform>`__.\nto explore a parameter space for straight lines that may run through the image.\n\nAlgorithm overview\n------------------\n\nUsually, lines are parameterised as $y = mx + c$, with a gradient\n$m` and y-intercept `c`. However, this would mean that :math:`m$ goes to\ninfinity for vertical lines. Instead, we therefore construct a segment\nperpendicular to the line, leading to the origin. The line is represented by\nthe length of that segment, $r$, and the angle it makes with the x-axis,\n$\\theta$.\n\nThe Hough transform constructs a histogram array representing the parameter\nspace (i.e., an $M \\times N` matrix, for :math:`M$ different values of\nthe radius and $N` different values of :math:`\\theta$).  For each\nparameter combination, $r` and :math:`\\theta$, we then find the number of\nnon-zero pixels in the input image that would fall close to the corresponding\nline, and increment the array at position $(r, \\theta)$ appropriately.\n\nWe can think of each non-zero pixel \"voting\" for potential line candidates. The\nlocal maxima in the resulting histogram indicates the parameters of the most\nprobably lines. In our example, the maxima occur at 45 and 135 degrees,\ncorresponding to the normal vector angles of each line.\n\nAnother approach is the Progressive Probabilistic Hough Transform [1]_. It is\nbased on the assumption that using a random subset of voting points give a good\napproximation to the actual result, and that lines can be extracted during the\nvoting process by walking along connected components. This returns the\nbeginning and end of each line segment, which is useful.\n\nThe function `probabilistic_hough` has three parameters: a general threshold\nthat is applied to the Hough accumulator, a minimum line length and the line\ngap that influences line merging. In the example below, we find lines longer\nthan 10 with a gap less than 3 pixels.\n\nReferences\n----------\n\n.. [1] C. Galamhos, J. Matas and J. Kittler,\"Progressive probabilistic\n       Hough transform for line detection\", in IEEE Computer Society\n       Conference on Computer Vision and Pattern Recognition, 1999.\n\n.. [2] Duda, R. O. and P. E. Hart, \"Use of the Hough Transformation to\n       Detect Lines and Curves in Pictures,\" Comm. ACM, Vol. 15,\n       pp. 11-15 (January, 1972)\n\n"
      ],
      "cell_type": "markdown"
    },
    {
      "metadata": {
        "collapsed": false
      },
      "outputs": [],
      "source": [
        "from matplotlib import cm\nfrom skimage.transform import (hough_line, hough_line_peaks,\n                               probabilistic_hough_line)\nfrom skimage.feature import canny\nfrom skimage import data\n\nimport numpy as np\nimport matplotlib.pyplot as plt\n\n# Constructing test image.\nimage = np.zeros((100, 100))\nidx = np.arange(25, 75)\nimage[idx[::-1], idx] = 255\nimage[idx, idx] = 255\n\n# Classic straight-line Hough transform.\nh, theta, d = hough_line(image)\n\n# Generating figure 1.\nfig, (ax0, ax1, ax2) = plt.subplots(1, 3, figsize=(12, 6))\nplt.tight_layout()\n\nax0.imshow(image, cmap=cm.gray)\nax0.set_title('Input image')\nax0.set_axis_off()\n\nax1.imshow(np.log(1 + h), extent=[np.rad2deg(theta[-1]), np.rad2deg(theta[0]),\n           d[-1], d[0]], cmap=cm.gray, aspect=1/1.5)\nax1.set_title('Hough transform')\nax1.set_xlabel('Angles (degrees)')\nax1.set_ylabel('Distance (pixels)')\nax1.axis('image')\n\nax2.imshow(image, cmap=cm.gray)\nrow1, col1 = image.shape\nfor _, angle, dist in zip(*hough_line_peaks(h, theta, d)):\n    y0 = (dist - 0 * np.cos(angle)) / np.sin(angle)\n    y1 = (dist - col1 * np.cos(angle)) / np.sin(angle)\n    ax2.plot((0, col1), (y0, y1), '-r')\nax2.axis((0, col1, row1, 0))\nax2.set_title('Detected lines')\nax2.set_axis_off()\n\n# Line finding using the Probabilistic Hough Transform.\nimage = data.camera()\nedges = canny(image, 2, 1, 25)\nlines = probabilistic_hough_line(edges, threshold=10, line_length=5,\n                                 line_gap=3)\n\n# Generating figure 2.\nfig, (ax0, ax1, ax2) = plt.subplots(1, 3, figsize=(16, 6), sharex=True,\n                                    sharey=True)\nplt.tight_layout()\n\nax0.imshow(image, cmap=cm.gray)\nax0.set_title('Input image')\nax0.set_axis_off()\nax0.set_adjustable('box-forced')\n\nax1.imshow(edges, cmap=cm.gray)\nax1.set_title('Canny edges')\nax1.set_axis_off()\nax1.set_adjustable('box-forced')\n\nax2.imshow(edges * 0)\nfor line in lines:\n    p0, p1 = line\n    ax2.plot((p0[0], p1[0]), (p0[1], p1[1]))\n\nrow2, col2 = image.shape\nax2.axis((0, col2, row2, 0))\n\nax2.set_title('Probabilistic Hough')\nax2.set_axis_off()\nax2.set_adjustable('box-forced')\n\nplt.show()"
      ],
      "cell_type": "code",
      "execution_count": null
    }
  ]
}