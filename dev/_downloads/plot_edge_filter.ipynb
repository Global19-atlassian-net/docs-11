{
  "nbformat_minor": 0,
  "cells": [
    {
      "source": [
        "%matplotlib inline"
      ],
      "cell_type": "code",
      "outputs": [],
      "execution_count": null,
      "metadata": {
        "collapsed": false
      }
    },
    {
      "cell_type": "markdown",
      "source": [
        "\n# Edge operators\n\n\nEdge operators are used in image processing within edge detection algorithms.\nThey are discrete differentiation operators, computing an approximation of the\ngradient of the image intensity function.\n\n\n"
      ],
      "metadata": {}
    },
    {
      "source": [
        "import numpy as np\nimport matplotlib.pyplot as plt\n\nfrom skimage.data import camera\nfrom skimage.filters import roberts, sobel, scharr, prewitt\n\n\nimage = camera()\nedge_roberts = roberts(image)\nedge_sobel = sobel(image)\n\nfig, (ax0, ax1) = plt.subplots(ncols=2, sharex=True, sharey=True, subplot_kw={'adjustable':'box-forced'})\n\nax0.imshow(edge_roberts, cmap=plt.cm.gray)\nax0.set_title('Roberts Edge Detection')\nax0.axis('off')\n\nax1.imshow(edge_sobel, cmap=plt.cm.gray)\nax1.set_title('Sobel Edge Detection')\nax1.axis('off')\n\nplt.tight_layout()"
      ],
      "cell_type": "code",
      "outputs": [],
      "execution_count": null,
      "metadata": {
        "collapsed": false
      }
    },
    {
      "cell_type": "markdown",
      "source": [
        "Different operators compute different finite-difference approximations of\nthe gradient. For example, the Scharr filter results in a less rotational\nvariance than the Sobel filter that is in turn better than the Prewitt\nfilter [1]_ [2]_ [3]_. The difference between the Prewitt and Sobel filters\nand the Scharr filter is illustrated below with an image that is the\ndiscretization of a rotation- invariant continuous function. The\ndiscrepancy between the Prewitt and Sobel filters, and the Scharr filter is\nstronger for regions of the image where the direction of the gradient is\nclose to diagonal, and for regions with high spatial frequencies. For the\nexample image the differences between the filter results are very small and\nthe filter results are visually almost indistinguishable.\n\n.. [1] https://en.wikipedia.org/wiki/Sobel_operator#Alternative_operators\n\n.. [2] B. Jaehne, H. Scharr, and S. Koerkel. Principles of filter design.\n       In Handbook of Computer Vision and Applications. Academic Press,\n       1999.\n\n.. [3] https://en.wikipedia.org/wiki/Prewitt_operator\n\n"
      ],
      "metadata": {}
    },
    {
      "source": [
        "x, y = np.ogrid[:100, :100]\n# Rotation-invariant image with different spatial frequencies\nimg = np.exp(1j * np.hypot(x, y)**1.3 / 20.).real\n\nedge_sobel = sobel(img)\nedge_scharr = scharr(img)\nedge_prewitt = prewitt(img)\n\ndiff_scharr_prewitt = edge_scharr - edge_prewitt\ndiff_scharr_sobel = edge_scharr - edge_sobel\nmax_diff = np.max(np.maximum(diff_scharr_prewitt, diff_scharr_sobel))\n\nfig, ((ax0, ax1), (ax2, ax3)) = plt.subplots(nrows=2, ncols=2, sharex=True, sharey=True, subplot_kw={'adjustable':'box-forced'})\n\nax0.imshow(img, cmap=plt.cm.gray)\nax0.set_title('Original image')\nax0.axis('off')\n\nax1.imshow(edge_scharr, cmap=plt.cm.gray)\nax1.set_title('Scharr Edge Detection')\nax1.axis('off')\n\nax2.imshow(diff_scharr_prewitt, cmap=plt.cm.gray, vmax=max_diff)\nax2.set_title('Scharr - Prewitt')\nax2.axis('off')\n\nax3.imshow(diff_scharr_sobel, cmap=plt.cm.gray, vmax=max_diff)\nax3.set_title('Scharr - Sobel')\nax3.axis('off')\n\nplt.tight_layout()\nplt.show()"
      ],
      "cell_type": "code",
      "outputs": [],
      "execution_count": null,
      "metadata": {
        "collapsed": false
      }
    }
  ],
  "metadata": {
    "kernelspec": {
      "display_name": "Python 3",
      "name": "python3",
      "language": "python"
    },
    "language_info": {
      "codemirror_mode": {
        "name": "ipython",
        "version": 3
      },
      "file_extension": ".py",
      "nbconvert_exporter": "python",
      "name": "python",
      "pygments_lexer": "ipython3",
      "version": "3.4.2",
      "mimetype": "text/x-python"
    }
  },
  "nbformat": 4
}