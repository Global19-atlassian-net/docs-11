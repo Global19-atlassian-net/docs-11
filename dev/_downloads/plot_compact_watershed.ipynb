{
  "metadata": {
    "kernelspec": {
      "display_name": "Python 3",
      "name": "python3",
      "language": "python"
    },
    "language_info": {
      "name": "python",
      "version": "3.4.2",
      "codemirror_mode": {
        "version": 3,
        "name": "ipython"
      },
      "pygments_lexer": "ipython3",
      "mimetype": "text/x-python",
      "file_extension": ".py",
      "nbconvert_exporter": "python"
    }
  },
  "nbformat_minor": 0,
  "nbformat": 4,
  "cells": [
    {
      "metadata": {
        "collapsed": false
      },
      "cell_type": "code",
      "source": [
        "%matplotlib inline"
      ],
      "execution_count": null,
      "outputs": []
    },
    {
      "metadata": {},
      "cell_type": "markdown",
      "source": [
        "\n# Find Regular Segments Using Compact Watershed\n\n\nThe watershed transform is commonly used as a starting point for many\nsegmentation algorithms. However, without a judicious choice of seeds, it\ncan produce very uneven fragment sizes, which can be difficult to deal with\nin downstream analyses.\n\nThe *compact* watershed transform remedies this by favoring seeds that are\nclose to the pixel being considered.\n\nBoth algorithms are implemented in the :py:func:`skimage.morphology.watershed`\nfunction. To use the compact form, simply pass a ``compactness`` value greater\nthan 0.\n\n"
      ]
    },
    {
      "metadata": {
        "collapsed": false
      },
      "cell_type": "code",
      "source": [
        "import numpy as np\nfrom skimage import data, util, filters, color\nfrom skimage.morphology import watershed\nimport matplotlib.pyplot as plt\n\ncoins = data.coins()\nedges = filters.sobel(coins)\n\ngrid = util.regular_grid(coins.shape, n_points=468)\n\nseeds = np.zeros(coins.shape, dtype=int)\nseeds[grid] = np.arange(seeds[grid].size).reshape(seeds[grid].shape) + 1\n\nw0 = watershed(edges, seeds)\nw1 = watershed(edges, seeds, compactness=0.01)\n\nfig, (ax0, ax1) = plt.subplots(1, 2)\n\nax0.imshow(color.label2rgb(w0, coins))\nax0.set_title('Classical watershed')\n\nax1.imshow(color.label2rgb(w1, coins))\nax1.set_title('Compact watershed')\n\nplt.show()"
      ],
      "execution_count": null,
      "outputs": []
    }
  ]
}