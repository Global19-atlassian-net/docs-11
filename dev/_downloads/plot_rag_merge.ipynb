{
  "cells": [
    {
      "execution_count": null,
      "source": [
        "%matplotlib inline"
      ],
      "metadata": {
        "collapsed": false
      },
      "outputs": [],
      "cell_type": "code"
    },
    {
      "source": [
        "\n# RAG Merging\n\n\nThis example constructs a Region Adjacency Graph (RAG) and progressively merges\nregions that are similar in color. Merging two adjacent regions produces\na new region with all the pixels from the merged regions. Regions are merged\nuntil no highly similar region pairs remain.\n\n\n"
      ],
      "metadata": {},
      "cell_type": "markdown"
    },
    {
      "execution_count": null,
      "source": [
        "from skimage import data, io, segmentation, color\nfrom skimage.future import graph\nimport numpy as np\n\n\ndef _weight_mean_color(graph, src, dst, n):\n    \"\"\"Callback to handle merging nodes by recomputing mean color.\n\n    The method expects that the mean color of `dst` is already computed.\n\n    Parameters\n    ----------\n    graph : RAG\n        The graph under consideration.\n    src, dst : int\n        The vertices in `graph` to be merged.\n    n : int\n        A neighbor of `src` or `dst` or both.\n\n    Returns\n    -------\n    data : dict\n        A dictionary with the `\"weight\"` attribute set as the absolute\n        difference of the mean color between node `dst` and `n`.\n    \"\"\"\n\n    diff = graph.node[dst]['mean color'] - graph.node[n]['mean color']\n    diff = np.linalg.norm(diff)\n    return {'weight': diff}\n\n\ndef merge_mean_color(graph, src, dst):\n    \"\"\"Callback called before merging two nodes of a mean color distance graph.\n\n    This method computes the mean color of `dst`.\n\n    Parameters\n    ----------\n    graph : RAG\n        The graph under consideration.\n    src, dst : int\n        The vertices in `graph` to be merged.\n    \"\"\"\n    graph.node[dst]['total color'] += graph.node[src]['total color']\n    graph.node[dst]['pixel count'] += graph.node[src]['pixel count']\n    graph.node[dst]['mean color'] = (graph.node[dst]['total color'] /\n                                     graph.node[dst]['pixel count'])\n\n\nimg = data.coffee()\nlabels = segmentation.slic(img, compactness=30, n_segments=400)\ng = graph.rag_mean_color(img, labels)\n\nlabels2 = graph.merge_hierarchical(labels, g, thresh=35, rag_copy=False,\n                                   in_place_merge=True,\n                                   merge_func=merge_mean_color,\n                                   weight_func=_weight_mean_color)\n\ng2 = graph.rag_mean_color(img, labels2)\n\nout = color.label2rgb(labels2, img, kind='avg')\nout = segmentation.mark_boundaries(out, labels2, (0, 0, 0))\nio.imshow(out)\nio.show()"
      ],
      "metadata": {
        "collapsed": false
      },
      "outputs": [],
      "cell_type": "code"
    }
  ],
  "nbformat": 4,
  "nbformat_minor": 0,
  "metadata": {
    "language_info": {
      "codemirror_mode": {
        "version": 3,
        "name": "ipython"
      },
      "version": "3.4.2",
      "nbconvert_exporter": "python",
      "pygments_lexer": "ipython3",
      "name": "python",
      "file_extension": ".py",
      "mimetype": "text/x-python"
    },
    "kernelspec": {
      "name": "python3",
      "display_name": "Python 3",
      "language": "python"
    }
  }
}