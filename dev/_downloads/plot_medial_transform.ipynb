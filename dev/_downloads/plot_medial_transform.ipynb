{
  "nbformat": 4,
  "metadata": {
    "language_info": {
      "version": "3.4.2",
      "pygments_lexer": "ipython3",
      "name": "python",
      "codemirror_mode": {
        "version": 3,
        "name": "ipython"
      },
      "mimetype": "text/x-python",
      "file_extension": ".py",
      "nbconvert_exporter": "python"
    },
    "kernelspec": {
      "display_name": "Python 3",
      "name": "python3",
      "language": "python"
    }
  },
  "cells": [
    {
      "source": [
        "%matplotlib inline"
      ],
      "execution_count": null,
      "metadata": {
        "collapsed": false
      },
      "cell_type": "code",
      "outputs": []
    },
    {
      "source": [
        "\n# Medial axis skeletonization\n\n\nThe medial axis of an object is the set of all points having more than one\nclosest point on the object's boundary. It is often called the **topological\nskeleton**, because it is a 1-pixel wide skeleton of the object, with the same\nconnectivity as the original object.\n\nHere, we use the medial axis transform to compute the width of the foreground\nobjects. As the function ``medial_axis`` (:py:func:`skimage.morphology.medial_axis`)\nreturns the distance transform in addition to the medial axis (with the keyword\nargument ``return_distance=True``), it is possible to compute the distance to\nthe background for all points of the medial axis with this function. This gives\nan estimate of the local width of the objects.\n\nFor a skeleton with fewer branches, there exists another skeletonization\nalgorithm in ``skimage``: :py:func:`skimage.morphology.skeletonize`, that computes\na skeleton by iterative morphological thinnings.\n\n\n"
      ],
      "metadata": {},
      "cell_type": "markdown"
    },
    {
      "source": [
        "import numpy as np\nfrom scipy import ndimage as ndi\nfrom skimage.morphology import medial_axis\nimport matplotlib.pyplot as plt\n\n\ndef microstructure(l=256):\n    \"\"\"\n    Synthetic binary data: binary microstructure with blobs.\n\n    Parameters\n    ----------\n\n    l: int, optional\n        linear size of the returned image\n\n    \"\"\"\n    n = 5\n    x, y = np.ogrid[0:l, 0:l]\n    mask = np.zeros((l, l))\n    generator = np.random.RandomState(1)\n    points = l * generator.rand(2, n**2)\n    mask[(points[0]).astype(np.int), (points[1]).astype(np.int)] = 1\n    mask = ndi.gaussian_filter(mask, sigma=l/(4.*n))\n    return mask > mask.mean()\n\ndata = microstructure(l=64)\n\n# Compute the medial axis (skeleton) and the distance transform\nskel, distance = medial_axis(data, return_distance=True)\n\n# Distance to the background for pixels of the skeleton\ndist_on_skel = distance * skel\n\nfig, (ax1, ax2) = plt.subplots(1, 2, figsize=(8, 4), sharex=True, sharey=True,\n                               subplot_kw={'adjustable': 'box-forced'})\nax1.imshow(data, cmap=plt.cm.gray, interpolation='nearest')\nax1.axis('off')\nax2.imshow(dist_on_skel, cmap=plt.cm.spectral, interpolation='nearest')\nax2.contour(data, [0.5], colors='w')\nax2.axis('off')\n\nfig.tight_layout()\nplt.show()"
      ],
      "execution_count": null,
      "metadata": {
        "collapsed": false
      },
      "cell_type": "code",
      "outputs": []
    }
  ],
  "nbformat_minor": 0
}