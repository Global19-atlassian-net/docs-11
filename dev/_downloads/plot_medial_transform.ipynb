{
  "metadata": {
    "language_info": {
      "pygments_lexer": "ipython3",
      "file_extension": ".py",
      "mimetype": "text/x-python",
      "nbconvert_exporter": "python",
      "name": "python",
      "version": "3.4.2",
      "codemirror_mode": {
        "name": "ipython",
        "version": 3
      }
    },
    "kernelspec": {
      "name": "python3",
      "display_name": "Python 3",
      "language": "python"
    }
  },
  "nbformat_minor": 0,
  "cells": [
    {
      "metadata": {
        "collapsed": false
      },
      "source": [
        "%matplotlib inline"
      ],
      "outputs": [],
      "execution_count": null,
      "cell_type": "code"
    },
    {
      "source": [
        "\n# Medial axis skeletonization\n\n\nThe medial axis of an object is the set of all points having more than one\nclosest point on the object's boundary. It is often called the **topological\nskeleton**, because it is a 1-pixel wide skeleton of the object, with the same\nconnectivity as the original object.\n\nHere, we use the medial axis transform to compute the width of the foreground\nobjects. As the function ``medial_axis`` (``skimage.morphology.medial_axis``)\nreturns the distance transform in addition to the medial axis (with the keyword\nargument ``return_distance=True``), it is possible to compute the distance to\nthe background for all points of the medial axis with this function. This gives\nan estimate of the local width of the objects.\n\nFor a skeleton with fewer branches, there exists another skeletonization\nalgorithm in ``skimage``: ``skimage.morphology.skeletonize``, that computes\na skeleton by iterative morphological thinnings.\n\n\n"
      ],
      "metadata": {},
      "cell_type": "markdown"
    },
    {
      "metadata": {
        "collapsed": false
      },
      "source": [
        "import numpy as np\nfrom scipy import ndimage as ndi\nfrom skimage.morphology import medial_axis\nimport matplotlib.pyplot as plt\n\n\ndef microstructure(l=256):\n    \"\"\"\n    Synthetic binary data: binary microstructure with blobs.\n\n    Parameters\n    ----------\n\n    l: int, optional\n        linear size of the returned image\n\n    \"\"\"\n    n = 5\n    x, y = np.ogrid[0:l, 0:l]\n    mask = np.zeros((l, l))\n    generator = np.random.RandomState(1)\n    points = l * generator.rand(2, n**2)\n    mask[(points[0]).astype(np.int), (points[1]).astype(np.int)] = 1\n    mask = ndi.gaussian_filter(mask, sigma=l/(4.*n))\n    return mask > mask.mean()\n\ndata = microstructure(l=64)\n\n# Compute the medial axis (skeleton) and the distance transform\nskel, distance = medial_axis(data, return_distance=True)\n\n# Distance to the background for pixels of the skeleton\ndist_on_skel = distance * skel\n\nfig, (ax1, ax2) = plt.subplots(1, 2, figsize=(8, 4), sharex=True, sharey=True,\n                               subplot_kw={'adjustable': 'box-forced'})\nax1.imshow(data, cmap=plt.cm.gray, interpolation='nearest')\nax1.axis('off')\nax2.imshow(dist_on_skel, cmap=plt.cm.spectral, interpolation='nearest')\nax2.contour(data, [0.5], colors='w')\nax2.axis('off')\n\nfig.tight_layout()\nplt.show()"
      ],
      "outputs": [],
      "execution_count": null,
      "cell_type": "code"
    }
  ],
  "nbformat": 4
}