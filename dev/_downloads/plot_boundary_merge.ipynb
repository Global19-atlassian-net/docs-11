{
  "metadata": {
    "language_info": {
      "codemirror_mode": {
        "name": "ipython",
        "version": 3
      },
      "nbconvert_exporter": "python",
      "name": "python",
      "pygments_lexer": "ipython3",
      "file_extension": ".py",
      "version": "3.4.2",
      "mimetype": "text/x-python"
    },
    "kernelspec": {
      "name": "python3",
      "language": "python",
      "display_name": "Python 3"
    }
  },
  "cells": [
    {
      "outputs": [],
      "metadata": {
        "collapsed": false
      },
      "cell_type": "code",
      "execution_count": null,
      "source": [
        "%matplotlib inline"
      ]
    },
    {
      "metadata": {},
      "cell_type": "markdown",
      "source": [
        "\n# Hierarchical Merging of Region Boundary RAGs\n\n\nThis example demonstrates how to perform hierarchical merging on region\nboundary Region Adjacency Graphs (RAGs). Region boundary RAGs can be\nconstructed with the :py:func:`skimage.future.graph.rag_boundary` function.\nThe regions with the lowest edge weights are successively merged until there\nis no edge with weight less than ``thresh``. The hierarchical merging is done\nthrough the :py:func:`skimage.future.graph.merge_hierarchical` function.\nFor an example of how to construct region boundary based RAGs, see\n:any:`plot_rag_boundary`.\n\n\n"
      ]
    },
    {
      "outputs": [],
      "metadata": {
        "collapsed": false
      },
      "cell_type": "code",
      "execution_count": null,
      "source": [
        "from skimage import data, segmentation, filters, color\nfrom skimage.future import graph\nfrom matplotlib import pyplot as plt\n\n\ndef weight_boundary(graph, src, dst, n):\n    \"\"\"\n    Handle merging of nodes of a region boundary region adjacency graph.\n\n    This function computes the `\"weight\"` and the count `\"count\"`\n    attributes of the edge between `n` and the node formed after\n    merging `src` and `dst`.\n\n\n    Parameters\n    ----------\n    graph : RAG\n        The graph under consideration.\n    src, dst : int\n        The vertices in `graph` to be merged.\n    n : int\n        A neighbor of `src` or `dst` or both.\n\n    Returns\n    -------\n    data : dict\n        A dictionary with the \"weight\" and \"count\" attributes to be\n        assigned for the merged node.\n\n    \"\"\"\n    default = {'weight': 0.0, 'count': 0}\n\n    count_src = graph[src].get(n, default)['count']\n    count_dst = graph[dst].get(n, default)['count']\n\n    weight_src = graph[src].get(n, default)['weight']\n    weight_dst = graph[dst].get(n, default)['weight']\n\n    count = count_src + count_dst\n    return {\n        'count': count,\n        'weight': (count_src * weight_src + count_dst * weight_dst)/count\n    }\n\n\ndef merge_boundary(graph, src, dst):\n    \"\"\"Call back called before merging 2 nodes.\n\n    In this case we don't need to do any computation here.\n    \"\"\"\n    pass\n\nimg = data.coffee()\nedges = filters.sobel(color.rgb2gray(img))\nlabels = segmentation.slic(img, compactness=30, n_segments=400)\ng = graph.rag_boundary(labels, edges)\n\ngraph.show_rag(labels, g, img)\nplt.title('Initial RAG')\n\nlabels2 = graph.merge_hierarchical(labels, g, thresh=0.08, rag_copy=False,\n                                   in_place_merge=True,\n                                   merge_func=merge_boundary,\n                                   weight_func=weight_boundary)\n\ngraph.show_rag(labels, g, img)\nplt.title('RAG after hierarchical merging')\n\nplt.figure()\nout = color.label2rgb(labels2, img, kind='avg')\nplt.imshow(out)\nplt.title('Final segmentation')\n\nplt.show()"
      ]
    }
  ],
  "nbformat": 4,
  "nbformat_minor": 0
}