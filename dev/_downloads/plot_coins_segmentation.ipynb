{
  "metadata": {
    "kernelspec": {
      "language": "python",
      "display_name": "Python 3",
      "name": "python3"
    },
    "language_info": {
      "version": "3.4.2",
      "name": "python",
      "file_extension": ".py",
      "nbconvert_exporter": "python",
      "codemirror_mode": {
        "version": 3,
        "name": "ipython"
      },
      "mimetype": "text/x-python",
      "pygments_lexer": "ipython3"
    }
  },
  "nbformat_minor": 0,
  "nbformat": 4,
  "cells": [
    {
      "metadata": {
        "collapsed": false
      },
      "outputs": [],
      "source": [
        "%matplotlib inline"
      ],
      "cell_type": "code",
      "execution_count": null
    },
    {
      "metadata": {},
      "source": [
        "\n# Comparing edge-based and region-based segmentation\n\n\nIn this example, we will see how to segment objects from a background. We use\nthe ``coins`` image from ``skimage.data``, which shows several coins outlined\nagainst a darker background.\n\n"
      ],
      "cell_type": "markdown"
    },
    {
      "metadata": {
        "collapsed": false
      },
      "outputs": [],
      "source": [
        "import numpy as np\nimport matplotlib.pyplot as plt\n\nfrom skimage import data\n\ncoins = data.coins()\nhist = np.histogram(coins, bins=np.arange(0, 256))\n\nfig, (ax1, ax2) = plt.subplots(1, 2, figsize=(8, 3))\nax1.imshow(coins, cmap=plt.cm.gray, interpolation='nearest')\nax1.axis('off')\nax2.plot(hist[1][:-1], hist[0], lw=2)\nax2.set_title('histogram of grey values')"
      ],
      "cell_type": "code",
      "execution_count": null
    },
    {
      "metadata": {},
      "source": [
        "Thresholding\n============\n\nA simple way to segment the coins is to choose a threshold based on the\nhistogram of grey values. Unfortunately, thresholding this image gives a\nbinary image that either misses significant parts of the coins or merges\nparts of the background with the coins:\n\n"
      ],
      "cell_type": "markdown"
    },
    {
      "metadata": {
        "collapsed": false
      },
      "outputs": [],
      "source": [
        "fig, (ax1, ax2) = plt.subplots(1, 2, figsize=(6, 3), sharex=True, sharey=True)\nax1.imshow(coins > 100, cmap=plt.cm.gray, interpolation='nearest')\nax1.set_title('coins > 100')\nax1.axis('off')\nax1.set_adjustable('box-forced')\nax2.imshow(coins > 150, cmap=plt.cm.gray, interpolation='nearest')\nax2.set_title('coins > 150')\nax2.axis('off')\nax2.set_adjustable('box-forced')\nmargins = dict(hspace=0.01, wspace=0.01, top=1, bottom=0, left=0, right=1)\nfig.subplots_adjust(**margins)"
      ],
      "cell_type": "code",
      "execution_count": null
    },
    {
      "metadata": {},
      "source": [
        "Edge-based segmentation\n=======================\n\nNext, we try to delineate the contours of the coins using edge-based\nsegmentation. To do this, we first get the edges of features using the\nCanny edge-detector.\n\n"
      ],
      "cell_type": "markdown"
    },
    {
      "metadata": {
        "collapsed": false
      },
      "outputs": [],
      "source": [
        "from skimage.feature import canny\nedges = canny(coins/255.)\n\nfig, ax = plt.subplots(figsize=(4, 3))\nax.imshow(edges, cmap=plt.cm.gray, interpolation='nearest')\nax.axis('off')\nax.set_title('Canny detector')"
      ],
      "cell_type": "code",
      "execution_count": null
    },
    {
      "metadata": {},
      "source": [
        "These contours are then filled using mathematical morphology.\n\n"
      ],
      "cell_type": "markdown"
    },
    {
      "metadata": {
        "collapsed": false
      },
      "outputs": [],
      "source": [
        "from scipy import ndimage as ndi\n\nfill_coins = ndi.binary_fill_holes(edges)\n\nfig, ax = plt.subplots(figsize=(4, 3))\nax.imshow(fill_coins, cmap=plt.cm.gray, interpolation='nearest')\nax.axis('off')\nax.set_title('Filling the holes')"
      ],
      "cell_type": "code",
      "execution_count": null
    },
    {
      "metadata": {},
      "source": [
        "Small spurious objects are easily removed by setting a minimum size for\nvalid objects.\n\n"
      ],
      "cell_type": "markdown"
    },
    {
      "metadata": {
        "collapsed": false
      },
      "outputs": [],
      "source": [
        "from skimage import morphology\ncoins_cleaned = morphology.remove_small_objects(fill_coins, 21)\n\nfig, ax = plt.subplots(figsize=(4, 3))\nax.imshow(coins_cleaned, cmap=plt.cm.gray, interpolation='nearest')\nax.axis('off')\nax.set_title('Removing small objects')"
      ],
      "cell_type": "code",
      "execution_count": null
    },
    {
      "metadata": {},
      "source": [
        "However, this method is not very robust, since contours that are not\n perfectly closed are not filled correctly, as is the case for one unfilled\n coin above.\n\nRegion-based segmentation\n=========================\n\nWe therefore try a region-based method using the watershed transform.\nFirst, we find an elevation map using the Sobel gradient of the image.\n\n"
      ],
      "cell_type": "markdown"
    },
    {
      "metadata": {
        "collapsed": false
      },
      "outputs": [],
      "source": [
        "from skimage.filters import sobel\n\nelevation_map = sobel(coins)\n\nfig, ax = plt.subplots(figsize=(4, 3))\nax.imshow(elevation_map, cmap=plt.cm.gray, interpolation='nearest')\nax.axis('off')\nax.set_title('elevation_map')"
      ],
      "cell_type": "code",
      "execution_count": null
    },
    {
      "metadata": {},
      "source": [
        "Next we find markers of the background and the coins based on the extreme\nparts of the histogram of grey values.\n\n"
      ],
      "cell_type": "markdown"
    },
    {
      "metadata": {
        "collapsed": false
      },
      "outputs": [],
      "source": [
        "markers = np.zeros_like(coins)\nmarkers[coins < 30] = 1\nmarkers[coins > 150] = 2\n\nfig, ax = plt.subplots(figsize=(4, 3))\nax.imshow(markers, cmap=plt.cm.spectral, interpolation='nearest')\nax.axis('off')\nax.set_title('markers')"
      ],
      "cell_type": "code",
      "execution_count": null
    },
    {
      "metadata": {},
      "source": [
        "Finally, we use the watershed transform to fill regions of the elevation\nmap starting from the markers determined above:\n\n"
      ],
      "cell_type": "markdown"
    },
    {
      "metadata": {
        "collapsed": false
      },
      "outputs": [],
      "source": [
        "segmentation = morphology.watershed(elevation_map, markers)\n\nfig, ax = plt.subplots(figsize=(4, 3))\nax.imshow(segmentation, cmap=plt.cm.gray, interpolation='nearest')\nax.axis('off')\nax.set_title('segmentation')"
      ],
      "cell_type": "code",
      "execution_count": null
    },
    {
      "metadata": {},
      "source": [
        "This last method works even better, and the coins can be segmented and\nlabeled individually.\n\n"
      ],
      "cell_type": "markdown"
    },
    {
      "metadata": {
        "collapsed": false
      },
      "outputs": [],
      "source": [
        "from skimage.color import label2rgb\n\nsegmentation = ndi.binary_fill_holes(segmentation - 1)\nlabeled_coins, _ = ndi.label(segmentation)\nimage_label_overlay = label2rgb(labeled_coins, image=coins)\n\nfig, (ax1, ax2) = plt.subplots(1, 2, figsize=(6, 3), sharex=True, sharey=True)\nax1.imshow(coins, cmap=plt.cm.gray, interpolation='nearest')\nax1.contour(segmentation, [0.5], linewidths=1.2, colors='y')\nax1.axis('off')\nax1.set_adjustable('box-forced')\nax2.imshow(image_label_overlay, interpolation='nearest')\nax2.axis('off')\nax2.set_adjustable('box-forced')\n\nfig.subplots_adjust(**margins)"
      ],
      "cell_type": "code",
      "execution_count": null
    }
  ]
}