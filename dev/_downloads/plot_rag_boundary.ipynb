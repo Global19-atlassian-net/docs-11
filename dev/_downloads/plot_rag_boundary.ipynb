{
  "nbformat": 4,
  "nbformat_minor": 0,
  "cells": [
    {
      "execution_count": null,
      "source": [
        "%matplotlib inline"
      ],
      "outputs": [],
      "metadata": {
        "collapsed": false
      },
      "cell_type": "code"
    },
    {
      "source": [
        "\n# Region Boundary based RAGs\n\n\nThis example demonstrates construction of region boundary based RAGs with the\n`rag_boundary` function.\n\n"
      ],
      "metadata": {},
      "cell_type": "markdown"
    },
    {
      "execution_count": null,
      "source": [
        "from skimage.future import graph\nfrom skimage import data, segmentation, color, filters, io\nfrom matplotlib import pyplot as plt\n\n\nimg = data.coffee()\ngimg = color.rgb2gray(img)\n\nlabels = segmentation.slic(img, compactness=30, n_segments=400)\nedges = filters.sobel(gimg)\nedges_rgb = color.gray2rgb(edges)\n\ng = graph.rag_boundary(labels, edges)\nlc = graph.show_rag(labels, g, edges_rgb, img_cmap=None, edge_cmap='viridis',\n                    edge_width=1.2)\n\nplt.colorbar(lc, fraction=0.03)\nio.show()"
      ],
      "outputs": [],
      "metadata": {
        "collapsed": false
      },
      "cell_type": "code"
    }
  ],
  "metadata": {
    "kernelspec": {
      "display_name": "Python 3",
      "name": "python3",
      "language": "python"
    },
    "language_info": {
      "pygments_lexer": "ipython3",
      "version": "3.4.2",
      "nbconvert_exporter": "python",
      "codemirror_mode": {
        "name": "ipython",
        "version": 3
      },
      "mimetype": "text/x-python",
      "name": "python",
      "file_extension": ".py"
    }
  }
}