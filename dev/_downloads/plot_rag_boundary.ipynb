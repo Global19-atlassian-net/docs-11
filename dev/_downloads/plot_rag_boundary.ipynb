{
  "cells": [
    {
      "execution_count": null,
      "cell_type": "code",
      "source": [
        "%matplotlib inline"
      ],
      "metadata": {
        "collapsed": false
      },
      "outputs": []
    },
    {
      "cell_type": "markdown",
      "source": [
        "\n# Region Boundary based RAGs\n\n\nConstruct a region boundary RAG with the ``rag_boundary`` function. The\nfunction  :py:func:`skimage.future.graph.rag_boundary` takes an\n``edge_map`` argument, which gives the significance of a feature (such as\nedges) being present at each pixel. In a region boundary RAG, the edge weight\nbetween two regions is the average value of the corresponding pixels in\n``edge_map`` along their shared boundary.\n\n\n"
      ],
      "metadata": {}
    },
    {
      "execution_count": null,
      "cell_type": "code",
      "source": [
        "from skimage.future import graph\nfrom skimage import data, segmentation, color, filters, io\nfrom matplotlib import pyplot as plt\n\n\nimg = data.coffee()\ngimg = color.rgb2gray(img)\n\nlabels = segmentation.slic(img, compactness=30, n_segments=400)\nedges = filters.sobel(gimg)\nedges_rgb = color.gray2rgb(edges)\n\ng = graph.rag_boundary(labels, edges)\nlc = graph.show_rag(labels, g, edges_rgb, img_cmap=None, edge_cmap='viridis',\n                    edge_width=1.2)\n\nplt.colorbar(lc, fraction=0.03)\nio.show()"
      ],
      "metadata": {
        "collapsed": false
      },
      "outputs": []
    }
  ],
  "nbformat_minor": 0,
  "metadata": {
    "kernelspec": {
      "language": "python",
      "name": "python3",
      "display_name": "Python 3"
    },
    "language_info": {
      "file_extension": ".py",
      "codemirror_mode": {
        "version": 3,
        "name": "ipython"
      },
      "version": "3.4.2",
      "nbconvert_exporter": "python",
      "pygments_lexer": "ipython3",
      "mimetype": "text/x-python",
      "name": "python"
    }
  },
  "nbformat": 4
}