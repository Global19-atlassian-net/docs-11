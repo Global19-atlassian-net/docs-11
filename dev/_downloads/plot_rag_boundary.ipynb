{
  "metadata": {
    "name": ""
  },
  "nbformat": 3,
  "nbformat_minor": 0,
  "worksheets": [
    {
      "metadata": {},
      "cells": [
        {
          "metadata": {},
          "language": "python",
          "cell_type": "code",
          "collapsed": false,
          "input": [
            "%matplotlib inline"
          ],
          "outputs": []
        },
        {
          "metadata": {},
          "cell_type": "markdown",
          "source": "<div class=\"document\" id=\"region-boundary-based-rags\">\n<h1 class=\"title\">Region Boundary based RAGs</h1>\n<p>This example demonstrates construction of region boundary based RAGs with the\n<cite>rag_boundary</cite> function.</p>\n</div>\n"
        },
        {
          "metadata": {},
          "language": "python",
          "cell_type": "code",
          "collapsed": false,
          "input": "from skimage.future import graph\nfrom skimage import data, segmentation, color, filters, io\nfrom matplotlib import pyplot as plt\n\n\nimg = data.coffee()\ngimg = color.rgb2gray(img)\n\nlabels = segmentation.slic(img, compactness=30, n_segments=400)\nedges = filters.sobel(gimg)\nedges_rgb = color.gray2rgb(edges)\n\ng = graph.rag_boundary(labels, edges)\nlc = graph.show_rag(labels, g, edges_rgb, img_cmap=None, edge_cmap='viridis',\n                    edge_width=1.2)\n\nplt.colorbar(lc, fraction=0.03)\nio.show()\n",
          "outputs": []
        }
      ]
    }
  ]
}