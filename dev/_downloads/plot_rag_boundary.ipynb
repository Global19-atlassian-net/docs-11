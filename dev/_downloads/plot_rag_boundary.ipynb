{
  "metadata": {
    "language_info": {
      "pygments_lexer": "ipython3",
      "codemirror_mode": {
        "version": 3,
        "name": "ipython"
      },
      "mimetype": "text/x-python",
      "version": "3.4.2",
      "nbconvert_exporter": "python",
      "file_extension": ".py",
      "name": "python"
    },
    "kernelspec": {
      "language": "python",
      "display_name": "Python 3",
      "name": "python3"
    }
  },
  "cells": [
    {
      "metadata": {
        "collapsed": false
      },
      "execution_count": null,
      "cell_type": "code",
      "outputs": [],
      "source": [
        "%matplotlib inline"
      ]
    },
    {
      "metadata": {},
      "cell_type": "markdown",
      "source": [
        "\n# Region Boundary based RAGs\n\n\nConstruct a region boundary RAG with the ``rag_boundary`` function. The\nfunction  :py:func:`skimage.future.graph.rag_boundary` takes an\n``edge_map`` argument, which gives the significance of a feature (such as\nedges) being present at each pixel. In a region boundary RAG, the edge weight\nbetween two regions is the average value of the corresponding pixels in\n``edge_map`` along their shared boundary.\n\n\n"
      ]
    },
    {
      "metadata": {
        "collapsed": false
      },
      "execution_count": null,
      "cell_type": "code",
      "outputs": [],
      "source": [
        "from skimage.future import graph\nfrom skimage import data, segmentation, color, filters, io\nfrom matplotlib import pyplot as plt\n\n\nimg = data.coffee()\ngimg = color.rgb2gray(img)\n\nlabels = segmentation.slic(img, compactness=30, n_segments=400)\nedges = filters.sobel(gimg)\nedges_rgb = color.gray2rgb(edges)\n\ng = graph.rag_boundary(labels, edges)\nlc = graph.show_rag(labels, g, edges_rgb, img_cmap=None, edge_cmap='viridis',\n                    edge_width=1.2)\n\nplt.colorbar(lc, fraction=0.03)\nio.show()"
      ]
    }
  ],
  "nbformat_minor": 0,
  "nbformat": 4
}