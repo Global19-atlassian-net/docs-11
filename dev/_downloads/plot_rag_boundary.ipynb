{
  "cells": [
    {
      "outputs": [],
      "source": [
        "%matplotlib inline"
      ],
      "cell_type": "code",
      "metadata": {
        "collapsed": false
      },
      "execution_count": null
    },
    {
      "source": [
        "\n# Region Boundary based RAGs\n\n\nConstruct a region boundary RAG with the ``rag_boundary`` function. The\nfunction  :py:func:`skimage.future.graph.rag_boundary` takes an\n``edge_map`` argument, which gives the significance of a feature (such as\nedges) being present at each pixel. In a region boundary RAG, the edge weight\nbetween two regions is the average value of the corresponding pixels in\n``edge_map`` along their shared boundary.\n\n\n"
      ],
      "cell_type": "markdown",
      "metadata": {}
    },
    {
      "outputs": [],
      "source": [
        "from skimage.future import graph\nfrom skimage import data, segmentation, color, filters, io\nfrom matplotlib import pyplot as plt\n\n\nimg = data.coffee()\ngimg = color.rgb2gray(img)\n\nlabels = segmentation.slic(img, compactness=30, n_segments=400)\nedges = filters.sobel(gimg)\nedges_rgb = color.gray2rgb(edges)\n\ng = graph.rag_boundary(labels, edges)\nlc = graph.show_rag(labels, g, edges_rgb, img_cmap=None, edge_cmap='viridis',\n                    edge_width=1.2)\n\nplt.colorbar(lc, fraction=0.03)\nio.show()"
      ],
      "cell_type": "code",
      "metadata": {
        "collapsed": false
      },
      "execution_count": null
    }
  ],
  "nbformat_minor": 0,
  "metadata": {
    "language_info": {
      "mimetype": "text/x-python",
      "pygments_lexer": "ipython3",
      "nbconvert_exporter": "python",
      "file_extension": ".py",
      "version": "3.4.6",
      "codemirror_mode": {
        "version": 3,
        "name": "ipython"
      },
      "name": "python"
    },
    "kernelspec": {
      "name": "python3",
      "language": "python",
      "display_name": "Python 3"
    }
  },
  "nbformat": 4
}