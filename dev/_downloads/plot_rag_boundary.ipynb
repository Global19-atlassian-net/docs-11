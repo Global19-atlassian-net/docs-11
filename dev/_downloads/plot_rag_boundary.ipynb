{
  "metadata": {
    "language_info": {
      "pygments_lexer": "ipython3",
      "file_extension": ".py",
      "mimetype": "text/x-python",
      "nbconvert_exporter": "python",
      "name": "python",
      "version": "3.4.2",
      "codemirror_mode": {
        "name": "ipython",
        "version": 3
      }
    },
    "kernelspec": {
      "name": "python3",
      "display_name": "Python 3",
      "language": "python"
    }
  },
  "nbformat_minor": 0,
  "cells": [
    {
      "metadata": {
        "collapsed": false
      },
      "source": [
        "%matplotlib inline"
      ],
      "outputs": [],
      "execution_count": null,
      "cell_type": "code"
    },
    {
      "source": [
        "\n# Region Boundary based RAGs\n\n\nThis example demonstrates construction of region boundary based RAGs with the\n`rag_boundary` function.\n\n"
      ],
      "metadata": {},
      "cell_type": "markdown"
    },
    {
      "metadata": {
        "collapsed": false
      },
      "source": [
        "from skimage.future import graph\nfrom skimage import data, segmentation, color, filters, io\nfrom matplotlib import pyplot as plt\n\n\nimg = data.coffee()\ngimg = color.rgb2gray(img)\n\nlabels = segmentation.slic(img, compactness=30, n_segments=400)\nedges = filters.sobel(gimg)\nedges_rgb = color.gray2rgb(edges)\n\ng = graph.rag_boundary(labels, edges)\nlc = graph.show_rag(labels, g, edges_rgb, img_cmap=None, edge_cmap='viridis',\n                    edge_width=1.2)\n\nplt.colorbar(lc, fraction=0.03)\nio.show()"
      ],
      "outputs": [],
      "execution_count": null,
      "cell_type": "code"
    }
  ],
  "nbformat": 4
}