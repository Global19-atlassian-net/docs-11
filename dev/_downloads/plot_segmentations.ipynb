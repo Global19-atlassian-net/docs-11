{
  "nbformat_minor": 0,
  "nbformat": 4,
  "cells": [
    {
      "outputs": [],
      "source": [
        "%matplotlib inline"
      ],
      "execution_count": null,
      "metadata": {
        "collapsed": false
      },
      "cell_type": "code"
    },
    {
      "source": [
        "\n# Comparison of segmentation and superpixel algorithms\n\n\nThis example compares three popular low-level image segmentation methods.  As\nit is difficult to obtain good segmentations, and the definition of \"good\"\noften depends on the application, these methods are usually used for obtaining\nan oversegmentation, also known as superpixels. These superpixels then serve as\na basis for more sophisticated algorithms such as conditional random fields\n(CRF).\n\n\nFelzenszwalb's efficient graph based segmentation\n-------------------------------------------------\nThis fast 2D image segmentation algorithm, proposed in [1]_ is popular in the\ncomputer vision community.\nThe algorithm has a single ``scale`` parameter that influences the segment\nsize. The actual size and number of segments can vary greatly, depending on\nlocal contrast.\n\n.. [1] Efficient graph-based image segmentation, Felzenszwalb, P.F. and\n       Huttenlocher, D.P.  International Journal of Computer Vision, 2004\n\n\nQuickshift image segmentation\n-----------------------------\n\nQuickshift is a relatively recent 2D image segmentation algorithm, based on an\napproximation of kernelized mean-shift. Therefore it belongs to the family of\nlocal mode-seeking algorithms and is applied to the 5D space consisting of\ncolor information and image location [2]_.\n\nOne of the benefits of quickshift is that it actually computes a\nhierarchical segmentation on multiple scales simultaneously.\n\nQuickshift has two main parameters: ``sigma`` controls the scale of the local\ndensity approximation, ``max_dist`` selects a level in the hierarchical\nsegmentation that is produced. There is also a trade-off between distance in\ncolor-space and distance in image-space, given by ``ratio``.\n\n.. [2] Quick shift and kernel methods for mode seeking,\n       Vedaldi, A. and Soatto, S.\n       European Conference on Computer Vision, 2008\n\n\nSLIC - K-Means based image segmentation\n---------------------------------------\n\nThis algorithm simply performs K-means in the 5d space of color information and\nimage location and is therefore closely related to quickshift. As the\nclustering method is simpler, it is very efficient. It is essential for this\nalgorithm to work in Lab color space to obtain good results.  The algorithm\nquickly gained momentum and is now widely used. See [3] for details.  The\n``compactness`` parameter trades off color-similarity and proximity, as in the\ncase of Quickshift, while ``n_segments`` chooses the number of centers for\nkmeans.\n\n.. [3] Radhakrishna Achanta, Appu Shaji, Kevin Smith, Aurelien Lucchi,\n    Pascal Fua, and Sabine Suesstrunk, SLIC Superpixels Compared to\n    State-of-the-art Superpixel Methods, TPAMI, May 2012.\n\n"
      ],
      "metadata": {},
      "cell_type": "markdown"
    },
    {
      "outputs": [],
      "source": [
        "from __future__ import print_function\n\nimport matplotlib.pyplot as plt\nimport numpy as np\n\nfrom skimage.data import astronaut\nfrom skimage.segmentation import felzenszwalb, slic, quickshift\nfrom skimage.segmentation import mark_boundaries\nfrom skimage.util import img_as_float\n\nimg = img_as_float(astronaut()[::2, ::2])\nsegments_fz = felzenszwalb(img, scale=100, sigma=0.5, min_size=50)\nsegments_slic = slic(img, n_segments=250, compactness=10, sigma=1)\nsegments_quick = quickshift(img, kernel_size=3, max_dist=6, ratio=0.5)\n\nprint(\"Felzenszwalb's number of segments: %d\" % len(np.unique(segments_fz)))\nprint(\"Slic number of segments: %d\" % len(np.unique(segments_slic)))\nprint(\"Quickshift number of segments: %d\" % len(np.unique(segments_quick)))\n\nfig, ax = plt.subplots(1, 3, sharex=True, sharey=True,\n                       subplot_kw={'adjustable': 'box-forced'})\nfig.set_size_inches(8, 3, forward=True)\nfig.tight_layout()\n\nax[0].imshow(mark_boundaries(img, segments_fz))\nax[0].set_title(\"Felzenszwalbs's method\")\nax[1].imshow(mark_boundaries(img, segments_slic))\nax[1].set_title(\"SLIC\")\nax[2].imshow(mark_boundaries(img, segments_quick))\nax[2].set_title(\"Quickshift\")\nfor a in ax:\n    a.set_xticks(())\n    a.set_yticks(())\nplt.show()"
      ],
      "execution_count": null,
      "metadata": {
        "collapsed": false
      },
      "cell_type": "code"
    }
  ],
  "metadata": {
    "kernelspec": {
      "language": "python",
      "name": "python3",
      "display_name": "Python 3"
    },
    "language_info": {
      "file_extension": ".py",
      "pygments_lexer": "ipython3",
      "mimetype": "text/x-python",
      "version": "3.4.2",
      "codemirror_mode": {
        "version": 3,
        "name": "ipython"
      },
      "name": "python",
      "nbconvert_exporter": "python"
    }
  }
}