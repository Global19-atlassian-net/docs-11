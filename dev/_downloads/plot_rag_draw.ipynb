{
  "metadata": {
    "language_info": {
      "mimetype": "text/x-python",
      "nbconvert_exporter": "python",
      "file_extension": ".py",
      "version": "3.4.2",
      "codemirror_mode": {
        "name": "ipython",
        "version": 3
      },
      "name": "python",
      "pygments_lexer": "ipython3"
    },
    "kernelspec": {
      "display_name": "Python 3",
      "name": "python3",
      "language": "python"
    }
  },
  "cells": [
    {
      "source": [
        "%matplotlib inline"
      ],
      "metadata": {
        "collapsed": false
      },
      "execution_count": null,
      "cell_type": "code",
      "outputs": []
    },
    {
      "metadata": {},
      "cell_type": "markdown",
      "source": [
        "\n======================================\nDrawing Region Adjacency Graphs (RAGs)\n======================================\n\nThis example constructs a Region Adjacency Graph (RAG) and draws it with\nthe `rag_draw` method.\n\n"
      ]
    },
    {
      "source": [
        "from skimage import data, segmentation\nfrom skimage.future import graph\nfrom matplotlib import pyplot as plt\n\n\nimg = data.coffee()\nlabels = segmentation.slic(img, compactness=30, n_segments=400)\ng = graph.rag_mean_color(img, labels)\n\nfig, ax = plt.subplots(nrows=2, sharex=True, sharey=True, figsize=(6, 8))\n\nax[0].set_title('RAG drawn with default settings')\nlc = graph.show_rag(labels, g, img, ax=ax[0])\n# specify the fraction of the plot area that will be used to draw the colorbar\nfig.colorbar(lc, fraction=0.03, ax=ax[0])\n\nax[1].set_title('RAG drawn with grayscale image and viridis colormap')\nlc = graph.show_rag(labels, g, img,\n                    img_cmap='gray', edge_cmap='viridis', ax=ax[1])\nfig.colorbar(lc, fraction=0.03, ax=ax[1])\n\nfor a in ax:\n    a.axis('off')\n\nplt.tight_layout()\nplt.show()"
      ],
      "metadata": {
        "collapsed": false
      },
      "execution_count": null,
      "cell_type": "code",
      "outputs": []
    }
  ],
  "nbformat": 4,
  "nbformat_minor": 0
}