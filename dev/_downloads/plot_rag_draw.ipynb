{
  "metadata": {
    "language_info": {
      "mimetype": "text/x-python",
      "name": "python",
      "file_extension": ".py",
      "pygments_lexer": "ipython3",
      "nbconvert_exporter": "python",
      "codemirror_mode": {
        "name": "ipython",
        "version": 3
      },
      "version": "3.4.2"
    },
    "kernelspec": {
      "name": "python3",
      "display_name": "Python 3",
      "language": "python"
    }
  },
  "cells": [
    {
      "metadata": {
        "collapsed": false
      },
      "outputs": [],
      "source": [
        "%matplotlib inline"
      ],
      "execution_count": null,
      "cell_type": "code"
    },
    {
      "metadata": {},
      "source": [
        "\n======================================\nDrawing Region Adjacency Graphs (RAGs)\n======================================\n\nThis example constructs a Region Adjacency Graph (RAG) and draws it with\nthe `rag_draw` method.\n\n"
      ],
      "cell_type": "markdown"
    },
    {
      "metadata": {
        "collapsed": false
      },
      "outputs": [],
      "source": [
        "from skimage import data, segmentation\nfrom skimage.future import graph\nfrom matplotlib import pyplot as plt\n\n\nimg = data.coffee()\nlabels = segmentation.slic(img, compactness=30, n_segments=400)\ng = graph.rag_mean_color(img, labels)\n\n\nfig, ax = plt.subplots()\nax.set_title('RAG drawn with default settings')\nlc = graph.show_rag(labels, g, img, ax=ax)\n# fraction specifies the fraction of the area of the plot that will be used to\n# draw the colorbar\nplt.colorbar(lc, fraction=0.03)\n\nfig, ax = plt.subplots()\nax.set_title('RAG drawn with grayscale image and viridis colormap')\nlc = graph.show_rag(labels, g, img, img_cmap='gray', edge_cmap='viridis',\n                    ax=ax)\nplt.colorbar(lc, fraction=0.03)\n\nplt.show()"
      ],
      "execution_count": null,
      "cell_type": "code"
    }
  ],
  "nbformat_minor": 0,
  "nbformat": 4
}