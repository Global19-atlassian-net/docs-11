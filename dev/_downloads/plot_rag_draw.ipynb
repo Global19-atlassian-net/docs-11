{
  "nbformat_minor": 0,
  "cells": [
    {
      "source": [
        "%matplotlib inline"
      ],
      "execution_count": null,
      "outputs": [],
      "cell_type": "code",
      "metadata": {
        "collapsed": false
      }
    },
    {
      "source": [
        "\n======================================\nDrawing Region Adjacency Graphs (RAGs)\n======================================\n\nThis example constructs a Region Adjacency Graph (RAG) and draws it with\nthe `rag_draw` method.\n\n"
      ],
      "cell_type": "markdown",
      "metadata": {}
    },
    {
      "source": [
        "from skimage import data, segmentation\nfrom skimage.future import graph\nfrom matplotlib import pyplot as plt\n\n\nimg = data.coffee()\nlabels = segmentation.slic(img, compactness=30, n_segments=400)\ng = graph.rag_mean_color(img, labels)\n\n\nfig, ax = plt.subplots()\nax.set_title('RAG drawn with default settings')\nlc = graph.show_rag(labels, g, img, ax=ax)\n# fraction specifies the fraction of the area of the plot that will be used to\n# draw the colorbar\nplt.colorbar(lc, fraction=0.03)\n\nfig, ax = plt.subplots()\nax.set_title('RAG drawn with grayscale image and viridis colormap')\nlc = graph.show_rag(labels, g, img, img_cmap='gray', edge_cmap='viridis',\n                    ax=ax)\nplt.colorbar(lc, fraction=0.03)\n\nplt.show()"
      ],
      "execution_count": null,
      "outputs": [],
      "cell_type": "code",
      "metadata": {
        "collapsed": false
      }
    }
  ],
  "nbformat": 4,
  "metadata": {
    "language_info": {
      "name": "python",
      "version": "3.4.2",
      "file_extension": ".py",
      "codemirror_mode": {
        "name": "ipython",
        "version": 3
      },
      "mimetype": "text/x-python",
      "nbconvert_exporter": "python",
      "pygments_lexer": "ipython3"
    },
    "kernelspec": {
      "name": "python3",
      "language": "python",
      "display_name": "Python 3"
    }
  }
}