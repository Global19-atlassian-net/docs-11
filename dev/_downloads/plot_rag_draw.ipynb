{
  "cells": [
    {
      "metadata": {
        "collapsed": false
      },
      "cell_type": "code",
      "source": [
        "%matplotlib inline"
      ],
      "execution_count": null,
      "outputs": []
    },
    {
      "metadata": {},
      "cell_type": "markdown",
      "source": [
        "\n======================================\nDrawing Region Adjacency Graphs (RAGs)\n======================================\n\nThis example constructs a Region Adjacency Graph (RAG) and draws it with\nthe `rag_draw` method.\n\n"
      ]
    },
    {
      "metadata": {
        "collapsed": false
      },
      "cell_type": "code",
      "source": [
        "from skimage import data, segmentation\nfrom skimage.future import graph\nfrom matplotlib import pyplot as plt\n\n\nimg = data.coffee()\nlabels = segmentation.slic(img, compactness=30, n_segments=400)\ng = graph.rag_mean_color(img, labels)\n\n\nfig, ax = plt.subplots()\nax.set_title('RAG drawn with default settings')\nlc = graph.show_rag(labels, g, img, ax=ax)\n# fraction specifies the fraction of the area of the plot that will be used to\n# draw the colorbar\nplt.colorbar(lc, fraction=0.03)\n\nfig, ax = plt.subplots()\nax.set_title('RAG drawn with grayscale image and viridis colormap')\nlc = graph.show_rag(labels, g, img, img_cmap='gray', edge_cmap='viridis',\n                    ax=ax)\nplt.colorbar(lc, fraction=0.03)\n\nplt.show()"
      ],
      "execution_count": null,
      "outputs": []
    }
  ],
  "metadata": {
    "kernelspec": {
      "display_name": "Python 3",
      "language": "python",
      "name": "python3"
    },
    "language_info": {
      "version": "3.4.2",
      "file_extension": ".py",
      "nbconvert_exporter": "python",
      "codemirror_mode": {
        "version": 3,
        "name": "ipython"
      },
      "mimetype": "text/x-python",
      "name": "python",
      "pygments_lexer": "ipython3"
    }
  },
  "nbformat": 4,
  "nbformat_minor": 0
}