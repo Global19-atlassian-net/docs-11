{
  "nbformat": 3,
  "worksheets": [
    {
      "cells": [
        {
          "cell_type": "code",
          "input": [
            "%matplotlib inline"
          ],
          "collapsed": false,
          "metadata": {},
          "outputs": [],
          "language": "python"
        },
        {
          "source": "<div class=\"document\" id=\"drawing-region-adjacency-graphs-rags\">\n<h1 class=\"title\">Drawing Region Adjacency Graphs (RAGs)</h1>\n<p>This example constructs a Region Adjacency Graph (RAG) and draws it with\nthe <cite>rag_draw</cite> method.</p>\n</div>\n",
          "cell_type": "markdown",
          "metadata": {}
        },
        {
          "cell_type": "code",
          "input": "from skimage import data, segmentation\nfrom skimage.future import graph\nfrom matplotlib import pyplot as plt\n\n\nimg = data.coffee()\nlabels = segmentation.slic(img, compactness=30, n_segments=400)\ng = graph.rag_mean_color(img, labels)\n\n\nfig, ax = plt.subplots()\nax.set_title('RAG drawn with default settings')\nlc = graph.show_rag(labels, g, img, ax=ax)\n# fraction specifies the fraction of the area of the plot that will be used to\n# draw the colorbar\nplt.colorbar(lc, fraction=0.03)\n\nfig, ax = plt.subplots()\nax.set_title('RAG drawn with grayscale image and viridis colormap')\nlc = graph.show_rag(labels, g, img, img_cmap='gray', edge_cmap='viridis',\n                    ax=ax)\nplt.colorbar(lc, fraction=0.03)\n\nplt.show()\n",
          "collapsed": false,
          "metadata": {},
          "outputs": [],
          "language": "python"
        }
      ],
      "metadata": {}
    }
  ],
  "nbformat_minor": 0,
  "metadata": {
    "name": ""
  }
}