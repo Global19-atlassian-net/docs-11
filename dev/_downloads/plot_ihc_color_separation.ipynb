{
  "cells": [
    {
      "metadata": {
        "collapsed": false
      },
      "cell_type": "code",
      "source": [
        "%matplotlib inline"
      ],
      "execution_count": null,
      "outputs": []
    },
    {
      "metadata": {},
      "cell_type": "markdown",
      "source": [
        "\n# Immunohistochemical staining colors separation\n\n\nIn this example we separate the immunohistochemical (IHC) staining from the\nhematoxylin counterstaining. The separation is achieved with the method\ndescribed in [1]_, known as \"color deconvolution\".\n\nThe IHC staining expression of the FHL2 protein is here revealed with\nDiaminobenzidine (DAB) which gives a brown color.\n\n\n.. [1] A. C. Ruifrok and D. A. Johnston, \"Quantification of histochemical\n       staining by color deconvolution.,\" Analytical and quantitative\n       cytology and histology / the International Academy of Cytology [and]\n       American Society of Cytology, vol. 23, no. 4, pp. 291-9, Aug. 2001.\n\n\n"
      ]
    },
    {
      "metadata": {
        "collapsed": false
      },
      "cell_type": "code",
      "source": [
        "import matplotlib.pyplot as plt\n\nfrom skimage import data\nfrom skimage.color import rgb2hed\n\n\nihc_rgb = data.immunohistochemistry()\nihc_hed = rgb2hed(ihc_rgb)\n\nfig, axes = plt.subplots(2, 2, figsize=(7, 6), sharex=True, sharey=True,\n                         subplot_kw={'adjustable': 'box-forced'})\nax0, ax1, ax2, ax3 = axes.ravel()\n\nax0.imshow(ihc_rgb)\nax0.set_title(\"Original image\")\n\nax1.imshow(ihc_hed[:, :, 0], cmap=plt.cm.gray)\nax1.set_title(\"Hematoxylin\")\n\nax2.imshow(ihc_hed[:, :, 1], cmap=plt.cm.gray)\nax2.set_title(\"Eosin\")\n\nax3.imshow(ihc_hed[:, :, 2], cmap=plt.cm.gray)\nax3.set_title(\"DAB\")\n\nfor ax in axes.ravel():\n    ax.axis('off')\n\nfig.tight_layout()"
      ],
      "execution_count": null,
      "outputs": []
    },
    {
      "metadata": {},
      "cell_type": "markdown",
      "source": [
        "Now we can easily manipulate the hematoxylin and DAB \"channels\":\n\n"
      ]
    },
    {
      "metadata": {
        "collapsed": false
      },
      "cell_type": "code",
      "source": [
        "import numpy as np\n\nfrom skimage.exposure import rescale_intensity\n\n# Rescale hematoxylin and DAB signals and give them a fluorescence look\nh = rescale_intensity(ihc_hed[:, :, 0], out_range=(0, 1))\nd = rescale_intensity(ihc_hed[:, :, 2], out_range=(0, 1))\nzdh = np.dstack((np.zeros_like(h), d, h))\n\nfig = plt.figure()\nax = plt.subplot(1, 1, 1, sharex=ax0, sharey=ax0, adjustable='box-forced')\nax.imshow(zdh)\nax.set_title(\"Stain separated image (rescaled)\")\nax.axis('off')\nplt.show()"
      ],
      "execution_count": null,
      "outputs": []
    }
  ],
  "metadata": {
    "kernelspec": {
      "display_name": "Python 3",
      "language": "python",
      "name": "python3"
    },
    "language_info": {
      "version": "3.4.2",
      "file_extension": ".py",
      "nbconvert_exporter": "python",
      "codemirror_mode": {
        "version": 3,
        "name": "ipython"
      },
      "mimetype": "text/x-python",
      "name": "python",
      "pygments_lexer": "ipython3"
    }
  },
  "nbformat": 4,
  "nbformat_minor": 0
}