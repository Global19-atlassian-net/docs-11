{
  "cells": [
    {
      "source": [
        "%matplotlib inline"
      ],
      "metadata": {
        "collapsed": false
      },
      "execution_count": null,
      "cell_type": "code",
      "outputs": []
    },
    {
      "source": [
        "\n# Extrema\n\n\nWe detect local maxima in a galaxy image. The image is corrupted by noise,\ngenerating many local maxima. To keep only those maxima with sufficient\nlocal contrast, we use h-maxima.\n\n"
      ],
      "metadata": {},
      "cell_type": "markdown"
    },
    {
      "source": [
        "import numpy as np\n\nimport matplotlib.pyplot as plt\n\nfrom skimage.measure import label\nfrom skimage import data\nfrom skimage import color\nfrom skimage.morphology import extrema\nfrom skimage import exposure\n\n\ncolor_image = data.hubble_deep_field()\n\n# for illustration purposes, we work on a crop of the image.\nx_0 = 70\ny_0 = 354\nwidth = 100\nheight = 100\n\nimg = color.rgb2grey(color_image)[y_0:(y_0 + height), x_0:(x_0 + width)]\n\n# the rescaling is done only for visualization purpose.\n# the algorithms would work identically in an unscaled version of the\n# image. However, the parameter h needs to be adapted to the scale.\nimg = exposure.rescale_intensity(img)"
      ],
      "metadata": {
        "collapsed": false
      },
      "execution_count": null,
      "cell_type": "code",
      "outputs": []
    },
    {
      "source": [
        "MAXIMA DETECTION\n\n"
      ],
      "metadata": {},
      "cell_type": "markdown"
    },
    {
      "source": [
        "# Maxima in the galaxy image are detected by mathematical morphology.\n# There is no a priori constraint on the density.\n\n# We find all local maxima\nlocal_maxima = extrema.local_maxima(img)\nlabel_maxima = label(local_maxima)\noverlay = color.label2rgb(label_maxima, img, alpha=0.7, bg_label=0,\n                          bg_color=None, colors=[(1, 0, 0)])\n\n# We observed in the previous image, that there are many local maxima\n# that are caused by the noise in the image.\n# For this, we find all local maxima with a height of h.\n# This height is the grey level value by which we need to descent\n# in order to reach a higher maximum and it can be seen as a local\n# contrast measurement.\n# The value of h scales with the dynamic range of the image, i.e.\n# if we multiply the image with a constant, we need to multiply\n# the value of h with the same constant in order to achieve the same result.\nh = 0.05\nh_maxima = extrema.h_maxima(img, h)\nlabel_h_maxima = label(h_maxima)\noverlay_h = color.label2rgb(label_h_maxima, img, alpha=0.7, bg_label=0,\n                            bg_color=None, colors=[(1, 0, 0)])"
      ],
      "metadata": {
        "collapsed": false
      },
      "execution_count": null,
      "cell_type": "code",
      "outputs": []
    },
    {
      "source": [
        "GRAPHICAL OUTPUT\n\n"
      ],
      "metadata": {},
      "cell_type": "markdown"
    },
    {
      "source": [
        "# a new figure with 3 subplots\nfig, ax = plt.subplots(1, 3, figsize=(15, 5))\n\nax[0].imshow(img, cmap='gray', interpolation='none')\nax[0].set_title('Original image')\nax[0].axis('off')\n\nax[1].imshow(overlay, interpolation='none')\nax[1].set_title('Local Maxima')\nax[1].axis('off')\n\nax[2].imshow(overlay_h, interpolation='none')\nax[2].set_title('h maxima for h = %.2f' % h)\nax[2].axis('off')\nplt.show()"
      ],
      "metadata": {
        "collapsed": false
      },
      "execution_count": null,
      "cell_type": "code",
      "outputs": []
    }
  ],
  "nbformat": 4,
  "metadata": {
    "language_info": {
      "nbconvert_exporter": "python",
      "pygments_lexer": "ipython3",
      "name": "python",
      "codemirror_mode": {
        "name": "ipython",
        "version": 3
      },
      "mimetype": "text/x-python",
      "file_extension": ".py",
      "version": "3.4.6"
    },
    "kernelspec": {
      "display_name": "Python 3",
      "name": "python3",
      "language": "python"
    }
  },
  "nbformat_minor": 0
}