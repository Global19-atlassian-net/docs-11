{
  "nbformat_minor": 0,
  "nbformat": 4,
  "metadata": {
    "language_info": {
      "pygments_lexer": "ipython3",
      "codemirror_mode": {
        "version": 3,
        "name": "ipython"
      },
      "name": "python",
      "version": "3.4.2",
      "mimetype": "text/x-python",
      "nbconvert_exporter": "python",
      "file_extension": ".py"
    },
    "kernelspec": {
      "language": "python",
      "name": "python3",
      "display_name": "Python 3"
    }
  },
  "cells": [
    {
      "outputs": [],
      "cell_type": "code",
      "source": [
        "%matplotlib inline"
      ],
      "execution_count": null,
      "metadata": {
        "collapsed": false
      }
    },
    {
      "cell_type": "markdown",
      "source": [
        "\n# Contour finding\n\n\nWe use a marching squares method to find constant valued contours in an image.\nIn ``skimage.measure.find_contours``, array values are linearly interpolated\nto provide better precision of the output contours. Contours which intersect\nthe image edge are open; all others are closed.\n\nThe `marching squares algorithm\n<http://www.essi.fr/~lingrand/MarchingCubes/algo.html>`__ is a special case of\nthe marching cubes algorithm (Lorensen, William and Harvey E. Cline. Marching\nCubes: A High Resolution 3D Surface Construction Algorithm. Computer Graphics\n(SIGGRAPH 87 Proceedings) 21(4) July 1987, p. 163-170).\n\n\n"
      ],
      "metadata": {}
    },
    {
      "outputs": [],
      "cell_type": "code",
      "source": [
        "import numpy as np\nimport matplotlib.pyplot as plt\n\nfrom skimage import measure\n\n\n# Construct some test data\nx, y = np.ogrid[-np.pi:np.pi:100j, -np.pi:np.pi:100j]\nr = np.sin(np.exp((np.sin(x)**3 + np.cos(y)**2)))\n\n# Find contours at a constant value of 0.8\ncontours = measure.find_contours(r, 0.8)\n\n# Display the image and plot all contours found\nfig, ax = plt.subplots()\nax.imshow(r, interpolation='nearest', cmap=plt.cm.gray)\n\nfor n, contour in enumerate(contours):\n    ax.plot(contour[:, 1], contour[:, 0], linewidth=2)\n\nax.axis('image')\nax.set_xticks([])\nax.set_yticks([])\nplt.show()"
      ],
      "execution_count": null,
      "metadata": {
        "collapsed": false
      }
    }
  ]
}