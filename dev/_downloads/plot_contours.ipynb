{
  "nbformat": 4,
  "nbformat_minor": 0,
  "metadata": {
    "language_info": {
      "version": "3.4.2",
      "name": "python",
      "nbconvert_exporter": "python",
      "codemirror_mode": {
        "version": 3,
        "name": "ipython"
      },
      "file_extension": ".py",
      "pygments_lexer": "ipython3",
      "mimetype": "text/x-python"
    },
    "kernelspec": {
      "display_name": "Python 3",
      "language": "python",
      "name": "python3"
    }
  },
  "cells": [
    {
      "source": [
        "%matplotlib inline"
      ],
      "metadata": {
        "collapsed": false
      },
      "outputs": [],
      "execution_count": null,
      "cell_type": "code"
    },
    {
      "source": [
        "\n# Contour finding\n\n\n``skimage.measure.find_contours`` uses a marching squares method to find\nconstant valued contours in an image.  Array values are linearly interpolated\nto provide better precision of the output contours.  Contours which intersect\nthe image edge are open; all others are closed.\n\nThe `marching squares algorithm\n<http://www.essi.fr/~lingrand/MarchingCubes/algo.html>`__ is a special case of\nthe marching cubes algorithm (Lorensen, William and Harvey E. Cline. Marching\nCubes: A High Resolution 3D Surface Construction Algorithm. Computer Graphics\n(SIGGRAPH 87 Proceedings) 21(4) July 1987, p. 163-170).\n\n\n"
      ],
      "metadata": {},
      "cell_type": "markdown"
    },
    {
      "source": [
        "import numpy as np\nimport matplotlib.pyplot as plt\n\nfrom skimage import measure\n\n\n# Construct some test data\nx, y = np.ogrid[-np.pi:np.pi:100j, -np.pi:np.pi:100j]\nr = np.sin(np.exp((np.sin(x)**3 + np.cos(y)**2)))\n\n# Find contours at a constant value of 0.8\ncontours = measure.find_contours(r, 0.8)\n\n# Display the image and plot all contours found\nfig, ax = plt.subplots()\nax.imshow(r, interpolation='nearest', cmap=plt.cm.gray)\n\nfor n, contour in enumerate(contours):\n    ax.plot(contour[:, 1], contour[:, 0], linewidth=2)\n\nax.axis('image')\nax.set_xticks([])\nax.set_yticks([])\nplt.show()"
      ],
      "metadata": {
        "collapsed": false
      },
      "outputs": [],
      "execution_count": null,
      "cell_type": "code"
    }
  ]
}