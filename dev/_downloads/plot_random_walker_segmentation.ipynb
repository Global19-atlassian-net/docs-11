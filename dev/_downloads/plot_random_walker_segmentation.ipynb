{
  "cells": [
    {
      "metadata": {
        "collapsed": false
      },
      "cell_type": "code",
      "outputs": [],
      "execution_count": null,
      "source": [
        "%matplotlib inline"
      ]
    },
    {
      "metadata": {},
      "cell_type": "markdown",
      "source": [
        "\n# Random walker segmentation\n\n\nThe random walker algorithm [1]_  determines the segmentation of an image from\na set of markers labeling several phases (2 or more). An anisotropic diffusion\nequation is solved with tracers initiated at the markers' position. The local\ndiffusivity coefficient is greater if neighboring pixels have similar values,\nso that diffusion is difficult across high gradients. The label of each unknown\npixel is attributed to the label of the known marker that has the highest\nprobability to be reached first during this diffusion process.\n\nIn this example, two phases are clearly visible, but the data are too\nnoisy to perform the segmentation from the histogram only. We determine\nmarkers of the two phases from the extreme tails of the histogram of gray\nvalues, and use the random walker for the segmentation.\n\n.. [1] *Random walks for image segmentation*, Leo Grady, IEEE Trans. Pattern\n       Anal. Mach. Intell. 2006 Nov; 28(11):1768-83\n\n\n"
      ]
    },
    {
      "metadata": {
        "collapsed": false
      },
      "cell_type": "code",
      "outputs": [],
      "execution_count": null,
      "source": [
        "import numpy as np\nimport matplotlib.pyplot as plt\n\nfrom skimage.segmentation import random_walker\nfrom skimage.data import binary_blobs\nimport skimage\n\n# Generate noisy synthetic data\ndata = skimage.img_as_float(binary_blobs(length=128, seed=1))\ndata += 0.35 * np.random.randn(*data.shape)\nmarkers = np.zeros(data.shape, dtype=np.uint)\nmarkers[data < -0.3] = 1\nmarkers[data > 1.3] = 2\n\n# Run random walker algorithm\nlabels = random_walker(data, markers, beta=10, mode='bf')\n\n# Plot results\nfig, (ax1, ax2, ax3) = plt.subplots(1, 3, figsize=(8, 3.2),\n                                    sharex=True, sharey=True)\nax1.imshow(data, cmap='gray', interpolation='nearest')\nax1.axis('off')\nax1.set_adjustable('box-forced')\nax1.set_title('Noisy data')\nax2.imshow(markers, cmap='hot', interpolation='nearest')\nax2.axis('off')\nax2.set_adjustable('box-forced')\nax2.set_title('Markers')\nax3.imshow(labels, cmap='gray', interpolation='nearest')\nax3.axis('off')\nax3.set_adjustable('box-forced')\nax3.set_title('Segmentation')\n\nfig.tight_layout()\nplt.show()"
      ]
    }
  ],
  "metadata": {
    "kernelspec": {
      "display_name": "Python 3",
      "name": "python3",
      "language": "python"
    },
    "language_info": {
      "codemirror_mode": {
        "name": "ipython",
        "version": 3
      },
      "pygments_lexer": "ipython3",
      "mimetype": "text/x-python",
      "file_extension": ".py",
      "nbconvert_exporter": "python",
      "name": "python",
      "version": "3.4.2"
    }
  },
  "nbformat_minor": 0,
  "nbformat": 4
}