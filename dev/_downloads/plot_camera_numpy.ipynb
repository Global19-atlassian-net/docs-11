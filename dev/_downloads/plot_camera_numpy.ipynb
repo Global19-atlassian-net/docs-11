{
  "metadata": {
    "language_info": {
      "file_extension": ".py",
      "name": "python",
      "version": "3.4.6",
      "codemirror_mode": {
        "name": "ipython",
        "version": 3
      },
      "pygments_lexer": "ipython3",
      "nbconvert_exporter": "python",
      "mimetype": "text/x-python"
    },
    "kernelspec": {
      "name": "python3",
      "language": "python",
      "display_name": "Python 3"
    }
  },
  "nbformat": 4,
  "nbformat_minor": 0,
  "cells": [
    {
      "execution_count": null,
      "outputs": [],
      "cell_type": "code",
      "source": [
        "%matplotlib inline"
      ],
      "metadata": {
        "collapsed": false
      }
    },
    {
      "cell_type": "markdown",
      "source": [
        "\nUsing simple NumPy operations for manipulating images\n=====================================================\n\nThis script illustrates how to use basic NumPy operations, such as slicing,\nmasking and fancy indexing, in order to modify the pixel values of an image.\n\n"
      ],
      "metadata": {}
    },
    {
      "execution_count": null,
      "outputs": [],
      "cell_type": "code",
      "source": [
        "import numpy as np\nfrom skimage import data\nimport matplotlib.pyplot as plt\n\ncamera = data.camera()\ncamera[:10] = 0\nmask = camera < 87\ncamera[mask] = 255\ninds_x = np.arange(len(camera))\ninds_y = (4 * inds_x) % len(camera)\ncamera[inds_x, inds_y] = 0\n\nl_x, l_y = camera.shape[0], camera.shape[1]\nX, Y = np.ogrid[:l_x, :l_y]\nouter_disk_mask = (X - l_x / 2)**2 + (Y - l_y / 2)**2 > (l_x / 2)**2\ncamera[outer_disk_mask] = 0\n\nplt.figure(figsize=(4, 4))\nplt.imshow(camera, cmap='gray', interpolation='nearest')\nplt.axis('off')\nplt.show()"
      ],
      "metadata": {
        "collapsed": false
      }
    }
  ]
}