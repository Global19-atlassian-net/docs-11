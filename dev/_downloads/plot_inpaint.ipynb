{
  "nbformat": 3,
  "worksheets": [
    {
      "cells": [
        {
          "collapsed": false,
          "outputs": [],
          "cell_type": "code",
          "language": "python",
          "metadata": {},
          "input": [
            "%matplotlib inline"
          ]
        },
        {
          "source": "<div class=\"document\" id=\"inpainting\">\n<h1 class=\"title\">Inpainting</h1>\n<p>Inpainting [1] is the process of reconstructing lost or deteriorated\nparts of images and videos.</p>\n<p>The reconstruction is supposed to be performed in fully automatic way by\nexploiting the information presented in non-damaged regions.</p>\n<p>In this example, we show how the masked pixels get inpainted by\ninpainting algorithm based on 'biharmonic equation'-assumption [2] [3].</p>\n<table class=\"docutils footnote\" frame=\"void\" id=\"id1\" rules=\"none\">\n<colgroup><col class=\"label\" /><col /></colgroup>\n<tbody valign=\"top\">\n<tr><td class=\"label\">[1]</td><td>Wikipedia. Inpainting\n<a class=\"reference external\" href=\"https://en.wikipedia.org/wiki/Inpainting\">https://en.wikipedia.org/wiki/Inpainting</a></td></tr>\n</tbody>\n</table>\n<table class=\"docutils footnote\" frame=\"void\" id=\"id2\" rules=\"none\">\n<colgroup><col class=\"label\" /><col /></colgroup>\n<tbody valign=\"top\">\n<tr><td class=\"label\">[2]</td><td>Wikipedia. Biharmonic equation\n<a class=\"reference external\" href=\"https://en.wikipedia.org/wiki/Biharmonic_equation\">https://en.wikipedia.org/wiki/Biharmonic_equation</a></td></tr>\n</tbody>\n</table>\n<table class=\"docutils footnote\" frame=\"void\" id=\"id3\" rules=\"none\">\n<colgroup><col class=\"label\" /><col /></colgroup>\n<tbody valign=\"top\">\n<tr><td class=\"label\">[3]</td><td>N.S.Hoang, S.B.Damelin, &quot;On surface completion and image\ninpainting by biharmonic functions: numerical aspects&quot;,\n<a class=\"reference external\" href=\"http://www.ima.umn.edu/~damelin/biharmonic\">http://www.ima.umn.edu/~damelin/biharmonic</a></td></tr>\n</tbody>\n</table>\n</div>\n",
          "cell_type": "markdown",
          "metadata": {}
        },
        {
          "cell_type": "code",
          "outputs": [],
          "collapsed": false,
          "language": "python",
          "metadata": {},
          "input": "\nimport numpy as np\nimport matplotlib.pyplot as plt\n\nfrom skimage import data, color\nfrom skimage.restoration import inpaint\n\nimage_orig = data.astronaut()\n\n# Create mask with three defect regions: left, middle, right respectively\nmask = np.zeros(image_orig.shape[:-1])\nmask[20:60, 0:20] = 1\nmask[200:300, 150:170] = 1\nmask[50:100, 400:430] = 1\n\n# Defect image over the same region in each color channel\nimage_defect = image_orig.copy()\nfor layer in range(image_defect.shape[-1]):\n    image_defect[np.where(mask)] = 0\n\nimage_result = inpaint.inpaint_biharmonic(image_defect, mask, multichannel=True)\n\nfig, axes = plt.subplots(ncols=3, nrows=1)\n\naxes[0].set_title('Defected image')\naxes[0].imshow(image_orig)\naxes[0].set_xticks([]), axes[0].set_yticks([])\n\naxes[1].set_title('Defect mask')\naxes[1].imshow(mask, cmap=plt.cm.gray)\naxes[1].set_xticks([]), axes[1].set_yticks([])\n\naxes[2].set_title('Inpainted image')\naxes[2].imshow(image_result)\naxes[2].set_xticks([]), axes[2].set_yticks([])\n\nplt.show()\n"
        }
      ],
      "metadata": {}
    }
  ],
  "nbformat_minor": 0,
  "metadata": {
    "name": ""
  }
}