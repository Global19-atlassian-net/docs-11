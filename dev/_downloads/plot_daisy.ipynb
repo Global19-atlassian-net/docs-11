{
  "nbformat_minor": 0,
  "nbformat": 4,
  "metadata": {
    "language_info": {
      "file_extension": ".py",
      "version": "3.4.6",
      "mimetype": "text/x-python",
      "codemirror_mode": {
        "name": "ipython",
        "version": 3
      },
      "nbconvert_exporter": "python",
      "name": "python",
      "pygments_lexer": "ipython3"
    },
    "kernelspec": {
      "name": "python3",
      "display_name": "Python 3",
      "language": "python"
    }
  },
  "cells": [
    {
      "source": [
        "%matplotlib inline"
      ],
      "cell_type": "code",
      "execution_count": null,
      "outputs": [],
      "metadata": {
        "collapsed": false
      }
    },
    {
      "cell_type": "markdown",
      "source": [
        "\n# Dense DAISY feature description\n\n\nThe DAISY local image descriptor is based on gradient orientation histograms\nsimilar to the SIFT descriptor. It is formulated in a way that allows for fast\ndense extraction which is useful for e.g. bag-of-features image\nrepresentations.\n\nIn this example a limited number of DAISY descriptors are extracted at a large\nscale for illustrative purposes.\n\n"
      ],
      "metadata": {}
    },
    {
      "source": [
        "from skimage.feature import daisy\nfrom skimage import data\nimport matplotlib.pyplot as plt\n\n\nimg = data.camera()\ndescs, descs_img = daisy(img, step=180, radius=58, rings=2, histograms=6,\n                         orientations=8, visualize=True)\n\nfig, ax = plt.subplots()\nax.axis('off')\nax.imshow(descs_img)\ndescs_num = descs.shape[0] * descs.shape[1]\nax.set_title('%i DAISY descriptors extracted:' % descs_num)\nplt.show()"
      ],
      "cell_type": "code",
      "execution_count": null,
      "outputs": [],
      "metadata": {
        "collapsed": false
      }
    }
  ]
}