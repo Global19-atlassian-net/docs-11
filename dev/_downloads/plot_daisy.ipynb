{
  "nbformat_minor": 0,
  "metadata": {
    "kernelspec": {
      "name": "python3",
      "display_name": "Python 3",
      "language": "python"
    },
    "language_info": {
      "file_extension": ".py",
      "codemirror_mode": {
        "name": "ipython",
        "version": 3
      },
      "pygments_lexer": "ipython3",
      "name": "python",
      "mimetype": "text/x-python",
      "nbconvert_exporter": "python",
      "version": "3.4.2"
    }
  },
  "cells": [
    {
      "execution_count": null,
      "outputs": [],
      "cell_type": "code",
      "metadata": {
        "collapsed": false
      },
      "source": [
        "%matplotlib inline"
      ]
    },
    {
      "cell_type": "markdown",
      "metadata": {},
      "source": [
        "\n# Dense DAISY feature description\n\n\nThe DAISY local image descriptor is based on gradient orientation histograms\nsimilar to the SIFT descriptor. It is formulated in a way that allows for fast\ndense extraction which is useful for e.g. bag-of-features image\nrepresentations.\n\nIn this example a limited number of DAISY descriptors are extracted at a large\nscale for illustrative purposes.\n\n"
      ]
    },
    {
      "execution_count": null,
      "outputs": [],
      "cell_type": "code",
      "metadata": {
        "collapsed": false
      },
      "source": [
        "from skimage.feature import daisy\nfrom skimage import data\nimport matplotlib.pyplot as plt\n\n\nimg = data.camera()\ndescs, descs_img = daisy(img, step=180, radius=58, rings=2, histograms=6,\n                         orientations=8, visualize=True)\n\nfig, ax = plt.subplots()\nax.axis('off')\nax.imshow(descs_img)\ndescs_num = descs.shape[0] * descs.shape[1]\nax.set_title('%i DAISY descriptors extracted:' % descs_num)\nplt.show()"
      ]
    }
  ],
  "nbformat": 4
}