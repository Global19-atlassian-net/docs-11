{
  "metadata": {
    "name": ""
  },
  "nbformat": 3,
  "nbformat_minor": 0,
  "worksheets": [
    {
      "metadata": {},
      "cells": [
        {
          "language": "python",
          "metadata": {},
          "cell_type": "code",
          "outputs": [],
          "input": [
            "%matplotlib inline"
          ],
          "collapsed": false
        },
        {
          "metadata": {},
          "source": "<div class=\"document\" id=\"dense-daisy-feature-description\">\n<h1 class=\"title\">Dense DAISY feature description</h1>\n<p>The DAISY local image descriptor is based on gradient orientation histograms\nsimilar to the SIFT descriptor. It is formulated in a way that allows for fast\ndense extraction which is useful for e.g. bag-of-features image\nrepresentations.</p>\n<p>In this example a limited number of DAISY descriptors are extracted at a large\nscale for illustrative purposes.</p>\n</div>\n",
          "cell_type": "markdown"
        },
        {
          "language": "python",
          "metadata": {},
          "cell_type": "code",
          "outputs": [],
          "input": "from skimage.feature import daisy\nfrom skimage import data\nimport matplotlib.pyplot as plt\n\n\nimg = data.camera()\ndescs, descs_img = daisy(img, step=180, radius=58, rings=2, histograms=6,\n                         orientations=8, visualize=True)\n\nfig, ax = plt.subplots()\nax.axis('off')\nax.imshow(descs_img)\ndescs_num = descs.shape[0] * descs.shape[1]\nax.set_title('%i DAISY descriptors extracted:' % descs_num)\nplt.show()\n",
          "collapsed": false
        }
      ]
    }
  ]
}