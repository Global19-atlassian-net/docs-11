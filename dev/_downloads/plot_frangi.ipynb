{
  "nbformat": 4,
  "metadata": {
    "language_info": {
      "name": "python",
      "pygments_lexer": "ipython3",
      "codemirror_mode": {
        "name": "ipython",
        "version": 3
      },
      "mimetype": "text/x-python",
      "version": "3.4.2",
      "nbconvert_exporter": "python",
      "file_extension": ".py"
    },
    "kernelspec": {
      "display_name": "Python 3",
      "name": "python3",
      "language": "python"
    }
  },
  "nbformat_minor": 0,
  "cells": [
    {
      "cell_type": "code",
      "outputs": [],
      "source": [
        "%matplotlib inline"
      ],
      "metadata": {
        "collapsed": false
      },
      "execution_count": null
    },
    {
      "cell_type": "markdown",
      "source": [
        "\n# Frangi filter\n\n\nThe Frangi and hybrid Hessian filters can be used to detect continuous\nedges, such as vessels, wrinkles, and rivers.\n\n"
      ],
      "metadata": {}
    },
    {
      "cell_type": "code",
      "outputs": [],
      "source": [
        "from skimage.data import camera\nfrom skimage.filters import frangi, hessian\n\nimport matplotlib.pyplot as plt\n\nimage = camera()\n\nfig, ax = plt.subplots(ncols=3, subplot_kw={'adjustable': 'box-forced'})\n\nax[0].imshow(image, cmap=plt.cm.gray)\nax[0].set_title('Original image')\n\nax[1].imshow(frangi(image), cmap=plt.cm.gray)\nax[1].set_title('Frangi filter result')\n\nax[2].imshow(hessian(image), cmap=plt.cm.gray)\nax[2].set_title('Hybrid Hessian filter result')\n\nfor a in ax:\n    a.axis('off')\n\nplt.tight_layout()"
      ],
      "metadata": {
        "collapsed": false
      },
      "execution_count": null
    }
  ]
}