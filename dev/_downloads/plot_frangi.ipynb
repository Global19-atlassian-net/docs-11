{
  "nbformat_minor": 0,
  "metadata": {
    "language_info": {
      "version": "3.4.2",
      "name": "python",
      "codemirror_mode": {
        "version": 3,
        "name": "ipython"
      },
      "file_extension": ".py",
      "nbconvert_exporter": "python",
      "mimetype": "text/x-python",
      "pygments_lexer": "ipython3"
    },
    "kernelspec": {
      "name": "python3",
      "language": "python",
      "display_name": "Python 3"
    }
  },
  "nbformat": 4,
  "cells": [
    {
      "outputs": [],
      "execution_count": null,
      "metadata": {
        "collapsed": false
      },
      "source": [
        "%matplotlib inline"
      ],
      "cell_type": "code"
    },
    {
      "source": [
        "\n# Frangi filter\n\n\nThe Frangi and hybrid Hessian filters can be used to detect continuous\nedges, such as vessels, wrinkles, and rivers.\n\n"
      ],
      "metadata": {},
      "cell_type": "markdown"
    },
    {
      "outputs": [],
      "execution_count": null,
      "metadata": {
        "collapsed": false
      },
      "source": [
        "from skimage.data import camera\nfrom skimage.filters import frangi, hessian\n\nimport matplotlib.pyplot as plt\n\nimage = camera()\n\nfig, ax = plt.subplots(ncols=3, subplot_kw={'adjustable': 'box-forced'})\n\nax[0].imshow(image, cmap=plt.cm.gray)\nax[0].set_title('Original image')\n\nax[1].imshow(frangi(image), cmap=plt.cm.gray)\nax[1].set_title('Frangi filter result')\n\nax[2].imshow(hessian(image), cmap=plt.cm.gray)\nax[2].set_title('Hybrid Hessian filter result')\n\nfor a in ax:\n    a.axis('off')\n\nplt.tight_layout()"
      ],
      "cell_type": "code"
    }
  ]
}