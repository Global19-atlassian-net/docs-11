{
  "nbformat": 4,
  "cells": [
    {
      "outputs": [],
      "source": [
        "%matplotlib inline"
      ],
      "execution_count": null,
      "cell_type": "code",
      "metadata": {
        "collapsed": false
      }
    },
    {
      "source": [
        "\n# Frangi filter\n\n\nThe Frangi and hybrid Hessian filters can be used to detect continuous\nedges, such as vessels, wrinkles, and rivers.\n\n"
      ],
      "cell_type": "markdown",
      "metadata": {}
    },
    {
      "outputs": [],
      "source": [
        "from skimage.data import camera\nfrom skimage.filters import frangi, hessian\n\nimport matplotlib.pyplot as plt\n\nimage = camera()\n\nfig, ax = plt.subplots(ncols=3, subplot_kw={'adjustable': 'box-forced'})\n\nax[0].imshow(image, cmap=plt.cm.gray)\nax[0].set_title('Original image')\n\nax[1].imshow(frangi(image), cmap=plt.cm.gray)\nax[1].set_title('Frangi filter result')\n\nax[2].imshow(hessian(image), cmap=plt.cm.gray)\nax[2].set_title('Hybrid Hessian filter result')\n\nfor a in ax:\n    a.axis('off')\n\nplt.tight_layout()"
      ],
      "execution_count": null,
      "cell_type": "code",
      "metadata": {
        "collapsed": false
      }
    }
  ],
  "metadata": {
    "kernelspec": {
      "language": "python",
      "display_name": "Python 3",
      "name": "python3"
    },
    "language_info": {
      "version": "3.4.6",
      "file_extension": ".py",
      "pygments_lexer": "ipython3",
      "nbconvert_exporter": "python",
      "mimetype": "text/x-python",
      "codemirror_mode": {
        "version": 3,
        "name": "ipython"
      },
      "name": "python"
    }
  },
  "nbformat_minor": 0
}