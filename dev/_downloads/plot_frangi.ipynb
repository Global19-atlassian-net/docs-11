{
  "metadata": {
    "kernelspec": {
      "language": "python",
      "display_name": "Python 3",
      "name": "python3"
    },
    "language_info": {
      "mimetype": "text/x-python",
      "pygments_lexer": "ipython3",
      "nbconvert_exporter": "python",
      "name": "python",
      "codemirror_mode": {
        "name": "ipython",
        "version": 3
      },
      "file_extension": ".py",
      "version": "3.4.6"
    }
  },
  "nbformat": 4,
  "cells": [
    {
      "source": [
        "%matplotlib inline"
      ],
      "metadata": {
        "collapsed": false
      },
      "cell_type": "code",
      "execution_count": null,
      "outputs": []
    },
    {
      "source": [
        "\n# Frangi filter\n\n\nThe Frangi and hybrid Hessian filters can be used to detect continuous\nedges, such as vessels, wrinkles, and rivers.\n\n"
      ],
      "metadata": {},
      "cell_type": "markdown"
    },
    {
      "source": [
        "from skimage.data import camera\nfrom skimage.filters import frangi, hessian\n\nimport matplotlib.pyplot as plt\n\nimage = camera()\n\nfig, ax = plt.subplots(ncols=3, subplot_kw={'adjustable': 'box-forced'})\n\nax[0].imshow(image, cmap=plt.cm.gray)\nax[0].set_title('Original image')\n\nax[1].imshow(frangi(image), cmap=plt.cm.gray)\nax[1].set_title('Frangi filter result')\n\nax[2].imshow(hessian(image), cmap=plt.cm.gray)\nax[2].set_title('Hybrid Hessian filter result')\n\nfor a in ax:\n    a.axis('off')\n\nplt.tight_layout()"
      ],
      "metadata": {
        "collapsed": false
      },
      "cell_type": "code",
      "execution_count": null,
      "outputs": []
    }
  ],
  "nbformat_minor": 0
}