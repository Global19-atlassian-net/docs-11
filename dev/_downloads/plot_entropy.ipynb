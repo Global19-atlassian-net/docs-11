{
  "nbformat_minor": 0,
  "nbformat": 4,
  "metadata": {
    "kernelspec": {
      "display_name": "Python 3",
      "name": "python3",
      "language": "python"
    },
    "language_info": {
      "file_extension": ".py",
      "pygments_lexer": "ipython3",
      "nbconvert_exporter": "python",
      "name": "python",
      "mimetype": "text/x-python",
      "version": "3.4.2",
      "codemirror_mode": {
        "name": "ipython",
        "version": 3
      }
    }
  },
  "cells": [
    {
      "cell_type": "code",
      "source": [
        "%matplotlib inline"
      ],
      "outputs": [],
      "metadata": {
        "collapsed": false
      },
      "execution_count": null
    },
    {
      "cell_type": "markdown",
      "source": [
        "\n# Entropy\n\n\nIn information theory, information entropy is the log-base-2 of the number of\npossible outcomes for a message.\n\nFor an image, local entropy is related to the complexity contained in a given\nneighborhood, typically defined by a structuring element. The entropy filter can\ndetect subtle variations in the local gray level distribution.\n\nIn the first example, the image is composed of two surfaces with two slightly\ndifferent distributions. The image has a uniform random distribution in the\nrange [-14, +14] in the middle of the image and a uniform random distribution in\nthe range [-15, 15] at the image borders, both centered at a gray value of 128.\nTo detect the central square, we compute the local entropy measure using a\ncircular structuring element of a radius big enough to capture the local gray\nlevel distribution. The second example shows how to detect texture in the camera\nimage using a smaller structuring element.\n\n\n"
      ],
      "metadata": {}
    },
    {
      "cell_type": "code",
      "source": [
        "import matplotlib.pyplot as plt\nimport numpy as np\n\nfrom skimage import data\nfrom skimage.util import img_as_ubyte\nfrom skimage.filters.rank import entropy\nfrom skimage.morphology import disk\n\n# First example: object detection.\n\nnoise_mask = 28 * np.ones((128, 128), dtype=np.uint8)\nnoise_mask[32:-32, 32:-32] = 30\n\nnoise = (noise_mask * np.random.random(noise_mask.shape) - 0.5 *\n         noise_mask).astype(np.uint8)\nimg = noise + 128\n\nentr_img = entropy(img, disk(10))\n\nfig, (ax0, ax1, ax2) = plt.subplots(1, 3, figsize=(8, 3))\n\nax0.imshow(noise_mask, cmap=plt.cm.gray)\nax0.set_xlabel(\"Noise mask\")\nax1.imshow(img, cmap=plt.cm.gray)\nax1.set_xlabel(\"Noisy image\")\nax2.imshow(entr_img)\nax2.set_xlabel(\"Local entropy\")\n\nfig.tight_layout()\n\n# Second example: texture detection.\n\nimage = img_as_ubyte(data.camera())\n\nfig, (ax0, ax1) = plt.subplots(ncols=2, figsize=(10, 4), sharex=True,\n                               sharey=True,\n                               subplot_kw={\"adjustable\": \"box-forced\"})\n\nimg0 = ax0.imshow(image, cmap=plt.cm.gray)\nax0.set_title(\"Image\")\nax0.axis(\"off\")\nfig.colorbar(img0, ax=ax0)\n\nimg1 = ax1.imshow(entropy(image, disk(5)), cmap=plt.cm.gray)\nax1.set_title(\"Entropy\")\nax1.axis(\"off\")\nfig.colorbar(img1, ax=ax1)\n\nfig.tight_layout()\n\nplt.show()"
      ],
      "outputs": [],
      "metadata": {
        "collapsed": false
      },
      "execution_count": null
    }
  ]
}