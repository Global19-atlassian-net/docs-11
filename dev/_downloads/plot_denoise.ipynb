{
  "cells": [
    {
      "execution_count": null,
      "cell_type": "code",
      "source": [
        "%matplotlib inline"
      ],
      "metadata": {
        "collapsed": false
      },
      "outputs": []
    },
    {
      "cell_type": "markdown",
      "source": [
        "\n# Denoising a picture\n\n\nIn this example, we denoise a noisy version of the picture of the astronaut\nEileen Collins using the total variation and bilateral denoising filter.\n\nThese algorithms typically produce \"posterized\" images with flat domains\nseparated by sharp edges. It is possible to change the degree of posterization\nby controlling the tradeoff between denoising and faithfulness to the original\nimage.\n\nTotal variation filter\n----------------------\n\nThe result of this filter is an image that has a minimal total variation norm,\nwhile being as close to the initial image as possible. The total variation is\nthe L1 norm of the gradient of the image.\n\nBilateral filter\n----------------\n\nA bilateral filter is an edge-preserving and noise reducing filter. It averages\npixels based on their spatial closeness and radiometric similarity.\n\n\n"
      ],
      "metadata": {}
    },
    {
      "execution_count": null,
      "cell_type": "code",
      "source": [
        "import numpy as np\nimport matplotlib.pyplot as plt\n\nfrom skimage import data, img_as_float\nfrom skimage.restoration import denoise_tv_chambolle, denoise_bilateral, denoise_wavelet\nfrom skimage.util import random_noise\n\n\nastro = img_as_float(data.astronaut())\nastro = astro[220:300, 220:320]\n\nnoisy = random_noise(astro, var=(0.6 * astro.std())**2)\n\nfig, ax = plt.subplots(nrows=2, ncols=4, figsize=(8, 5), sharex=True,\n                       sharey=True, subplot_kw={'adjustable': 'box-forced'})\n\nplt.gray()\n\nax[0, 0].imshow(noisy)\nax[0, 0].axis('off')\nax[0, 0].set_title('noisy')\nax[0, 1].imshow(denoise_tv_chambolle(noisy, weight=0.1, multichannel=True))\nax[0, 1].axis('off')\nax[0, 1].set_title('TV')\nax[0, 2].imshow(denoise_bilateral(noisy, sigma_color=0.05, sigma_spatial=15))\nax[0, 2].axis('off')\nax[0, 2].set_title('Bilateral')\nax[0, 3].imshow(denoise_wavelet(noisy, sigma=0.4*astro.std(),\n                                multichannel=True))\nax[0, 3].axis('off')\nax[0, 3].set_title('Wavelet')\n\nax[1, 1].imshow(denoise_tv_chambolle(noisy, weight=0.2, multichannel=True))\nax[1, 1].axis('off')\nax[1, 1].set_title('(more) TV')\nax[1, 2].imshow(denoise_bilateral(noisy, sigma_color=0.1, sigma_spatial=15))\nax[1, 2].axis('off')\nax[1, 2].set_title('(more) Bilateral')\nax[1, 3].imshow(denoise_wavelet(noisy, sigma=0.6*astro.std(),\n                                multichannel=True))\nax[1, 3].axis('off')\nax[1, 3].set_title('(more) Wavelet')\nax[1, 0].imshow(astro)\nax[1, 0].axis('off')\nax[1, 0].set_title('original')\n\nfig.tight_layout()\n\nplt.show()"
      ],
      "metadata": {
        "collapsed": false
      },
      "outputs": []
    }
  ],
  "nbformat_minor": 0,
  "metadata": {
    "kernelspec": {
      "language": "python",
      "name": "python3",
      "display_name": "Python 3"
    },
    "language_info": {
      "file_extension": ".py",
      "codemirror_mode": {
        "version": 3,
        "name": "ipython"
      },
      "version": "3.4.2",
      "nbconvert_exporter": "python",
      "pygments_lexer": "ipython3",
      "mimetype": "text/x-python",
      "name": "python"
    }
  },
  "nbformat": 4
}