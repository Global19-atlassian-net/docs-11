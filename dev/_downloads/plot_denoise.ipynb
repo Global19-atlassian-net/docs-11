{
  "metadata": {
    "kernelspec": {
      "language": "python",
      "name": "python3",
      "display_name": "Python 3"
    },
    "language_info": {
      "pygments_lexer": "ipython3",
      "name": "python",
      "mimetype": "text/x-python",
      "codemirror_mode": {
        "name": "ipython",
        "version": 3
      },
      "version": "3.4.2",
      "file_extension": ".py",
      "nbconvert_exporter": "python"
    }
  },
  "nbformat_minor": 0,
  "cells": [
    {
      "source": [
        "%matplotlib inline"
      ],
      "cell_type": "code",
      "outputs": [],
      "metadata": {
        "collapsed": false
      },
      "execution_count": null
    },
    {
      "source": [
        "\n# Denoising a picture\n\n\nIn this example, we denoise a noisy version of the picture of the astronaut\nEileen Collins using the total variation and bilateral denoising filter.\n\nThese algorithms typically produce \"posterized\" images with flat domains\nseparated by sharp edges. It is possible to change the degree of posterization\nby controlling the tradeoff between denoising and faithfulness to the original\nimage.\n\nTotal variation filter\n----------------------\n\nThe result of this filter is an image that has a minimal total variation norm,\nwhile being as close to the initial image as possible. The total variation is\nthe L1 norm of the gradient of the image.\n\nBilateral filter\n----------------\n\nA bilateral filter is an edge-preserving and noise reducing filter. It averages\npixels based on their spatial closeness and radiometric similarity.\n\n\n"
      ],
      "cell_type": "markdown",
      "metadata": {}
    },
    {
      "source": [
        "import numpy as np\nimport matplotlib.pyplot as plt\n\nfrom skimage import data, img_as_float\nfrom skimage.restoration import denoise_tv_chambolle, denoise_bilateral\n\n\nastro = img_as_float(data.astronaut())\nastro = astro[220:300, 220:320]\n\nnoisy = astro + 0.6 * astro.std() * np.random.random(astro.shape)\nnoisy = np.clip(noisy, 0, 1)\n\nfig, ax = plt.subplots(nrows=2, ncols=3, figsize=(8, 5), sharex=True,\n                       sharey=True, subplot_kw={'adjustable': 'box-forced'})\n\nplt.gray()\n\nax[0, 0].imshow(noisy)\nax[0, 0].axis('off')\nax[0, 0].set_title('noisy')\nax[0, 1].imshow(denoise_tv_chambolle(noisy, weight=0.1, multichannel=True))\nax[0, 1].axis('off')\nax[0, 1].set_title('TV')\nax[0, 2].imshow(denoise_bilateral(noisy, sigma_color=0.05, sigma_spatial=15))\nax[0, 2].axis('off')\nax[0, 2].set_title('Bilateral')\n\nax[1, 0].imshow(denoise_tv_chambolle(noisy, weight=0.2, multichannel=True))\nax[1, 0].axis('off')\nax[1, 0].set_title('(more) TV')\nax[1, 1].imshow(denoise_bilateral(noisy, sigma_color=0.1, sigma_spatial=15))\nax[1, 1].axis('off')\nax[1, 1].set_title('(more) Bilateral')\nax[1, 2].imshow(astro)\nax[1, 2].axis('off')\nax[1, 2].set_title('original')\n\nfig.tight_layout()\n\nplt.show()"
      ],
      "cell_type": "code",
      "outputs": [],
      "metadata": {
        "collapsed": false
      },
      "execution_count": null
    }
  ],
  "nbformat": 4
}