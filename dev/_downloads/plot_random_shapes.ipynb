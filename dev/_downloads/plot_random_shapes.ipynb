{
  "metadata": {
    "kernelspec": {
      "name": "python3",
      "language": "python",
      "display_name": "Python 3"
    },
    "language_info": {
      "name": "python",
      "codemirror_mode": {
        "version": 3,
        "name": "ipython"
      },
      "nbconvert_exporter": "python",
      "pygments_lexer": "ipython3",
      "version": "3.4.6",
      "file_extension": ".py",
      "mimetype": "text/x-python"
    }
  },
  "nbformat": 4,
  "nbformat_minor": 0,
  "cells": [
    {
      "metadata": {
        "collapsed": false
      },
      "outputs": [],
      "source": [
        "%matplotlib inline"
      ],
      "cell_type": "code",
      "execution_count": null
    },
    {
      "metadata": {},
      "cell_type": "markdown",
      "source": [
        "\n# Random Shapes\n\n\nExample of generating random shapes with particular properties.\n\n"
      ]
    },
    {
      "metadata": {
        "collapsed": false
      },
      "outputs": [],
      "source": [
        "import matplotlib.pyplot as plt\n\nfrom skimage.draw import random_shapes\n\n# Let's start simple and generate a 128x128 image\n# with a single grayscale rectangle.\nresult = random_shapes((128, 128), max_shapes=1, shape='rectangle', gray=True)\n\n# We get back a tuple consisting of (1) the image with the generated shapes\n# and (2) a list of label tuples with the kind of shape (e.g. circle, rectangle)\n# and ((r0, r1), (c0, c1)) coordinates.\nimage, labels = result\nprint(image.shape, labels)\n\n# We can visualize the images.\nfig, axis = plt.subplots()\naxis.imshow(image.squeeze(), cmap='gray')\naxis.set_axis_off()\n\n# The generated images can be much more complex. For example, let's try many\n# shapes of any color. If we want the colors to be particularly light, we can\n# set the min_pixel_intensity to a high value from the range [0,255].\nimage1, _ = random_shapes((128, 128), max_shapes=10, min_pixel_intensity=100)\n\n# Moar :)\nimage2, _ = random_shapes((128, 128), max_shapes=10, min_pixel_intensity=200)\nimage3, _ = random_shapes((128, 128), max_shapes=10, min_pixel_intensity=50)\nimage4, _ = random_shapes((128, 128), max_shapes=10, min_pixel_intensity=0)\n\nfig, axes = plt.subplots(2, 2, figsize=(10, 10))\nfor ax, image in zip(axes.ravel(), [image1, image2, image3, image4]):\n    ax.imshow(image)\n    ax.set_axis_off()\n\n# These shapes are well suited to test segmentation algorithms. Often, we want\n# shapes to overlap to test the algorithm. This is also possible:\nimage, _ = random_shapes(\n    (128, 128), min_shapes=5, max_shapes=10, min_size=20, allow_overlap=True\n)\nfig, axis = plt.subplots()\naxis.imshow(image)\naxis.set_axis_off()\n\nplt.show()"
      ],
      "cell_type": "code",
      "execution_count": null
    }
  ]
}