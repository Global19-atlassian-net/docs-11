{
  "nbformat_minor": 0,
  "cells": [
    {
      "execution_count": null,
      "source": [
        "%matplotlib inline"
      ],
      "metadata": {
        "collapsed": false
      },
      "outputs": [],
      "cell_type": "code"
    },
    {
      "source": [
        "\n# Random Shapes\n\n\nExample of generating random shapes with particular properties.\n\n"
      ],
      "metadata": {},
      "cell_type": "markdown"
    },
    {
      "execution_count": null,
      "source": [
        "import matplotlib.pyplot as plt\n\nfrom skimage.draw import random_shapes\n\n# Let's start simple and generate a 128x128 image\n# with a single grayscale rectangle.\nresult = random_shapes((128, 128), max_shapes=1, shape='rectangle', gray=True)\n\n# We get back a tuple consisting of (1) the image with the generated shapes\n# and (2) a list of label tuples with the kind of shape (e.g. circle, rectangle)\n# and ((r0, r1), (c0, c1)) coordinates.\nimage, labels = result\nprint(image.shape, labels)\n\n# We can visualize the images.\nfig, axis = plt.subplots()\naxis.imshow(image.squeeze(), cmap='gray')\naxis.set_axis_off()\n\n# The generated images can be much more complex. For example, let's try many\n# shapes of any color. If we want the colors to be particularly light, we can\n# set the min_pixel_intensity to a high value from the range [0,255].\nimage1, _ = random_shapes((128, 128), max_shapes=10, min_pixel_intensity=100)\n\n# Moar :)\nimage2, _ = random_shapes((128, 128), max_shapes=10, min_pixel_intensity=200)\nimage3, _ = random_shapes((128, 128), max_shapes=10, min_pixel_intensity=50)\nimage4, _ = random_shapes((128, 128), max_shapes=10, min_pixel_intensity=0)\n\nfig, axes = plt.subplots(2, 2, figsize=(10, 10))\nfor ax, image in zip(axes.ravel(), [image1, image2, image3, image4]):\n    ax.imshow(image)\n    ax.set_axis_off()\n\n# These shapes are well suited to test segmentation algorithms. Often, we want\n# shapes to overlap to test the algorithm. This is also possible:\nimage, _ = random_shapes(\n    (128, 128), min_shapes=5, max_shapes=10, min_size=20, allow_overlap=True\n)\nfig, axis = plt.subplots()\naxis.imshow(image)\naxis.set_axis_off()\n\nplt.show()"
      ],
      "metadata": {
        "collapsed": false
      },
      "outputs": [],
      "cell_type": "code"
    }
  ],
  "metadata": {
    "language_info": {
      "codemirror_mode": {
        "version": 3,
        "name": "ipython"
      },
      "file_extension": ".py",
      "version": "3.4.6",
      "mimetype": "text/x-python",
      "pygments_lexer": "ipython3",
      "name": "python",
      "nbconvert_exporter": "python"
    },
    "kernelspec": {
      "language": "python",
      "name": "python3",
      "display_name": "Python 3"
    }
  },
  "nbformat": 4
}