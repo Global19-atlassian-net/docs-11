{
  "nbformat_minor": 0,
  "metadata": {
    "kernelspec": {
      "language": "python",
      "name": "python3",
      "display_name": "Python 3"
    },
    "language_info": {
      "file_extension": ".py",
      "nbconvert_exporter": "python",
      "mimetype": "text/x-python",
      "pygments_lexer": "ipython3",
      "name": "python",
      "version": "3.4.2",
      "codemirror_mode": {
        "name": "ipython",
        "version": 3
      }
    }
  },
  "nbformat": 4,
  "cells": [
    {
      "cell_type": "code",
      "source": [
        "%matplotlib inline"
      ],
      "outputs": [],
      "metadata": {
        "collapsed": false
      },
      "execution_count": null
    },
    {
      "cell_type": "markdown",
      "source": [
        "\n# Corner detection\n\n\nDetect corner points using the Harris corner detector and determine subpixel\nposition of corners.\n\n.. [1] http://en.wikipedia.org/wiki/Corner_detection\n.. [2] http://en.wikipedia.org/wiki/Interest_point_detection\n\n\n"
      ],
      "metadata": {}
    },
    {
      "cell_type": "code",
      "source": [
        "from matplotlib import pyplot as plt\n\nfrom skimage import data\nfrom skimage.feature import corner_harris, corner_subpix, corner_peaks\nfrom skimage.transform import warp, AffineTransform\nfrom skimage.draw import ellipse\n\n\ntform = AffineTransform(scale=(1.3, 1.1), rotation=1, shear=0.7,\n                        translation=(210, 50))\nimage = warp(data.checkerboard(), tform.inverse, output_shape=(350, 350))\nrr, cc = ellipse(310, 175, 10, 100)\nimage[rr, cc] = 1\nimage[180:230, 10:60] = 1\nimage[230:280, 60:110] = 1\n\ncoords = corner_peaks(corner_harris(image), min_distance=5)\ncoords_subpix = corner_subpix(image, coords, window_size=13)\n\nfig, ax = plt.subplots()\nax.imshow(image, interpolation='nearest', cmap=plt.cm.gray)\nax.plot(coords[:, 1], coords[:, 0], '.b', markersize=3)\nax.plot(coords_subpix[:, 1], coords_subpix[:, 0], '+r', markersize=15)\nax.axis((0, 350, 350, 0))\nplt.show()"
      ],
      "outputs": [],
      "metadata": {
        "collapsed": false
      },
      "execution_count": null
    }
  ]
}