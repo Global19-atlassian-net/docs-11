{
  "nbformat_minor": 0,
  "nbformat": 4,
  "metadata": {
    "language_info": {
      "version": "3.4.6",
      "file_extension": ".py",
      "nbconvert_exporter": "python",
      "codemirror_mode": {
        "version": 3,
        "name": "ipython"
      },
      "pygments_lexer": "ipython3",
      "mimetype": "text/x-python",
      "name": "python"
    },
    "kernelspec": {
      "display_name": "Python 3",
      "language": "python",
      "name": "python3"
    }
  },
  "cells": [
    {
      "source": [
        "%matplotlib inline"
      ],
      "execution_count": null,
      "outputs": [],
      "cell_type": "code",
      "metadata": {
        "collapsed": false
      }
    },
    {
      "source": [
        "\n# Corner detection\n\n\nDetect corner points using the Harris corner detector and determine the\nsubpixel position of corners ([1]_, [2]_).\n\n.. [1] http://en.wikipedia.org/wiki/Corner_detection\n.. [2] http://en.wikipedia.org/wiki/Interest_point_detection\n\n\n"
      ],
      "cell_type": "markdown",
      "metadata": {}
    },
    {
      "source": [
        "from matplotlib import pyplot as plt\n\nfrom skimage import data\nfrom skimage.feature import corner_harris, corner_subpix, corner_peaks\nfrom skimage.transform import warp, AffineTransform\nfrom skimage.draw import ellipse\n\n\ntform = AffineTransform(scale=(1.3, 1.1), rotation=1, shear=0.7,\n                        translation=(210, 50))\nimage = warp(data.checkerboard(), tform.inverse, output_shape=(350, 350))\nrr, cc = ellipse(310, 175, 10, 100)\nimage[rr, cc] = 1\nimage[180:230, 10:60] = 1\nimage[230:280, 60:110] = 1\n\ncoords = corner_peaks(corner_harris(image), min_distance=5)\ncoords_subpix = corner_subpix(image, coords, window_size=13)\n\nfig, ax = plt.subplots()\nax.imshow(image, interpolation='nearest', cmap=plt.cm.gray)\nax.plot(coords[:, 1], coords[:, 0], '.b', markersize=3)\nax.plot(coords_subpix[:, 1], coords_subpix[:, 0], '+r', markersize=15)\nax.axis((0, 350, 350, 0))\nplt.show()"
      ],
      "execution_count": null,
      "outputs": [],
      "cell_type": "code",
      "metadata": {
        "collapsed": false
      }
    }
  ]
}