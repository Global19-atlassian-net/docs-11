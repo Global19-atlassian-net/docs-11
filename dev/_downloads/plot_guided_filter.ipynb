{
  "cells": [
    {
      "cell_type": "code",
      "execution_count": null,
      "metadata": {
        "collapsed": false
      },
      "outputs": [],
      "source": [
        "%matplotlib inline"
      ]
    },
    {
      "cell_type": "markdown",
      "metadata": {},
      "source": [
        "\n# Guided filter\n\n\nThe guided filter is a fast, non-approximate edge preserving filter. It uses\nthe local pixel statistics of an input image and a guide image to solve a\nlinear regression problem to compute the smoothed image.\n\nThe authors make the following comment: \"Try the guided filter in any situation\nwhen the bilateral filter works well. The guided filter is much faster and\nsometimes (though not always) works even better.\" [1]_\n\nThere are two adjustable parameters: the `window_size`, which controls the\nsize of the neighbourhood considered in computing the statistics, and `eta`,\nwhich controls the strength of the smoothing. Larger `eta`'s approximately\ncorrespond to stronger smoothing.\n\n.. [1] Guided Image Filtering, Kaiming He, Jian Sun, and Xiaoou Tang,\n       http://kaiminghe.com/eccv10/index.html, 2010,\n       DOI: 10.1007/978-3-642-15549-9_1\n\n"
      ]
    },
    {
      "cell_type": "code",
      "execution_count": null,
      "metadata": {
        "collapsed": false
      },
      "outputs": [],
      "source": [
        "import numpy as np\nfrom skimage.data import immunohistochemistry\nfrom skimage.restoration import guided_filter\nimport matplotlib.pyplot as plt\n\n\n# Create a gray rectangle on a black background and add some gaussian noise.\nsquare_gray = np.zeros((400, 400))\nsquare_gray[100:300, 100:300] = 0.5\nsquare_noisy = square_gray + np.random.normal(\n    scale=0.4, size=square_gray.shape)\nsquare_noisy = np.clip(square_noisy, 0, 1)\n\n# Filter the noisy gray square with itself at lower and higher eta,\n# with the same window radius for each.\nguided_low = guided_filter(square_noisy, 0.1, 5)\nguided_high = guided_filter(square_noisy, 0.5, 5)\n\n# Visualize the results\nfig, axes = plt.subplots(nrows=1, ncols=3, figsize=(14, 5))\nax = axes.flatten()\n\nax[0].imshow(square_noisy, cmap='gray', vmin=0, vmax=1)\nax[0].axis('off')\nax[0].set_title('Original')\n\nax[1].imshow(guided_low, cmap='gray', vmin=0, vmax=1)\nax[1].axis('off')\nax[1].set_title('Eta = 0.1')\n\nax[2].imshow(guided_high, cmap='gray', vmin=0, vmax=1)\nax[2].axis('off')\nax[2].set_title('Eta = 0.5')\n\nfig.tight_layout()\nplt.show()\n\n# Filter the noisy gray square with the original image at lower and higher eta,\n# with the same window radius for each.\nguided_low = guided_filter(square_noisy, 0.1, 5, guide=square_gray)\nguided_high = guided_filter(square_noisy, 0.5, 5, guide=square_gray)\n\n# Visualize the results\nfig, axes = plt.subplots(nrows=1, ncols=3, figsize=(14, 5))\nax = axes.flatten()\n\nax[0].imshow(square_noisy, cmap='gray', vmin=0, vmax=1)\nax[0].axis('off')\nax[0].set_title('Original')\n\nax[1].imshow(guided_low, cmap='gray', vmin=0, vmax=1)\nax[1].axis('off')\nax[1].set_title('Eta = 0.1')\n\nax[2].imshow(guided_high, cmap='gray', vmin=0, vmax=1)\nax[2].axis('off')\nax[2].set_title('Eta = 0.5')\n\nfig.tight_layout()\nplt.show()\n\n# Load a color image and add gaussian noise independently\n# to each of the channels of a color image.\nihc = immunohistochemistry() / 255.0\nihc_noisy = ihc + np.random.normal(scale=0.3, size=ihc.shape)\nihc_noisy = np.clip(ihc_noisy, 0, 1)\nihc_noisy_gray = ihc_noisy.mean(axis=2)\n\nguided_low = guided_filter(ihc_noisy, 0.02, 5, guide=ihc_noisy_gray)\nguided_high = guided_filter(ihc_noisy, 0.1, 5, guide=ihc_noisy_gray)\n\n# Visualize the results\nfig, axes = plt.subplots(nrows=1, ncols=3, figsize=(14, 5))\nax = axes.flatten()\n\nax[0].imshow(ihc_noisy)\nax[0].axis('off')\nax[0].set_title('Original with noise')\n\nax[1].imshow(guided_low)\nax[1].axis('off')\nax[1].set_title('Eta = 0.02')\n\nax[2].imshow(guided_high)\nax[2].axis('off')\nax[2].set_title('Eta = 0.1')\n\nfig.tight_layout()\nplt.show()"
      ]
    }
  ],
  "metadata": {
    "kernelspec": {
      "display_name": "Python 3",
      "language": "python",
      "name": "python3"
    },
    "language_info": {
      "codemirror_mode": {
        "name": "ipython",
        "version": 3
      },
      "file_extension": ".py",
      "mimetype": "text/x-python",
      "name": "python",
      "nbconvert_exporter": "python",
      "pygments_lexer": "ipython3",
      "version": "3.6.2"
    }
  },
  "nbformat": 4,
  "nbformat_minor": 0
}