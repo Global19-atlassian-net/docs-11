{
  "nbformat": 4,
  "nbformat_minor": 0,
  "metadata": {
    "kernelspec": {
      "language": "python",
      "display_name": "Python 3",
      "name": "python3"
    },
    "language_info": {
      "codemirror_mode": {
        "name": "ipython",
        "version": 3
      },
      "pygments_lexer": "ipython3",
      "file_extension": ".py",
      "name": "python",
      "version": "3.4.2",
      "mimetype": "text/x-python",
      "nbconvert_exporter": "python"
    }
  },
  "cells": [
    {
      "source": [
        "%matplotlib inline"
      ],
      "cell_type": "code",
      "metadata": {
        "collapsed": false
      },
      "execution_count": null,
      "outputs": []
    },
    {
      "cell_type": "markdown",
      "source": [
        "\n# Find the intersection of two segmentations\n\n\nWhen segmenting an image, you may want to combine multiple alternative\nsegmentations. The `skimage.segmentation.join_segmentations` function\ncomputes the join of two segmentations, in which a pixel is placed in\nthe same segment if and only if it is in the same segment in _both_\nsegmentations.\n\n\n"
      ],
      "metadata": {}
    },
    {
      "source": [
        "import numpy as np\nfrom scipy import ndimage as ndi\nimport matplotlib.pyplot as plt\n\nfrom skimage.filters import sobel\nfrom skimage.segmentation import slic, join_segmentations\nfrom skimage.morphology import watershed\nfrom skimage.color import label2rgb\nfrom skimage import data, img_as_float\n\ncoins = img_as_float(data.coins())\n\n# make segmentation using edge-detection and watershed\nedges = sobel(coins)\nmarkers = np.zeros_like(coins)\nforeground, background = 1, 2\nmarkers[coins < 30.0 / 255] = background\nmarkers[coins > 150.0 / 255] = foreground\n\nws = watershed(edges, markers)\nseg1 = ndi.label(ws == foreground)[0]\n\n# make segmentation using SLIC superpixels\nseg2 = slic(coins, n_segments=117, max_iter=160, sigma=1, compactness=0.75,\n            multichannel=False)\n\n# combine the two\nsegj = join_segmentations(seg1, seg2)\n\n# show the segmentations\nfig, axes = plt.subplots(ncols=4, figsize=(9, 2.5), sharex=True, sharey=True,\n                         subplot_kw={'adjustable': 'box-forced'})\naxes[0].imshow(coins, cmap=plt.cm.gray, interpolation='nearest')\naxes[0].set_title('Image')\n\ncolor1 = label2rgb(seg1, image=coins, bg_label=0)\naxes[1].imshow(color1, interpolation='nearest')\naxes[1].set_title('Sobel+Watershed')\n\ncolor2 = label2rgb(seg2, image=coins, image_alpha=0.5)\naxes[2].imshow(color2, interpolation='nearest')\naxes[2].set_title('SLIC superpixels')\n\ncolor3 = label2rgb(segj, image=coins, image_alpha=0.5)\naxes[3].imshow(color3, interpolation='nearest')\naxes[3].set_title('Join')\n\nfor ax in axes:\n    ax.axis('off')\nfig.tight_layout()\nplt.show()"
      ],
      "cell_type": "code",
      "metadata": {
        "collapsed": false
      },
      "execution_count": null,
      "outputs": []
    }
  ]
}