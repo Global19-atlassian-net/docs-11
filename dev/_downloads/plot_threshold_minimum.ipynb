{
  "nbformat": 4,
  "metadata": {
    "kernelspec": {
      "language": "python",
      "name": "python3",
      "display_name": "Python 3"
    },
    "language_info": {
      "file_extension": ".py",
      "name": "python",
      "mimetype": "text/x-python",
      "codemirror_mode": {
        "name": "ipython",
        "version": 3
      },
      "pygments_lexer": "ipython3",
      "nbconvert_exporter": "python",
      "version": "3.4.2"
    }
  },
  "nbformat_minor": 0,
  "cells": [
    {
      "metadata": {
        "collapsed": false
      },
      "outputs": [],
      "execution_count": null,
      "cell_type": "code",
      "source": [
        "%matplotlib inline"
      ]
    },
    {
      "metadata": {},
      "source": [
        "\n# Minimum Algorithm For Thresholding\n\n\nThe minimum algorithm takes a histogram of the image and smooths it\nrepeatedly until there are only two peaks in the histogram.  Then it\nfinds the minimum value between the two peaks.  After smoothing the\nhistogram, there can be multiple pixel values with the minimum histogram\ncount, so you can pick the 'min', 'mid', or 'max' of these values.\n\n\n"
      ],
      "cell_type": "markdown"
    },
    {
      "metadata": {
        "collapsed": false
      },
      "outputs": [],
      "execution_count": null,
      "cell_type": "code",
      "source": [
        "import matplotlib.pyplot as plt\n\nfrom skimage import data\nfrom skimage.filters.thresholding import threshold_minimum\n\nimage = data.camera()\n\nthreshold = threshold_minimum(image, bias='min')\nbinarized = image > threshold\n\nfig, axes = plt.subplots(nrows=2, figsize=(7, 8))\nax0, ax1 = axes\nplt.gray()\n\nax0.imshow(image)\nax0.set_title('Original image')\n\nax1.imshow(binarized)\nax1.set_title('Result')\n\nfor ax in axes:\n    ax.axis('off')\n\nplt.show()"
      ]
    }
  ]
}