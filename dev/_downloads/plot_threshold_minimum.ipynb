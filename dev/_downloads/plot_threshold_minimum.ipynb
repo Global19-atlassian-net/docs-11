{
  "metadata": {
    "kernelspec": {
      "display_name": "Python 3",
      "name": "python3",
      "language": "python"
    },
    "language_info": {
      "codemirror_mode": {
        "name": "ipython",
        "version": 3
      },
      "mimetype": "text/x-python",
      "nbconvert_exporter": "python",
      "pygments_lexer": "ipython3",
      "name": "python",
      "file_extension": ".py",
      "version": "3.4.2"
    }
  },
  "cells": [
    {
      "execution_count": null,
      "source": [
        "%matplotlib inline"
      ],
      "metadata": {
        "collapsed": false
      },
      "cell_type": "code",
      "outputs": []
    },
    {
      "source": [
        "\n# Minimum Algorithm For Thresholding\n\n\nThe minimum algorithm takes a histogram of the image and smooths it\nrepeatedly until there are only two peaks in the histogram.  Then it\nfinds the minimum value between the two peaks.  After smoothing the\nhistogram, there can be multiple pixel values with the minimum histogram\ncount, so you can pick the 'min', 'mid', or 'max' of these values.\n\n\n"
      ],
      "metadata": {},
      "cell_type": "markdown"
    },
    {
      "execution_count": null,
      "source": [
        "import matplotlib.pyplot as plt\n\nfrom skimage import data\nfrom skimage.filters.thresholding import threshold_minimum\n\nimage = data.camera()\n\nthreshold = threshold_minimum(image, bias='min')\nbinarized = image > threshold\n\nfig, axes = plt.subplots(nrows=2, figsize=(7, 8))\nax0, ax1 = axes\nplt.gray()\n\nax0.imshow(image)\nax0.set_title('Original image')\n\nax1.imshow(binarized)\nax1.set_title('Result')\n\nfor ax in axes:\n    ax.axis('off')\n\nplt.show()"
      ],
      "metadata": {
        "collapsed": false
      },
      "cell_type": "code",
      "outputs": []
    }
  ],
  "nbformat": 4,
  "nbformat_minor": 0
}