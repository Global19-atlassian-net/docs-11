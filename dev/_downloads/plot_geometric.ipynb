{
  "cells": [
    {
      "metadata": {
        "collapsed": false
      },
      "outputs": [],
      "cell_type": "code",
      "source": [
        "%matplotlib inline"
      ],
      "execution_count": null
    },
    {
      "metadata": {},
      "cell_type": "markdown",
      "source": [
        "\n# Using geometric transformations\n\n\nIn this example, we will see how to use geometric transformations in the context\nof image processing.\n\n"
      ]
    },
    {
      "metadata": {
        "collapsed": false
      },
      "outputs": [],
      "cell_type": "code",
      "source": [
        "from __future__ import print_function\n\nimport math\nimport numpy as np\nimport matplotlib.pyplot as plt\n\nfrom skimage import data\nfrom skimage import transform as tf\n\nmargins = dict(hspace=0.01, wspace=0.01, top=1, bottom=0, left=0, right=1)"
      ],
      "execution_count": null
    },
    {
      "metadata": {},
      "cell_type": "markdown",
      "source": [
        "Basics\n======\n\nSeveral different geometric transformation types are supported: similarity,\naffine, projective and polynomial.\n\nGeometric transformations can either be created using the explicit\nparameters (e.g. scale, shear, rotation and translation) or the\ntransformation matrix:\n\nFirst we create a transformation using explicit parameters:\n\n"
      ]
    },
    {
      "metadata": {
        "collapsed": false
      },
      "outputs": [],
      "cell_type": "code",
      "source": [
        "tform = tf.SimilarityTransform(scale=1, rotation=math.pi / 2,\n                               translation=(0, 1))\nprint(tform.params)"
      ],
      "execution_count": null
    },
    {
      "metadata": {},
      "cell_type": "markdown",
      "source": [
        "Alternatively you can define a transformation by the transformation matrix\nitself:\n\n"
      ]
    },
    {
      "metadata": {
        "collapsed": false
      },
      "outputs": [],
      "cell_type": "code",
      "source": [
        "matrix = tform.params.copy()\nmatrix[1, 2] = 2\ntform2 = tf.SimilarityTransform(matrix)"
      ],
      "execution_count": null
    },
    {
      "metadata": {},
      "cell_type": "markdown",
      "source": [
        "These transformation objects can then be used to apply forward and inverse\ncoordinate transformations between the source and destination coordinate\nsystems:\n\n"
      ]
    },
    {
      "metadata": {
        "collapsed": false
      },
      "outputs": [],
      "cell_type": "code",
      "source": [
        "coord = [1, 0]\nprint(tform2(coord))\nprint(tform2.inverse(tform(coord)))"
      ],
      "execution_count": null
    },
    {
      "metadata": {},
      "cell_type": "markdown",
      "source": [
        "Image warping\n=============\n\nGeometric transformations can also be used to warp images:\n\n"
      ]
    },
    {
      "metadata": {
        "collapsed": false
      },
      "outputs": [],
      "cell_type": "code",
      "source": [
        "text = data.text()\n\ntform = tf.SimilarityTransform(scale=1, rotation=math.pi / 4,\n                               translation=(text.shape[0] / 2, -100))\n\nrotated = tf.warp(text, tform)\nback_rotated = tf.warp(rotated, tform.inverse)\n\nfig, (ax1, ax2, ax3) = plt.subplots(ncols=3, figsize=(8, 3))\nfig.subplots_adjust(**margins)\nplt.gray()\nax1.imshow(text)\nax1.axis('off')\nax2.imshow(rotated)\nax2.axis('off')\nax3.imshow(back_rotated)\nax3.axis('off')"
      ],
      "execution_count": null
    },
    {
      "metadata": {},
      "cell_type": "markdown",
      "source": [
        "Parameter estimation\n====================\n\nIn addition to the basic functionality mentioned above you can also\nestimate the parameters of a geometric transformation using the least-\nsquares method.\n\nThis can amongst other things be used for image registration or\nrectification, where you have a set of control points or\nhomologous/corresponding points in two images.\n\nLet's assume we want to recognize letters on a photograph which was not\ntaken from the front but at a certain angle. In the simplest case of a\nplane paper surface the letters are projectively distorted. Simple matching\nalgorithms would not be able to match such symbols. One solution to this\nproblem would be to warp the image so that the distortion is removed and\nthen apply a matching algorithm:\n\n"
      ]
    },
    {
      "metadata": {
        "collapsed": false
      },
      "outputs": [],
      "cell_type": "code",
      "source": [
        "text = data.text()\n\nsrc = np.array((\n    (0, 0),\n    (0, 50),\n    (300, 50),\n    (300, 0)\n))\ndst = np.array((\n    (155, 15),\n    (65, 40),\n    (260, 130),\n    (360, 95)\n))\n\ntform3 = tf.ProjectiveTransform()\ntform3.estimate(src, dst)\nwarped = tf.warp(text, tform3, output_shape=(50, 300))\n\nfig, (ax1, ax2) = plt.subplots(nrows=2, figsize=(8, 3))\nfig.subplots_adjust(**margins)\nplt.gray()\nax1.imshow(text)\nax1.plot(dst[:, 0], dst[:, 1], '.r')\nax1.axis('off')\nax2.imshow(warped)\nax2.axis('off')"
      ],
      "execution_count": null
    }
  ],
  "nbformat_minor": 0,
  "nbformat": 4,
  "metadata": {
    "kernelspec": {
      "display_name": "Python 3",
      "language": "python",
      "name": "python3"
    },
    "language_info": {
      "file_extension": ".py",
      "mimetype": "text/x-python",
      "nbconvert_exporter": "python",
      "version": "3.4.2",
      "codemirror_mode": {
        "version": 3,
        "name": "ipython"
      },
      "pygments_lexer": "ipython3",
      "name": "python"
    }
  }
}